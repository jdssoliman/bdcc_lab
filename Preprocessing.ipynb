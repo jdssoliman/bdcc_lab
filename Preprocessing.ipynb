{
 "cells": [
  {
   "cell_type": "code",
   "execution_count": 14,
   "id": "a51c8bbe-0c9f-4c28-80c5-677008dc46d5",
   "metadata": {
    "execution": {
     "iopub.execute_input": "2024-05-07T14:06:02.714042Z",
     "iopub.status.busy": "2024-05-07T14:06:02.713422Z",
     "iopub.status.idle": "2024-05-07T14:06:02.722169Z",
     "shell.execute_reply": "2024-05-07T14:06:02.720749Z",
     "shell.execute_reply.started": "2024-05-07T14:06:02.713988Z"
    }
   },
   "outputs": [],
   "source": [
    "import os\n",
    "import zipfile\n",
    "import glob\n",
    "from pyspark.sql.types import (StructType, StructField, StringType,\n",
    "IntegerType, FloatType, TimestampType, LongType)\n",
    "from pyspark.sql import SparkSession\n",
    "from pyspark.sql import functions as F"
   ]
  },
  {
   "cell_type": "markdown",
   "id": "4cbaa30d-6fa2-4b71-bd50-942e0a3275c0",
   "metadata": {},
   "source": [
    "# **Check for missing files**\n",
    "---"
   ]
  },
  {
   "cell_type": "markdown",
   "id": "a77f2fb4-975f-4bfb-94f8-007eb6fcc47e",
   "metadata": {},
   "source": [
    "<b style='color:red'>Insert Jed's Code</b>\n",
    "- ideally the missing files are in a list"
   ]
  },
  {
   "cell_type": "code",
   "execution_count": 2,
   "id": "13d31109-c5e7-4cb9-88fd-d827ed8dad4c",
   "metadata": {
    "execution": {
     "iopub.execute_input": "2024-05-07T13:05:18.801950Z",
     "iopub.status.busy": "2024-05-07T13:05:18.800824Z",
     "iopub.status.idle": "2024-05-07T13:05:19.461311Z",
     "shell.execute_reply": "2024-05-07T13:05:19.460751Z",
     "shell.execute_reply.started": "2024-05-07T13:05:18.801888Z"
    }
   },
   "outputs": [],
   "source": [
    "# Define the target directory\n",
    "target_directory = '/mnt/data/public/gdeltv2/gkg'\n",
    "prefix = '201610'\n",
    "suffix = '.gkg.csv.zip'\n",
    "\n",
    "# List all files in the directory that match the pattern (start with the prefix and end with the suffix)\n",
    "filtered_files = [\n",
    "    file for file in os.listdir(target_directory)\n",
    "    if file.startswith(prefix) and file.endswith(suffix)\n",
    "]"
   ]
  },
  {
   "cell_type": "code",
   "execution_count": 3,
   "id": "6c5e9273-6ae4-4b8b-8127-d1448f7c8ae7",
   "metadata": {
    "execution": {
     "iopub.execute_input": "2024-05-07T13:07:59.502231Z",
     "iopub.status.busy": "2024-05-07T13:07:59.501536Z",
     "iopub.status.idle": "2024-05-07T13:07:59.513902Z",
     "shell.execute_reply": "2024-05-07T13:07:59.513202Z",
     "shell.execute_reply.started": "2024-05-07T13:07:59.502166Z"
    }
   },
   "outputs": [
    {
     "data": {
      "text/plain": [
       "False"
      ]
     },
     "execution_count": 3,
     "metadata": {},
     "output_type": "execute_result"
    }
   ],
   "source": [
    "# Confirm that the missing files identified are indeed not in the directory\n",
    "\n",
    "# Change this to include all\n",
    "'20161002174500.gkg.csv.zip' in filtered_files"
   ]
  },
  {
   "cell_type": "markdown",
   "id": "9c8e1508-8a57-424c-a02c-6ecdf38647dd",
   "metadata": {},
   "source": [
    "# **Unzip the files**\n",
    "---"
   ]
  },
  {
   "cell_type": "code",
   "execution_count": 6,
   "id": "8551db60-76ec-43d6-ab27-2909525988c2",
   "metadata": {
    "execution": {
     "iopub.execute_input": "2024-05-07T13:12:47.519367Z",
     "iopub.status.busy": "2024-05-07T13:12:47.518727Z",
     "iopub.status.idle": "2024-05-07T13:16:52.059701Z",
     "shell.execute_reply": "2024-05-07T13:16:52.057679Z",
     "shell.execute_reply.started": "2024-05-07T13:12:47.519310Z"
    }
   },
   "outputs": [
    {
     "name": "stdout",
     "output_type": "stream",
     "text": [
      "Extraction completed. Files were extracted to: /home/msds2024/pmartinez/cpt1_shared/slt1a/bdcc/201610\n"
     ]
    }
   ],
   "source": [
    "# Define the directory containing the zip files and the pattern to search for\n",
    "zip_directory = '/home/msds2024/pmartinez/cpt1_shared/data'\n",
    "pattern = \"*.gkg.csv.zip\"\n",
    "\n",
    "# Define the output directory where the files will be extracted\n",
    "output_directory = '/home/msds2024/pmartinez/cpt1_shared/slt1a/bdcc/201610'\n",
    "\n",
    "# Create the output directory if it doesn't exist\n",
    "os.makedirs(output_directory, exist_ok=True)\n",
    "\n",
    "# Get a list of all files matching the pattern\n",
    "zip_files = glob.glob(os.path.join(zip_directory, pattern))\n",
    "\n",
    "# Extract each zip file to the output directory\n",
    "for zip_filepath in zip_files:\n",
    "    with zipfile.ZipFile(zip_filepath, 'r') as zip_ref:\n",
    "        zip_ref.extractall(output_directory)\n",
    "\n",
    "print(f\"Extraction completed. Files were extracted to: {output_directory}\")"
   ]
  },
  {
   "cell_type": "markdown",
   "id": "3ebf8ca7-1d2d-444d-b549-4f2bb906817b",
   "metadata": {},
   "source": [
    "# **Check the total file size of the CSV files**\n",
    "---"
   ]
  },
  {
   "cell_type": "code",
   "execution_count": 7,
   "id": "820d458c-04d0-45d6-9c94-119d591069a3",
   "metadata": {
    "execution": {
     "iopub.execute_input": "2024-05-07T13:17:24.791664Z",
     "iopub.status.busy": "2024-05-07T13:17:24.790119Z",
     "iopub.status.idle": "2024-05-07T13:17:25.814755Z",
     "shell.execute_reply": "2024-05-07T13:17:25.813148Z",
     "shell.execute_reply.started": "2024-05-07T13:17:24.791603Z"
    }
   },
   "outputs": [
    {
     "name": "stdout",
     "output_type": "stream",
     "text": [
      "Total size of files in '/home/msds2024/pmartinez/cpt1_shared/slt1a/bdcc/201610': 23.99 GB\n"
     ]
    }
   ],
   "source": [
    "# Define the target directory\n",
    "target_directory = '/home/msds2024/pmartinez/cpt1_shared/slt1a/bdcc/201610'\n",
    "\n",
    "# Initialize a variable to store the total size\n",
    "total_size = 0\n",
    "\n",
    "# Walk through all files and subdirectories in the specified directory\n",
    "for dirpath, dirnames, filenames in os.walk(target_directory):\n",
    "    for file in filenames:\n",
    "        # Get the full path of the file\n",
    "        filepath = os.path.join(dirpath, file)\n",
    "        \n",
    "        # Only consider if it's a file (not a directory), then add its size\n",
    "        if os.path.isfile(filepath):\n",
    "            total_size += os.path.getsize(filepath)\n",
    "\n",
    "# Convert the size to gigabytes (GB)\n",
    "total_size_gb = total_size / (1024 * 1024 * 1024)\n",
    "\n",
    "# Print out the total size in GB\n",
    "print(f\"Total size of files in '{target_directory}': {total_size_gb:.2f} GB\")"
   ]
  },
  {
   "cell_type": "markdown",
   "id": "7f3276ac-fb9a-44c5-bc19-bf46bbf74e56",
   "metadata": {},
   "source": [
    "# **Convert the CSV files to parquet for faster execution**"
   ]
  },
  {
   "cell_type": "code",
   "execution_count": 15,
   "id": "2b40f197-7315-495c-969f-447e22bf7df4",
   "metadata": {
    "execution": {
     "iopub.execute_input": "2024-05-07T14:06:05.342142Z",
     "iopub.status.busy": "2024-05-07T14:06:05.341884Z",
     "iopub.status.idle": "2024-05-07T14:06:08.741776Z",
     "shell.execute_reply": "2024-05-07T14:06:08.740300Z",
     "shell.execute_reply.started": "2024-05-07T14:06:05.342123Z"
    }
   },
   "outputs": [],
   "source": [
    "spark = (SparkSession\n",
    "     .builder\n",
    "     .master('local[*]') # Master URL;\n",
    "     .getOrCreate())"
   ]
  },
  {
   "cell_type": "code",
   "execution_count": 16,
   "id": "6bc4f8d2-0a5b-4f50-ba47-04f1da2b65bf",
   "metadata": {
    "execution": {
     "iopub.execute_input": "2024-05-07T14:06:08.746275Z",
     "iopub.status.busy": "2024-05-07T14:06:08.745089Z",
     "iopub.status.idle": "2024-05-07T14:06:18.203309Z",
     "shell.execute_reply": "2024-05-07T14:06:18.202364Z",
     "shell.execute_reply.started": "2024-05-07T14:06:08.746208Z"
    }
   },
   "outputs": [],
   "source": [
    "schema = StructType([\n",
    "    StructField(\"GKGRECORDID\", StringType(), True),\n",
    "    StructField(\"V2.1DATE\", LongType(), True),\n",
    "    StructField(\"V2SOURCECOLLECTIONIDENTIFIER\", IntegerType(), True),\n",
    "    StructField(\"V2SOURCECOMMONNAME\", StringType(), True),\n",
    "    StructField(\"V2DOCUMENTIDENTIFIER\", StringType(), True),\n",
    "    StructField(\"V1COUNTS\", StringType(), True),\n",
    "    StructField(\"V2.1COUNTS\", StringType(), True),\n",
    "    StructField(\"V1THEMES\", StringType(), True),\n",
    "    StructField(\"V2ENHANCEDTHEMES\", StringType(), True),\n",
    "    StructField(\"V1LOCATIONS\", StringType(), True),\n",
    "    StructField(\"V2ENHANCEDLOCATIONS\", StringType(), True),\n",
    "    StructField(\"V1PERSONS\", StringType(), True),\n",
    "    StructField(\"V2ENHANCEDPERSONS\", StringType(), True),\n",
    "    StructField(\"V1ORGANIZATIONS\", StringType(), True),\n",
    "    StructField(\"V2ENHANCEDORGANIZATIONS\", StringType(), True),\n",
    "    StructField(\"V1.5TONE\", StringType(), True),\n",
    "    StructField(\"V2.1ENHANCEDDATES\", StringType(), True),\n",
    "    StructField(\"V2GCAM\", StringType(), True),\n",
    "    StructField(\"V2.1SHARINGIMAGE\", StringType(), True),\n",
    "    StructField(\"V2.1RELATEDIMAGES\", StringType(), True),\n",
    "    StructField(\"V2.1SOCIALIMAGEEMBEDS\", StringType(), True),\n",
    "    StructField(\"V2.1SOCIALVIDEOEMBEDS\", StringType(), True),\n",
    "    StructField(\"V2.1QUOTATIONS\", StringType(), True),\n",
    "    StructField(\"V2.1ALLNAMES\", StringType(), True),\n",
    "    StructField(\"V2.1AMOUNTS\", StringType(), True),\n",
    "    StructField(\"V2.1TRANSLATIONINFO\", StringType(), True),\n",
    "    StructField(\"V2EXTRASXML\", StringType(), True)\n",
    "])\n",
    "\n",
    "# Define the directory and file pattern\n",
    "directory = '/home/msds2024/username/cptx_shared/sltxa/bdcc/201610'\n",
    "file_pattern = '201610*.gkg.csv'\n",
    "search_path = os.path.join(directory, file_pattern)\n",
    "\n",
    "# List all files matching the pattern\n",
    "files = glob.glob(search_path)\n",
    "\n",
    "# Check if any files match the pattern\n",
    "if not files:\n",
    "    print(f\"No files found matching pattern '{file_pattern}' in '{directory}'\")\n",
    "else:\n",
    "    # Read the files into a Spark DataFrame with the specified schema\n",
    "    df_gkg = spark.read.csv(files, sep='\\t', schema=schema)"
   ]
  },
  {
   "cell_type": "code",
   "execution_count": 17,
   "id": "b1318670-9aee-448f-a945-f5af4438f319",
   "metadata": {
    "execution": {
     "iopub.execute_input": "2024-05-07T14:06:29.939653Z",
     "iopub.status.busy": "2024-05-07T14:06:29.938606Z",
     "iopub.status.idle": "2024-05-07T14:06:31.899793Z",
     "shell.execute_reply": "2024-05-07T14:06:31.898694Z",
     "shell.execute_reply.started": "2024-05-07T14:06:29.939595Z"
    }
   },
   "outputs": [
    {
     "data": {
      "text/html": [
       "<div>\n",
       "<style scoped>\n",
       "    .dataframe tbody tr th:only-of-type {\n",
       "        vertical-align: middle;\n",
       "    }\n",
       "\n",
       "    .dataframe tbody tr th {\n",
       "        vertical-align: top;\n",
       "    }\n",
       "\n",
       "    .dataframe thead th {\n",
       "        text-align: right;\n",
       "    }\n",
       "</style>\n",
       "<table border=\"1\" class=\"dataframe\">\n",
       "  <thead>\n",
       "    <tr style=\"text-align: right;\">\n",
       "      <th></th>\n",
       "      <th>GKGRECORDID</th>\n",
       "      <th>V2.1DATE</th>\n",
       "      <th>V2SOURCECOLLECTIONIDENTIFIER</th>\n",
       "      <th>V2SOURCECOMMONNAME</th>\n",
       "      <th>V2DOCUMENTIDENTIFIER</th>\n",
       "      <th>V1COUNTS</th>\n",
       "      <th>V2.1COUNTS</th>\n",
       "      <th>V1THEMES</th>\n",
       "      <th>V2ENHANCEDTHEMES</th>\n",
       "      <th>V1LOCATIONS</th>\n",
       "      <th>...</th>\n",
       "      <th>V2GCAM</th>\n",
       "      <th>V2.1SHARINGIMAGE</th>\n",
       "      <th>V2.1RELATEDIMAGES</th>\n",
       "      <th>V2.1SOCIALIMAGEEMBEDS</th>\n",
       "      <th>V2.1SOCIALVIDEOEMBEDS</th>\n",
       "      <th>V2.1QUOTATIONS</th>\n",
       "      <th>V2.1ALLNAMES</th>\n",
       "      <th>V2.1AMOUNTS</th>\n",
       "      <th>V2.1TRANSLATIONINFO</th>\n",
       "      <th>V2EXTRASXML</th>\n",
       "    </tr>\n",
       "  </thead>\n",
       "  <tbody>\n",
       "    <tr>\n",
       "      <th>0</th>\n",
       "      <td>20161004163000-0</td>\n",
       "      <td>20161004163000</td>\n",
       "      <td>2</td>\n",
       "      <td>BBC Monitoring</td>\n",
       "      <td>Tolo TV in Dari /BBC Monitoring/(c) BBC</td>\n",
       "      <td>None</td>\n",
       "      <td>None</td>\n",
       "      <td>TAX_FNCACT;TAX_FNCACT_LEADERS;TAX_TERROR_GROUP...</td>\n",
       "      <td>LEADER,2404;LEADER,2739;TAX_TERROR_GROUP_TALIB...</td>\n",
       "      <td>4#Pol-E Khomri, Baghlan, Afghanistan#AF#AF03#3...</td>\n",
       "      <td>...</td>\n",
       "      <td>wc:592,c1.2:2,c12.1:25,c12.10:46,c12.12:19,c12...</td>\n",
       "      <td>None</td>\n",
       "      <td>None</td>\n",
       "      <td>None</td>\n",
       "      <td>None</td>\n",
       "      <td>None</td>\n",
       "      <td>Jawed Salim,797;Kunduz Province,900;National D...</td>\n",
       "      <td>None</td>\n",
       "      <td>None</td>\n",
       "      <td>None</td>\n",
       "    </tr>\n",
       "    <tr>\n",
       "      <th>1</th>\n",
       "      <td>20161004163000-1</td>\n",
       "      <td>20161004163000</td>\n",
       "      <td>2</td>\n",
       "      <td>BBC Monitoring</td>\n",
       "      <td>/BBC Monitoring/(c) BBC</td>\n",
       "      <td>None</td>\n",
       "      <td>None</td>\n",
       "      <td>SOC_EXPRESSREGRET;TAX_WORLDLANGUAGES;TAX_WORLD...</td>\n",
       "      <td>WB_2467_TERRORISM,1507;WB_2433_CONFLICT_AND_VI...</td>\n",
       "      <td>1#United States#US#US#38#-97#US;4#Moscow, Mosk...</td>\n",
       "      <td>...</td>\n",
       "      <td>wc:243,c12.1:17,c12.10:30,c12.12:12,c12.13:10,...</td>\n",
       "      <td>None</td>\n",
       "      <td>None</td>\n",
       "      <td>None</td>\n",
       "      <td>None</td>\n",
       "      <td>971|32||are continuing and will continue</td>\n",
       "      <td>Dmitry Peskov,245;United States,562;United Sta...</td>\n",
       "      <td>2,countries,767;</td>\n",
       "      <td>None</td>\n",
       "      <td>None</td>\n",
       "    </tr>\n",
       "    <tr>\n",
       "      <th>2</th>\n",
       "      <td>20161004163000-2</td>\n",
       "      <td>20161004163000</td>\n",
       "      <td>2</td>\n",
       "      <td>BBC Monitoring</td>\n",
       "      <td>ORTM TV in French /BBC Monitoring/(c) BBC</td>\n",
       "      <td>None</td>\n",
       "      <td>None</td>\n",
       "      <td>LEADER;TAX_FNCACT;TAX_FNCACT_PRESIDENT;USPEC_P...</td>\n",
       "      <td>EPU_POLICY_GOVERNMENT,1242;TAX_ETHNICITY_FRENC...</td>\n",
       "      <td>4#Valetta, Malta (General), Malta#MT#MT00#35.8...</td>\n",
       "      <td>...</td>\n",
       "      <td>wc:187,c12.1:5,c12.10:18,c12.12:4,c12.13:4,c12...</td>\n",
       "      <td>None</td>\n",
       "      <td>None</td>\n",
       "      <td>None</td>\n",
       "      <td>None</td>\n",
       "      <td>None</td>\n",
       "      <td>Ibrahim Boubacar Keita,35;Francois Hollande,10...</td>\n",
       "      <td>2,heads of state discussed,924;</td>\n",
       "      <td>None</td>\n",
       "      <td>None</td>\n",
       "    </tr>\n",
       "  </tbody>\n",
       "</table>\n",
       "<p>3 rows × 27 columns</p>\n",
       "</div>"
      ],
      "text/plain": [
       "        GKGRECORDID        V2.1DATE  V2SOURCECOLLECTIONIDENTIFIER  \\\n",
       "0  20161004163000-0  20161004163000                             2   \n",
       "1  20161004163000-1  20161004163000                             2   \n",
       "2  20161004163000-2  20161004163000                             2   \n",
       "\n",
       "  V2SOURCECOMMONNAME                       V2DOCUMENTIDENTIFIER V1COUNTS  \\\n",
       "0     BBC Monitoring    Tolo TV in Dari /BBC Monitoring/(c) BBC     None   \n",
       "1     BBC Monitoring                    /BBC Monitoring/(c) BBC     None   \n",
       "2     BBC Monitoring  ORTM TV in French /BBC Monitoring/(c) BBC     None   \n",
       "\n",
       "  V2.1COUNTS                                           V1THEMES  \\\n",
       "0       None  TAX_FNCACT;TAX_FNCACT_LEADERS;TAX_TERROR_GROUP...   \n",
       "1       None  SOC_EXPRESSREGRET;TAX_WORLDLANGUAGES;TAX_WORLD...   \n",
       "2       None  LEADER;TAX_FNCACT;TAX_FNCACT_PRESIDENT;USPEC_P...   \n",
       "\n",
       "                                    V2ENHANCEDTHEMES  \\\n",
       "0  LEADER,2404;LEADER,2739;TAX_TERROR_GROUP_TALIB...   \n",
       "1  WB_2467_TERRORISM,1507;WB_2433_CONFLICT_AND_VI...   \n",
       "2  EPU_POLICY_GOVERNMENT,1242;TAX_ETHNICITY_FRENC...   \n",
       "\n",
       "                                         V1LOCATIONS  ...  \\\n",
       "0  4#Pol-E Khomri, Baghlan, Afghanistan#AF#AF03#3...  ...   \n",
       "1  1#United States#US#US#38#-97#US;4#Moscow, Mosk...  ...   \n",
       "2  4#Valetta, Malta (General), Malta#MT#MT00#35.8...  ...   \n",
       "\n",
       "                                              V2GCAM V2.1SHARINGIMAGE  \\\n",
       "0  wc:592,c1.2:2,c12.1:25,c12.10:46,c12.12:19,c12...             None   \n",
       "1  wc:243,c12.1:17,c12.10:30,c12.12:12,c12.13:10,...             None   \n",
       "2  wc:187,c12.1:5,c12.10:18,c12.12:4,c12.13:4,c12...             None   \n",
       "\n",
       "  V2.1RELATEDIMAGES V2.1SOCIALIMAGEEMBEDS V2.1SOCIALVIDEOEMBEDS  \\\n",
       "0              None                  None                  None   \n",
       "1              None                  None                  None   \n",
       "2              None                  None                  None   \n",
       "\n",
       "                             V2.1QUOTATIONS  \\\n",
       "0                                      None   \n",
       "1  971|32||are continuing and will continue   \n",
       "2                                      None   \n",
       "\n",
       "                                        V2.1ALLNAMES  \\\n",
       "0  Jawed Salim,797;Kunduz Province,900;National D...   \n",
       "1  Dmitry Peskov,245;United States,562;United Sta...   \n",
       "2  Ibrahim Boubacar Keita,35;Francois Hollande,10...   \n",
       "\n",
       "                       V2.1AMOUNTS V2.1TRANSLATIONINFO V2EXTRASXML  \n",
       "0                             None                None        None  \n",
       "1                 2,countries,767;                None        None  \n",
       "2  2,heads of state discussed,924;                None        None  \n",
       "\n",
       "[3 rows x 27 columns]"
      ]
     },
     "execution_count": 17,
     "metadata": {},
     "output_type": "execute_result"
    }
   ],
   "source": [
    "df_gkg.limit(3).toPandas()"
   ]
  },
  {
   "cell_type": "code",
   "execution_count": 21,
   "id": "864921c3-7017-4044-9f82-da6ca6054269",
   "metadata": {
    "execution": {
     "iopub.execute_input": "2024-05-07T14:07:51.215490Z",
     "iopub.status.busy": "2024-05-07T14:07:51.214861Z",
     "iopub.status.idle": "2024-05-07T14:11:00.496513Z",
     "shell.execute_reply": "2024-05-07T14:11:00.495181Z",
     "shell.execute_reply.started": "2024-05-07T14:07:51.215436Z"
    }
   },
   "outputs": [],
   "source": [
    "# Convert to parquet files\n",
    "csv_file_path = \"/home/msds2024/pmartinez/cpt1_shared/slt1a/bdcc/201610\"\n",
    "out_path = \"/home/msds2024/pmartinez/cpt1_shared/slt1a/bdcc/201610/parquets\"\n",
    "\n",
    "# Write the DataFrame to Parquet format\n",
    "df_gkg.write.parquet(out_path, mode='overwrite')"
   ]
  }
 ],
 "metadata": {
  "kernelspec": {
   "display_name": "Python 3 (ipykernel)",
   "language": "python",
   "name": "python3"
  },
  "language_info": {
   "codemirror_mode": {
    "name": "ipython",
    "version": 3
   },
   "file_extension": ".py",
   "mimetype": "text/x-python",
   "name": "python",
   "nbconvert_exporter": "python",
   "pygments_lexer": "ipython3",
   "version": "3.11.8"
  }
 },
 "nbformat": 4,
 "nbformat_minor": 5
}
