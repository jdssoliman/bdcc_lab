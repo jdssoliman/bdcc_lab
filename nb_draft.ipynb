{
 "cells": [
  {
   "cell_type": "markdown",
   "id": "ab918798-a580-4da8-9762-af6480bc0712",
   "metadata": {},
   "source": [
    "<div style=\"background-color:#019EDB ; padding: 10px 0;\">\n",
    "    <center><h1 style=\"color: white; font-weight:bold\">ABSTRACT</h1></center>\n",
    "</div> "
   ]
  },
  {
   "cell_type": "code",
   "execution_count": null,
   "id": "871bb8c4-9b91-4ed0-bfc6-36cec1af22d8",
   "metadata": {},
   "outputs": [],
   "source": []
  },
  {
   "cell_type": "markdown",
   "id": "1c02c169-fc21-40d2-9c76-418c1d41e8aa",
   "metadata": {},
   "source": [
    "<div style=\"background-color:#019EDB ; padding: 10px 0;\">\n",
    "    <center><h1 style=\"color: white; font-weight:bold\">INTRODUCTION</h1></center>\n",
    "</div> "
   ]
  },
  {
   "cell_type": "markdown",
   "id": "765e3478-d416-43ee-a6b5-d7f13fd08d86",
   "metadata": {},
   "source": [
    "<div style=\"background-color:#019EDB ; padding: 10px 0;\">\n",
    "    <center><h2 style=\"color: white; font-weight:bold\">Background</h2></center>\n",
    "</div> "
   ]
  },
  {
   "cell_type": "markdown",
   "id": "40544ca4-46a8-4b8f-af0f-6f8df86f9663",
   "metadata": {},
   "source": [
    "In an era where data-driven decisions are pivotal to success, political campaigns are no exception. Recognizing the power of big data analytics to shape political strategies, this project leverages the Global Database of Events, Language, and Tone (GDELT) to extract actionable insights for future political leaders in the Philippines. By harnessing GDELT's extensive repository of media events and sentiment analyses, the project aims to distill the most pressing issues and public sentiments across the country. This approach ensures that campaign platforms are not only relevant but also resonant with the electorate’s current concerns and needs."
   ]
  },
  {
   "cell_type": "markdown",
   "id": "924d6346-5b2c-4e5d-97aa-c175b2a5ca5c",
   "metadata": {},
   "source": [
    "<div style=\"background-color:#019EDB ; padding: 10px 0;\">\n",
    "    <center><h2 style=\"color: white; font-weight:bold\">Problem Statement</h2></center>\n",
    "</div> "
   ]
  },
  {
   "cell_type": "markdown",
   "id": "250cf2e6-f0ac-4b1f-9b8a-099e5ed850a9",
   "metadata": {},
   "source": [
    "In the digital age, the proliferation of disinformation, particularly through orchestrated campaigns via \"troll farms\", has emerged as a critical challenge in political campaigning across the Philippines and Southeast Asia. These deceptive practices not only distort public perceptions but also undermine the integrity of democratic processes by swaying voter opinions with false narratives. The difficulty lies in the ability of political campaigns to both identify and counteract these disinformation efforts effectively while also promoting genuine and fact-based discourse.\n",
    "\n",
    "This project seeks to address the urgent need for sophisticated data-driven strategies that can discern and mitigate the impact of digital disinformation. Utilizing the extensive monitoring capabilities of GDELT to track media events and sentiment, the study aims to equip political leaders with the tools to identify trends and anomalies in public discourse that may indicate the presence of disinformation. By establishing more transparent and factually accurate communication strategies, aspiring political leaders can enhance their campaign platforms, foster a more informed electorate, and strengthen democratic resilience against the corrosive effects of misinformation."
   ]
  },
  {
   "cell_type": "markdown",
   "id": "fe0b3f35-17f8-4f0b-a8b1-c41fb7df825e",
   "metadata": {},
   "source": [
    "<div style=\"background-color:#019EDB ; padding: 10px 0;\">\n",
    "    <center><h2 style=\"color: white; font-weight:bold\">Objective</h2></center>\n",
    "</div> "
   ]
  },
  {
   "cell_type": "markdown",
   "id": "73329576-b954-4b6c-93b3-37425aa84175",
   "metadata": {},
   "source": [
    "The goal of this study is to delve deeper into the information provided generously through the GDELT Project and help assist leaders in pivoting their goals and strategies accordingly. \n",
    "The objectives of this is study are as follows: \n",
    "1. asdasd\n",
    "2. asdasd\n",
    "3. asdasd"
   ]
  },
  {
   "cell_type": "markdown",
   "id": "9fd2bf64-5e82-46d2-82ed-9c56382a0b35",
   "metadata": {},
   "source": [
    "<div style=\"background-color:#019EDB ; padding: 10px 0;\">\n",
    "    <center><h1 style=\"color: white; font-weight:bold\">DATA SOURCES and DESCRIPTION</h1></center>\n",
    "</div> "
   ]
  },
  {
   "attachments": {},
   "cell_type": "markdown",
   "id": "ee3ebdfb-b5e2-4c71-ac71-7a96b8abc439",
   "metadata": {
    "execution": {
     "iopub.execute_input": "2024-05-05T14:04:37.306458Z",
     "iopub.status.busy": "2024-05-05T14:04:37.305179Z",
     "iopub.status.idle": "2024-05-05T14:04:37.324726Z",
     "shell.execute_reply": "2024-05-05T14:04:37.323385Z",
     "shell.execute_reply.started": "2024-05-05T14:04:37.306393Z"
    }
   },
   "source": [
    "The **GDELT (Global Data of Events, Language, and Tone) Project** is a comprehensive global monitoring system that tracks news content from broadcasters, print media, and websites in numerous languages across almost every country in the world. It employs advanced techniques to identify and extract key elements driving global discourse and events, such as people, locations, organizations, topics, sources, sentiments, numerical data, quotations, images, and events. By continuously processing this immense stream of information on a second-by-second basis, GDELT generates a freely accessible open data platform that enables computational analysis of the world's events, narratives, and societal forces in real-time.\n",
    "\n",
    "GDELT has several [datasets](https://www.gdeltproject.org/data.html). This study specifically uses the **Global Knowledge Graph** (GKG) dataset. GKG enables the representation of the underlying dimensions, geographic patterns, and network structures inherent in global news coverage. It uses sophisticated natural language processing algorithms to compute and encode a  range of codified metadata that captures the latent and contextual aspects of each document. In essence, the GKG interconnects every person, organization, location, numerical data, theme, news source, and event across the globe into a massive unified network. This network captures what is happening worldwide, the associated contexts and involved entities, as well as the sentiments surrounding these events, providing a daily comprehensive view of our global society."
   ]
  },
  {
   "cell_type": "markdown",
   "id": "8f7885a3-d2af-4e24-b403-640e6c5379ae",
   "metadata": {
    "execution": {
     "iopub.execute_input": "2024-05-05T14:04:45.318289Z",
     "iopub.status.busy": "2024-05-05T14:04:45.316912Z",
     "iopub.status.idle": "2024-05-05T14:04:45.325862Z",
     "shell.execute_reply": "2024-05-05T14:04:45.324225Z",
     "shell.execute_reply.started": "2024-05-05T14:04:45.318223Z"
    }
   },
   "source": [
    "<div style=\"background-color:#019EDB ; padding: 10px 0;\">\n",
    "    <center><h1 style=\"color: white; font-weight:bold\">METHODOLOGY</h1></center>\n",
    "</div> "
   ]
  },
  {
   "cell_type": "code",
   "execution_count": null,
   "id": "a31eaeaf-acf2-4782-91ac-364c1178d714",
   "metadata": {},
   "outputs": [],
   "source": []
  },
  {
   "cell_type": "markdown",
   "id": "ae8ae8d6-fb4a-48e2-a456-fea48e75c5e7",
   "metadata": {},
   "source": [
    "<div style=\"background-color:#019EDB ; padding: 10px 0;\">\n",
    "    <center><h1 style=\"color: white; font-weight:bold\">DATA PREPROCESSING</h1></center>\n",
    "</div> "
   ]
  },
  {
   "cell_type": "markdown",
   "id": "c1d0c634-adf2-4af2-a515-45b40ccb0d24",
   "metadata": {},
   "source": [
    "<div style=\"background-color:#019EDB ; padding: 10px 0;\">\n",
    "    <center><h1 style=\"color: white; font-weight:bold\">EXPLORATORY DATA ANALYSIS</h1></center>\n",
    "</div> "
   ]
  },
  {
   "cell_type": "markdown",
   "id": "9e40322d-53ae-4820-b545-daabac657942",
   "metadata": {},
   "source": [
    "<div style=\"background-color:#019EDB ; padding: 10px 0;\">\n",
    "    <center><h1 style=\"color: white; font-weight:bold\">INSIGHTS</h1></center>\n",
    "</div> "
   ]
  },
  {
   "cell_type": "markdown",
   "id": "5c20f139-e108-4304-8985-bf91573f922c",
   "metadata": {},
   "source": [
    "<div style=\"background-color:#019EDB ; padding: 10px 0;\">\n",
    "    <center><h1 style=\"color: white; font-weight:bold\">RESULTS and DISCUSSIONS</h1></center>\n",
    "</div> "
   ]
  },
  {
   "cell_type": "markdown",
   "id": "6e9bccd6-f6a3-4ba3-95da-e74dcb493a36",
   "metadata": {},
   "source": [
    "<div style=\"background-color:#019EDB ; padding: 10px 0;\">\n",
    "    <center><h1 style=\"color: white; font-weight:bold\">RECOMMENDATIONS</h1></center>\n",
    "</div> "
   ]
  },
  {
   "cell_type": "markdown",
   "id": "367dd6e2-9d9c-44b2-a2e4-43e02e350aa3",
   "metadata": {},
   "source": [
    "<div style=\"background-color:#019EDB ; padding: 10px 0;\">\n",
    "    <center><h1 style=\"color: white; font-weight:bold\">SCOPE & LIMITATIONS</h1></center>\n",
    "</div> "
   ]
  },
  {
   "cell_type": "markdown",
   "id": "a5d0e999-2106-4d83-ac82-a8f41a048c33",
   "metadata": {},
   "source": [
    "<div style=\"background-color:#019EDB ; padding: 10px 0;\">\n",
    "    <center><h1 style=\"color: white; font-weight:bold\">CONCLUSION</h1></center>\n",
    "</div>"
   ]
  },
  {
   "cell_type": "markdown",
   "id": "ec742009-3f51-47f8-ba1e-17f9934a8ce2",
   "metadata": {},
   "source": [
    "<div style=\"background-color:#019EDB ; padding: 10px 0;\">\n",
    "    <center><h1 style=\"color: white; font-weight:bold\">Paula Martinez - Senator</h1></center>\n",
    "</div> "
   ]
  },
  {
   "cell_type": "markdown",
   "id": "c8a6b679-2f5b-400e-bf8f-e027c7fd5b57",
   "metadata": {},
   "source": [
    "References:\n",
    "\n",
    "\n",
    "The GDELT Project. (n.d.). [Web page]. Retrieved from https://www.gdeltproject.org/\n",
    "\n",
    "Channel News Asia. (2022). Paid troll army for hire: Philippines' social media elections influencers. [Web page]. Channel News Asia. Retrieved from https://www.channelnewsasia.com/cna-insider/paid-troll-army-hire-philippines-social-media-elections-influencers-2917556\n",
    "\n",
    "Rappler. (n.d.). Investigating troll farms: What to look out for. [Web page]. Retrieved from https://www.rappler.com/newsbreak/iq/investigating-troll-farms-what-to-look-out-for\n"
   ]
  },
  {
   "cell_type": "markdown",
   "id": "9f550349-8f3b-497b-8c92-707430b0e296",
   "metadata": {},
   "source": [
    "# **SCRATCH**"
   ]
  },
  {
   "cell_type": "code",
   "execution_count": 1,
   "id": "855fd407-a7ad-46e8-af14-bf96de48736e",
   "metadata": {
    "execution": {
     "iopub.execute_input": "2024-05-05T15:25:36.227408Z",
     "iopub.status.busy": "2024-05-05T15:25:36.226306Z",
     "iopub.status.idle": "2024-05-05T15:25:36.600425Z",
     "shell.execute_reply": "2024-05-05T15:25:36.599380Z",
     "shell.execute_reply.started": "2024-05-05T15:25:36.227350Z"
    }
   },
   "outputs": [],
   "source": [
    "import os\n",
    "from pyspark.sql import SparkSession\n",
    "from pyspark.sql import functions as F"
   ]
  },
  {
   "cell_type": "code",
   "execution_count": 2,
   "id": "ed70a5ad-221a-4463-9529-80332ccbad63",
   "metadata": {
    "execution": {
     "iopub.execute_input": "2024-05-05T15:25:38.867531Z",
     "iopub.status.busy": "2024-05-05T15:25:38.866750Z",
     "iopub.status.idle": "2024-05-05T15:25:42.525436Z",
     "shell.execute_reply": "2024-05-05T15:25:42.523324Z",
     "shell.execute_reply.started": "2024-05-05T15:25:38.867475Z"
    }
   },
   "outputs": [],
   "source": [
    "spark = (SparkSession\n",
    "     .builder\n",
    "     .master('local[*]') # Master URL;\n",
    "     .getOrCreate())"
   ]
  },
  {
   "cell_type": "code",
   "execution_count": 3,
   "id": "46858d22-6984-4841-8522-4e616cc92ff9",
   "metadata": {
    "execution": {
     "iopub.execute_input": "2024-05-05T15:25:44.840015Z",
     "iopub.status.busy": "2024-05-05T15:25:44.839258Z",
     "iopub.status.idle": "2024-05-05T15:25:54.625545Z",
     "shell.execute_reply": "2024-05-05T15:25:54.623730Z",
     "shell.execute_reply.started": "2024-05-05T15:25:44.839939Z"
    }
   },
   "outputs": [],
   "source": [
    "from pyspark.sql.types import (StructType, StructField, StringType,\n",
    "IntegerType, FloatType, TimestampType, LongType)\n",
    "import glob\n",
    "# Define the schema—NOT FINAL; SHOULD REVISIT\n",
    "schema = StructType([\n",
    "    StructField(\"GKGRECORDID\", StringType(), True),\n",
    "    StructField(\"V2.1DATE\", LongType(), True),\n",
    "    StructField(\"V2SOURCECOLLECTIONIDENTIFIER\", IntegerType(), True),\n",
    "    StructField(\"V2SOURCECOMMONNAME\", StringType(), True),\n",
    "    StructField(\"V2DOCUMENTIDENTIFIER\", StringType(), True),\n",
    "    StructField(\"V1COUNTS\", StringType(), True),\n",
    "    StructField(\"V2.1COUNTS\", StringType(), True),\n",
    "    StructField(\"V1THEMES\", StringType(), True),\n",
    "    StructField(\"V2ENHANCEDTHEMES\", StringType(), True),\n",
    "    StructField(\"V1LOCATIONS\", StringType(), True),\n",
    "    StructField(\"V2ENHANCEDLOCATIONS\", StringType(), True),\n",
    "    StructField(\"V1PERSONS\", StringType(), True),\n",
    "    StructField(\"V2ENHANCEDPERSONS\", StringType(), True),\n",
    "    StructField(\"V1ORGANIZATIONS\", StringType(), True),\n",
    "    StructField(\"V2ENHANCEDORGANIZATIONS\", StringType(), True),\n",
    "    StructField(\"V1.5TONE\", FloatType(), True),\n",
    "    StructField(\"V2.1ENHANCEDDATES\", StringType(), True),\n",
    "    StructField(\"V2GCAM\", StringType(), True),\n",
    "    StructField(\"V2.1SHARINGIMAGE\", StringType(), True),\n",
    "    StructField(\"V2.1RELATEDIMAGES\", StringType(), True),\n",
    "    StructField(\"V2.1SOCIALIMAGEEMBEDS\", StringType(), True),\n",
    "    StructField(\"V2.1SOCIALVIDEOEMBEDS\", StringType(), True),\n",
    "    StructField(\"V2.1QUOTATIONS\", StringType(), True),\n",
    "    StructField(\"V2.1ALLNAMES\", StringType(), True),\n",
    "    StructField(\"V2.1AMOUNTS\", StringType(), True),\n",
    "    StructField(\"V2.1TRANSLATIONINFO\", StringType(), True),\n",
    "    StructField(\"V2EXTRASXML\", StringType(), True)\n",
    "])\n",
    "\n",
    "# Define the path and file patterns for the first 8 days of August 2019\n",
    "path = '/mnt/data/public/gdeltv2/gkg/'\n",
    "file_pattern = '2019080[1-8]*.gkg.csv'  # Matches days 01 to 08\n",
    "\n",
    "# Use glob to list files matching the pattern\n",
    "files = glob.glob(path + file_pattern)\n",
    "\n",
    "# Read the files into a DataFrame with the specified schema\n",
    "df_gkg = spark.read.csv(files, sep='\\t', schema=schema)"
   ]
  },
  {
   "cell_type": "code",
   "execution_count": 4,
   "id": "8d9c7d38-c34f-4394-9bad-88937a91c529",
   "metadata": {
    "execution": {
     "iopub.execute_input": "2024-05-05T15:25:56.506143Z",
     "iopub.status.busy": "2024-05-05T15:25:56.504820Z",
     "iopub.status.idle": "2024-05-05T15:26:17.986355Z",
     "shell.execute_reply": "2024-05-05T15:26:17.984885Z",
     "shell.execute_reply.started": "2024-05-05T15:25:56.506081Z"
    }
   },
   "outputs": [],
   "source": [
    "row_count = df_gkg.count()"
   ]
  },
  {
   "cell_type": "code",
   "execution_count": 5,
   "id": "78632369-053e-47d9-b25d-f9f132e4bda1",
   "metadata": {
    "execution": {
     "iopub.execute_input": "2024-05-05T15:26:17.989379Z",
     "iopub.status.busy": "2024-05-05T15:26:17.988880Z",
     "iopub.status.idle": "2024-05-05T15:26:17.997185Z",
     "shell.execute_reply": "2024-05-05T15:26:17.995909Z",
     "shell.execute_reply.started": "2024-05-05T15:26:17.989336Z"
    }
   },
   "outputs": [
    {
     "name": "stdout",
     "output_type": "stream",
     "text": [
      "The dataset has 1436716 rows.\n"
     ]
    }
   ],
   "source": [
    "print(f\"The dataset has {row_count} rows.\")"
   ]
  },
  {
   "cell_type": "markdown",
   "id": "d273ab0c-f570-46b9-b91d-f2d21545a822",
   "metadata": {},
   "source": [
    "This is a sample of the dataset:"
   ]
  },
  {
   "cell_type": "code",
   "execution_count": 6,
   "id": "d2cef1e4-622f-476f-82df-20f7fdac2209",
   "metadata": {
    "execution": {
     "iopub.execute_input": "2024-05-05T15:26:26.182159Z",
     "iopub.status.busy": "2024-05-05T15:26:26.181464Z",
     "iopub.status.idle": "2024-05-05T15:26:27.051502Z",
     "shell.execute_reply": "2024-05-05T15:26:27.050585Z",
     "shell.execute_reply.started": "2024-05-05T15:26:26.182099Z"
    }
   },
   "outputs": [
    {
     "data": {
      "text/html": [
       "<div>\n",
       "<style scoped>\n",
       "    .dataframe tbody tr th:only-of-type {\n",
       "        vertical-align: middle;\n",
       "    }\n",
       "\n",
       "    .dataframe tbody tr th {\n",
       "        vertical-align: top;\n",
       "    }\n",
       "\n",
       "    .dataframe thead th {\n",
       "        text-align: right;\n",
       "    }\n",
       "</style>\n",
       "<table border=\"1\" class=\"dataframe\">\n",
       "  <thead>\n",
       "    <tr style=\"text-align: right;\">\n",
       "      <th></th>\n",
       "      <th>GKGRECORDID</th>\n",
       "      <th>V2.1DATE</th>\n",
       "      <th>V2SOURCECOLLECTIONIDENTIFIER</th>\n",
       "      <th>V2SOURCECOMMONNAME</th>\n",
       "      <th>V2DOCUMENTIDENTIFIER</th>\n",
       "      <th>V1COUNTS</th>\n",
       "      <th>V2.1COUNTS</th>\n",
       "      <th>V1THEMES</th>\n",
       "      <th>V2ENHANCEDTHEMES</th>\n",
       "      <th>V1LOCATIONS</th>\n",
       "      <th>...</th>\n",
       "      <th>V2GCAM</th>\n",
       "      <th>V2.1SHARINGIMAGE</th>\n",
       "      <th>V2.1RELATEDIMAGES</th>\n",
       "      <th>V2.1SOCIALIMAGEEMBEDS</th>\n",
       "      <th>V2.1SOCIALVIDEOEMBEDS</th>\n",
       "      <th>V2.1QUOTATIONS</th>\n",
       "      <th>V2.1ALLNAMES</th>\n",
       "      <th>V2.1AMOUNTS</th>\n",
       "      <th>V2.1TRANSLATIONINFO</th>\n",
       "      <th>V2EXTRASXML</th>\n",
       "    </tr>\n",
       "  </thead>\n",
       "  <tbody>\n",
       "    <tr>\n",
       "      <th>0</th>\n",
       "      <td>20190801173000-0</td>\n",
       "      <td>20190801173000</td>\n",
       "      <td>1</td>\n",
       "      <td>newstoday.com.bd</td>\n",
       "      <td>http://www.newstoday.com.bd/?option=details&amp;ne...</td>\n",
       "      <td>None</td>\n",
       "      <td>None</td>\n",
       "      <td>TAX_WORLDLANGUAGES;TAX_WORLDLANGUAGES_ARABIC;T...</td>\n",
       "      <td>TAX_FNCACT_JUDGES,1022;MEDIA_MSM,296;SOC_SLAVE...</td>\n",
       "      <td>1#Germany#GM#GM#51.5#10.5#GM;1#Chile#CI#CI#-30...</td>\n",
       "      <td>...</td>\n",
       "      <td>wc:345,c1.1:2,c1.4:1,c12.1:29,c12.10:24,c12.12...</td>\n",
       "      <td>None</td>\n",
       "      <td>None</td>\n",
       "      <td>None</td>\n",
       "      <td>None</td>\n",
       "      <td>1188|112||a richly imagined , engaging and poe...</td>\n",
       "      <td>Man Booker International,95;Edinburgh Universi...</td>\n",
       "      <td>2,previous collections of short,323;3,novels,3...</td>\n",
       "      <td>None</td>\n",
       "      <td>None</td>\n",
       "    </tr>\n",
       "    <tr>\n",
       "      <th>1</th>\n",
       "      <td>20190801173000-1</td>\n",
       "      <td>20190801173000</td>\n",
       "      <td>1</td>\n",
       "      <td>idrw.org</td>\n",
       "      <td>http://idrw.org/ms-velpari-takes-over-from-sun...</td>\n",
       "      <td>None</td>\n",
       "      <td>None</td>\n",
       "      <td>TAX_FNCACT;TAX_FNCACT_DIRECTOR;TAX_FNCACT_CHIE...</td>\n",
       "      <td>TAX_FNCACT_CHIEF,275;EDUCATION,430;SOC_POINTSO...</td>\n",
       "      <td>4#Hindustan, India (General), India#IN#IN00#28...</td>\n",
       "      <td>...</td>\n",
       "      <td>wc:168,c12.1:6,c12.10:14,c12.12:5,c12.13:4,c12...</td>\n",
       "      <td>None</td>\n",
       "      <td>None</td>\n",
       "      <td>None</td>\n",
       "      <td>https://youtube.com/channel/UChCONU0XnVC2671b7...</td>\n",
       "      <td>None</td>\n",
       "      <td>Sunil Kumar,143;Tejas Division,322;Aircraft Pr...</td>\n",
       "      <td>None</td>\n",
       "      <td>None</td>\n",
       "      <td>&lt;PAGE_AUTHORS&gt;By&lt;/PAGE_AUTHORS&gt;</td>\n",
       "    </tr>\n",
       "    <tr>\n",
       "      <th>2</th>\n",
       "      <td>20190801173000-2</td>\n",
       "      <td>20190801173000</td>\n",
       "      <td>1</td>\n",
       "      <td>willistonherald.com</td>\n",
       "      <td>https://www.willistonherald.com/news/oil_and_e...</td>\n",
       "      <td>KILL#4000000##2#Colorado, United States#US#USC...</td>\n",
       "      <td>KILL#4000000##2#Colorado, United States#US#USC...</td>\n",
       "      <td>WB_507_ENERGY_AND_EXTRACTIVES;WB_1702_OILFIELD...</td>\n",
       "      <td>WB_507_ENERGY_AND_EXTRACTIVES,25;WB_1702_OILFI...</td>\n",
       "      <td>2#Colorado, United States#US#USCO#39.0646#-105...</td>\n",
       "      <td>...</td>\n",
       "      <td>wc:715,c1.2:6,c1.3:1,c12.1:47,c12.10:88,c12.11...</td>\n",
       "      <td>https://bloximages.chicago2.vip.townnews.com/w...</td>\n",
       "      <td>None</td>\n",
       "      <td>None</td>\n",
       "      <td>https://youtube.com/channel/UCHR2WhAPYJ6magx0g...</td>\n",
       "      <td>None</td>\n",
       "      <td>Liberty Oilfield Services,26;Tier Four,2357</td>\n",
       "      <td>5,hydraulic fracturing fleets operating,30;23,...</td>\n",
       "      <td>None</td>\n",
       "      <td>&lt;PAGE_AUTHORS&gt;Ren&amp;eacute;e Jean rjean@willisto...</td>\n",
       "    </tr>\n",
       "  </tbody>\n",
       "</table>\n",
       "<p>3 rows × 27 columns</p>\n",
       "</div>"
      ],
      "text/plain": [
       "        GKGRECORDID        V2.1DATE  V2SOURCECOLLECTIONIDENTIFIER  \\\n",
       "0  20190801173000-0  20190801173000                             1   \n",
       "1  20190801173000-1  20190801173000                             1   \n",
       "2  20190801173000-2  20190801173000                             1   \n",
       "\n",
       "    V2SOURCECOMMONNAME                               V2DOCUMENTIDENTIFIER  \\\n",
       "0     newstoday.com.bd  http://www.newstoday.com.bd/?option=details&ne...   \n",
       "1             idrw.org  http://idrw.org/ms-velpari-takes-over-from-sun...   \n",
       "2  willistonherald.com  https://www.willistonherald.com/news/oil_and_e...   \n",
       "\n",
       "                                            V1COUNTS  \\\n",
       "0                                               None   \n",
       "1                                               None   \n",
       "2  KILL#4000000##2#Colorado, United States#US#USC...   \n",
       "\n",
       "                                          V2.1COUNTS  \\\n",
       "0                                               None   \n",
       "1                                               None   \n",
       "2  KILL#4000000##2#Colorado, United States#US#USC...   \n",
       "\n",
       "                                            V1THEMES  \\\n",
       "0  TAX_WORLDLANGUAGES;TAX_WORLDLANGUAGES_ARABIC;T...   \n",
       "1  TAX_FNCACT;TAX_FNCACT_DIRECTOR;TAX_FNCACT_CHIE...   \n",
       "2  WB_507_ENERGY_AND_EXTRACTIVES;WB_1702_OILFIELD...   \n",
       "\n",
       "                                    V2ENHANCEDTHEMES  \\\n",
       "0  TAX_FNCACT_JUDGES,1022;MEDIA_MSM,296;SOC_SLAVE...   \n",
       "1  TAX_FNCACT_CHIEF,275;EDUCATION,430;SOC_POINTSO...   \n",
       "2  WB_507_ENERGY_AND_EXTRACTIVES,25;WB_1702_OILFI...   \n",
       "\n",
       "                                         V1LOCATIONS  ...  \\\n",
       "0  1#Germany#GM#GM#51.5#10.5#GM;1#Chile#CI#CI#-30...  ...   \n",
       "1  4#Hindustan, India (General), India#IN#IN00#28...  ...   \n",
       "2  2#Colorado, United States#US#USCO#39.0646#-105...  ...   \n",
       "\n",
       "                                              V2GCAM  \\\n",
       "0  wc:345,c1.1:2,c1.4:1,c12.1:29,c12.10:24,c12.12...   \n",
       "1  wc:168,c12.1:6,c12.10:14,c12.12:5,c12.13:4,c12...   \n",
       "2  wc:715,c1.2:6,c1.3:1,c12.1:47,c12.10:88,c12.11...   \n",
       "\n",
       "                                    V2.1SHARINGIMAGE V2.1RELATEDIMAGES  \\\n",
       "0                                               None              None   \n",
       "1                                               None              None   \n",
       "2  https://bloximages.chicago2.vip.townnews.com/w...              None   \n",
       "\n",
       "  V2.1SOCIALIMAGEEMBEDS                              V2.1SOCIALVIDEOEMBEDS  \\\n",
       "0                  None                                               None   \n",
       "1                  None  https://youtube.com/channel/UChCONU0XnVC2671b7...   \n",
       "2                  None  https://youtube.com/channel/UCHR2WhAPYJ6magx0g...   \n",
       "\n",
       "                                      V2.1QUOTATIONS  \\\n",
       "0  1188|112||a richly imagined , engaging and poe...   \n",
       "1                                               None   \n",
       "2                                               None   \n",
       "\n",
       "                                        V2.1ALLNAMES  \\\n",
       "0  Man Booker International,95;Edinburgh Universi...   \n",
       "1  Sunil Kumar,143;Tejas Division,322;Aircraft Pr...   \n",
       "2        Liberty Oilfield Services,26;Tier Four,2357   \n",
       "\n",
       "                                         V2.1AMOUNTS V2.1TRANSLATIONINFO  \\\n",
       "0  2,previous collections of short,323;3,novels,3...                None   \n",
       "1                                               None                None   \n",
       "2  5,hydraulic fracturing fleets operating,30;23,...                None   \n",
       "\n",
       "                                         V2EXTRASXML  \n",
       "0                                               None  \n",
       "1                    <PAGE_AUTHORS>By</PAGE_AUTHORS>  \n",
       "2  <PAGE_AUTHORS>Ren&eacute;e Jean rjean@willisto...  \n",
       "\n",
       "[3 rows x 27 columns]"
      ]
     },
     "execution_count": 6,
     "metadata": {},
     "output_type": "execute_result"
    }
   ],
   "source": [
    "df_gkg.limit(3).toPandas()"
   ]
  },
  {
   "cell_type": "code",
   "execution_count": 7,
   "id": "0f34f7de-8213-4970-83e6-5aec28b4e0e8",
   "metadata": {
    "execution": {
     "iopub.execute_input": "2024-05-05T15:26:32.484675Z",
     "iopub.status.busy": "2024-05-05T15:26:32.483830Z",
     "iopub.status.idle": "2024-05-05T15:26:32.763937Z",
     "shell.execute_reply": "2024-05-05T15:26:32.763110Z",
     "shell.execute_reply.started": "2024-05-05T15:26:32.484613Z"
    }
   },
   "outputs": [],
   "source": [
    "df_final = (df_gkg\n",
    "            .withColumn('COUNTTYPE', F.regexp_extract('V1COUNTS', r'^([^#]+)',\n",
    "                                                      1))\n",
    "            .withColumn('LOCATION', F.regexp_extract('V1COUNTS',\n",
    "                                                     r\",\\s*([^,#]+)#\", 1))\n",
    "            .withColumn('THEMES_SINGLE',\n",
    "                        F.explode(F.array_remove(F.split(F.col('V1THEMES'),\n",
    "                                                         ';'), \"\")))\n",
    "            .filter(F.col('LOCATION').rlike('Philippines'))\n",
    "            .persist()\n",
    "           )"
   ]
  },
  {
   "cell_type": "markdown",
   "id": "aaa06a46-2830-48c4-ae2c-2d06fbd896f3",
   "metadata": {},
   "source": [
    "The final dataset with exploded count types, locations, and themes:\n",
    "\n",
    "**Note:**\n",
    "- not sure if `persist` makes the succeeding codes slower/faster but iirc it's supposed to optimize how the initial code of `df_final` is executed --> di na niya dinadaanan ulit."
   ]
  },
  {
   "cell_type": "code",
   "execution_count": 8,
   "id": "5769ac21-d6a9-4f5e-a7c3-eb88aa86b33a",
   "metadata": {
    "execution": {
     "iopub.execute_input": "2024-05-05T15:26:53.907622Z",
     "iopub.status.busy": "2024-05-05T15:26:53.906932Z",
     "iopub.status.idle": "2024-05-05T15:27:28.831676Z",
     "shell.execute_reply": "2024-05-05T15:27:28.830880Z",
     "shell.execute_reply.started": "2024-05-05T15:26:53.907559Z"
    }
   },
   "outputs": [
    {
     "data": {
      "text/html": [
       "<div>\n",
       "<style scoped>\n",
       "    .dataframe tbody tr th:only-of-type {\n",
       "        vertical-align: middle;\n",
       "    }\n",
       "\n",
       "    .dataframe tbody tr th {\n",
       "        vertical-align: top;\n",
       "    }\n",
       "\n",
       "    .dataframe thead th {\n",
       "        text-align: right;\n",
       "    }\n",
       "</style>\n",
       "<table border=\"1\" class=\"dataframe\">\n",
       "  <thead>\n",
       "    <tr style=\"text-align: right;\">\n",
       "      <th></th>\n",
       "      <th>GKGRECORDID</th>\n",
       "      <th>V2.1DATE</th>\n",
       "      <th>V2SOURCECOLLECTIONIDENTIFIER</th>\n",
       "      <th>V2SOURCECOMMONNAME</th>\n",
       "      <th>V2DOCUMENTIDENTIFIER</th>\n",
       "      <th>V1COUNTS</th>\n",
       "      <th>V2.1COUNTS</th>\n",
       "      <th>V1THEMES</th>\n",
       "      <th>V2ENHANCEDTHEMES</th>\n",
       "      <th>V1LOCATIONS</th>\n",
       "      <th>...</th>\n",
       "      <th>V2.1SOCIALIMAGEEMBEDS</th>\n",
       "      <th>V2.1SOCIALVIDEOEMBEDS</th>\n",
       "      <th>V2.1QUOTATIONS</th>\n",
       "      <th>V2.1ALLNAMES</th>\n",
       "      <th>V2.1AMOUNTS</th>\n",
       "      <th>V2.1TRANSLATIONINFO</th>\n",
       "      <th>V2EXTRASXML</th>\n",
       "      <th>COUNTTYPE</th>\n",
       "      <th>LOCATION</th>\n",
       "      <th>THEMES_SINGLE</th>\n",
       "    </tr>\n",
       "  </thead>\n",
       "  <tbody>\n",
       "    <tr>\n",
       "      <th>0</th>\n",
       "      <td>20190801194500-914</td>\n",
       "      <td>20190801194500</td>\n",
       "      <td>1</td>\n",
       "      <td>thejakartapost.com</td>\n",
       "      <td>https://www.thejakartapost.com/news/2019/08/02...</td>\n",
       "      <td>KILL#22##4#Philippine, Benguet, Philippines#RP...</td>\n",
       "      <td>KILL#22##4#Philippine, Benguet, Philippines#RP...</td>\n",
       "      <td>TAX_WEAPONS;TAX_WEAPONS_BOMB;EPU_CATS_MIGRATIO...</td>\n",
       "      <td>GENERAL_GOVERNMENT,812;EPU_POLICY_GOVERNMENT,8...</td>\n",
       "      <td>1#Philippines#RP#RP#13#122#RP;1#Libya#LY#LY#25...</td>\n",
       "      <td>...</td>\n",
       "      <td>None</td>\n",
       "      <td>None</td>\n",
       "      <td>None</td>\n",
       "      <td>Mount Carmel Cathedral,72;Philippine Defense M...</td>\n",
       "      <td>100,people,143;</td>\n",
       "      <td>None</td>\n",
       "      <td>&lt;PAGE_AUTHORS&gt;The Jakarta Post&lt;/PAGE_AUTHORS&gt;</td>\n",
       "      <td>KILL</td>\n",
       "      <td>Philippines</td>\n",
       "      <td>TAX_WEAPONS</td>\n",
       "    </tr>\n",
       "    <tr>\n",
       "      <th>1</th>\n",
       "      <td>20190801194500-914</td>\n",
       "      <td>20190801194500</td>\n",
       "      <td>1</td>\n",
       "      <td>thejakartapost.com</td>\n",
       "      <td>https://www.thejakartapost.com/news/2019/08/02...</td>\n",
       "      <td>KILL#22##4#Philippine, Benguet, Philippines#RP...</td>\n",
       "      <td>KILL#22##4#Philippine, Benguet, Philippines#RP...</td>\n",
       "      <td>TAX_WEAPONS;TAX_WEAPONS_BOMB;EPU_CATS_MIGRATIO...</td>\n",
       "      <td>GENERAL_GOVERNMENT,812;EPU_POLICY_GOVERNMENT,8...</td>\n",
       "      <td>1#Philippines#RP#RP#13#122#RP;1#Libya#LY#LY#25...</td>\n",
       "      <td>...</td>\n",
       "      <td>None</td>\n",
       "      <td>None</td>\n",
       "      <td>None</td>\n",
       "      <td>Mount Carmel Cathedral,72;Philippine Defense M...</td>\n",
       "      <td>100,people,143;</td>\n",
       "      <td>None</td>\n",
       "      <td>&lt;PAGE_AUTHORS&gt;The Jakarta Post&lt;/PAGE_AUTHORS&gt;</td>\n",
       "      <td>KILL</td>\n",
       "      <td>Philippines</td>\n",
       "      <td>TAX_WEAPONS_BOMB</td>\n",
       "    </tr>\n",
       "    <tr>\n",
       "      <th>2</th>\n",
       "      <td>20190801194500-914</td>\n",
       "      <td>20190801194500</td>\n",
       "      <td>1</td>\n",
       "      <td>thejakartapost.com</td>\n",
       "      <td>https://www.thejakartapost.com/news/2019/08/02...</td>\n",
       "      <td>KILL#22##4#Philippine, Benguet, Philippines#RP...</td>\n",
       "      <td>KILL#22##4#Philippine, Benguet, Philippines#RP...</td>\n",
       "      <td>TAX_WEAPONS;TAX_WEAPONS_BOMB;EPU_CATS_MIGRATIO...</td>\n",
       "      <td>GENERAL_GOVERNMENT,812;EPU_POLICY_GOVERNMENT,8...</td>\n",
       "      <td>1#Philippines#RP#RP#13#122#RP;1#Libya#LY#LY#25...</td>\n",
       "      <td>...</td>\n",
       "      <td>None</td>\n",
       "      <td>None</td>\n",
       "      <td>None</td>\n",
       "      <td>Mount Carmel Cathedral,72;Philippine Defense M...</td>\n",
       "      <td>100,people,143;</td>\n",
       "      <td>None</td>\n",
       "      <td>&lt;PAGE_AUTHORS&gt;The Jakarta Post&lt;/PAGE_AUTHORS&gt;</td>\n",
       "      <td>KILL</td>\n",
       "      <td>Philippines</td>\n",
       "      <td>EPU_CATS_MIGRATION_FEAR_FEAR</td>\n",
       "    </tr>\n",
       "  </tbody>\n",
       "</table>\n",
       "<p>3 rows × 30 columns</p>\n",
       "</div>"
      ],
      "text/plain": [
       "          GKGRECORDID        V2.1DATE  V2SOURCECOLLECTIONIDENTIFIER  \\\n",
       "0  20190801194500-914  20190801194500                             1   \n",
       "1  20190801194500-914  20190801194500                             1   \n",
       "2  20190801194500-914  20190801194500                             1   \n",
       "\n",
       "   V2SOURCECOMMONNAME                               V2DOCUMENTIDENTIFIER  \\\n",
       "0  thejakartapost.com  https://www.thejakartapost.com/news/2019/08/02...   \n",
       "1  thejakartapost.com  https://www.thejakartapost.com/news/2019/08/02...   \n",
       "2  thejakartapost.com  https://www.thejakartapost.com/news/2019/08/02...   \n",
       "\n",
       "                                            V1COUNTS  \\\n",
       "0  KILL#22##4#Philippine, Benguet, Philippines#RP...   \n",
       "1  KILL#22##4#Philippine, Benguet, Philippines#RP...   \n",
       "2  KILL#22##4#Philippine, Benguet, Philippines#RP...   \n",
       "\n",
       "                                          V2.1COUNTS  \\\n",
       "0  KILL#22##4#Philippine, Benguet, Philippines#RP...   \n",
       "1  KILL#22##4#Philippine, Benguet, Philippines#RP...   \n",
       "2  KILL#22##4#Philippine, Benguet, Philippines#RP...   \n",
       "\n",
       "                                            V1THEMES  \\\n",
       "0  TAX_WEAPONS;TAX_WEAPONS_BOMB;EPU_CATS_MIGRATIO...   \n",
       "1  TAX_WEAPONS;TAX_WEAPONS_BOMB;EPU_CATS_MIGRATIO...   \n",
       "2  TAX_WEAPONS;TAX_WEAPONS_BOMB;EPU_CATS_MIGRATIO...   \n",
       "\n",
       "                                    V2ENHANCEDTHEMES  \\\n",
       "0  GENERAL_GOVERNMENT,812;EPU_POLICY_GOVERNMENT,8...   \n",
       "1  GENERAL_GOVERNMENT,812;EPU_POLICY_GOVERNMENT,8...   \n",
       "2  GENERAL_GOVERNMENT,812;EPU_POLICY_GOVERNMENT,8...   \n",
       "\n",
       "                                         V1LOCATIONS  ...  \\\n",
       "0  1#Philippines#RP#RP#13#122#RP;1#Libya#LY#LY#25...  ...   \n",
       "1  1#Philippines#RP#RP#13#122#RP;1#Libya#LY#LY#25...  ...   \n",
       "2  1#Philippines#RP#RP#13#122#RP;1#Libya#LY#LY#25...  ...   \n",
       "\n",
       "  V2.1SOCIALIMAGEEMBEDS V2.1SOCIALVIDEOEMBEDS V2.1QUOTATIONS  \\\n",
       "0                  None                  None           None   \n",
       "1                  None                  None           None   \n",
       "2                  None                  None           None   \n",
       "\n",
       "                                        V2.1ALLNAMES      V2.1AMOUNTS  \\\n",
       "0  Mount Carmel Cathedral,72;Philippine Defense M...  100,people,143;   \n",
       "1  Mount Carmel Cathedral,72;Philippine Defense M...  100,people,143;   \n",
       "2  Mount Carmel Cathedral,72;Philippine Defense M...  100,people,143;   \n",
       "\n",
       "   V2.1TRANSLATIONINFO                                    V2EXTRASXML  \\\n",
       "0                 None  <PAGE_AUTHORS>The Jakarta Post</PAGE_AUTHORS>   \n",
       "1                 None  <PAGE_AUTHORS>The Jakarta Post</PAGE_AUTHORS>   \n",
       "2                 None  <PAGE_AUTHORS>The Jakarta Post</PAGE_AUTHORS>   \n",
       "\n",
       "  COUNTTYPE     LOCATION                 THEMES_SINGLE  \n",
       "0      KILL  Philippines                   TAX_WEAPONS  \n",
       "1      KILL  Philippines              TAX_WEAPONS_BOMB  \n",
       "2      KILL  Philippines  EPU_CATS_MIGRATION_FEAR_FEAR  \n",
       "\n",
       "[3 rows x 30 columns]"
      ]
     },
     "execution_count": 8,
     "metadata": {},
     "output_type": "execute_result"
    }
   ],
   "source": [
    "df_final.limit(3).toPandas()"
   ]
  },
  {
   "cell_type": "markdown",
   "id": "8d997c52-7a1b-44ab-b538-c7580439d1ef",
   "metadata": {},
   "source": [
    "# **How many different types of counts were made (e.g., how many arrests, protest)**?"
   ]
  },
  {
   "cell_type": "code",
   "execution_count": 9,
   "id": "021ed3b8-2458-465f-8fa6-0cd170f68b2b",
   "metadata": {
    "execution": {
     "iopub.execute_input": "2024-05-05T15:28:33.095840Z",
     "iopub.status.busy": "2024-05-05T15:28:33.095192Z",
     "iopub.status.idle": "2024-05-05T15:28:36.239646Z",
     "shell.execute_reply": "2024-05-05T15:28:36.237845Z",
     "shell.execute_reply.started": "2024-05-05T15:28:33.095783Z"
    }
   },
   "outputs": [
    {
     "name": "stdout",
     "output_type": "stream",
     "text": [
      "+----------+-----+\n",
      "| COUNTTYPE|count|\n",
      "+----------+-----+\n",
      "|      KILL|30830|\n",
      "|    AFFECT| 5064|\n",
      "|    ARREST| 4207|\n",
      "|     SEIZE|  897|\n",
      "|   PROTEST|  821|\n",
      "|     WOUND|  369|\n",
      "|EVACUATION|  145|\n",
      "|    KIDNAP|   31|\n",
      "+----------+-----+\n",
      "\n"
     ]
    }
   ],
   "source": [
    "(df_final\n",
    " .groupBy('COUNTTYPE')\n",
    " .count()\n",
    " .orderBy('count', ascending=False)\n",
    ").show()"
   ]
  },
  {
   "cell_type": "code",
   "execution_count": null,
   "id": "b1c5ba25-df80-413b-afac-f345e8b36ed6",
   "metadata": {},
   "outputs": [],
   "source": []
  }
 ],
 "metadata": {
  "kernelspec": {
   "display_name": "Python 3 (ipykernel)",
   "language": "python",
   "name": "python3"
  },
  "language_info": {
   "codemirror_mode": {
    "name": "ipython",
    "version": 3
   },
   "file_extension": ".py",
   "mimetype": "text/x-python",
   "name": "python",
   "nbconvert_exporter": "python",
   "pygments_lexer": "ipython3",
   "version": "3.11.8"
  }
 },
 "nbformat": 4,
 "nbformat_minor": 5
}
