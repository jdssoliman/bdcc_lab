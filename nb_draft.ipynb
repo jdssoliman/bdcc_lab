{
 "cells": [
  {
   "cell_type": "code",
   "execution_count": 62,
   "id": "a7c8a392-e65f-458e-95f6-8fdbb8cb4276",
   "metadata": {
    "execution": {
     "iopub.execute_input": "2024-05-07T16:22:13.301868Z",
     "iopub.status.busy": "2024-05-07T16:22:13.300709Z",
     "iopub.status.idle": "2024-05-07T16:22:13.308267Z",
     "shell.execute_reply": "2024-05-07T16:22:13.306773Z",
     "shell.execute_reply.started": "2024-05-07T16:22:13.301808Z"
    }
   },
   "outputs": [],
   "source": [
    "from pyspark.sql import SparkSession\n",
    "from pyspark.sql import functions as F\n",
    "import plotly.graph_objects as go"
   ]
  },
  {
   "cell_type": "markdown",
   "id": "ab918798-a580-4da8-9762-af6480bc0712",
   "metadata": {},
   "source": [
    "<div style=\"background-color:#000000 ; padding: 10px 0;\">\n",
    "    <center><h1 style=\"color: white; font-weight:bold\">ABSTRACT</h1></center>\n",
    "</div> "
   ]
  },
  {
   "cell_type": "code",
   "execution_count": null,
   "id": "871bb8c4-9b91-4ed0-bfc6-36cec1af22d8",
   "metadata": {},
   "outputs": [],
   "source": []
  },
  {
   "cell_type": "markdown",
   "id": "1c02c169-fc21-40d2-9c76-418c1d41e8aa",
   "metadata": {},
   "source": [
    "<div style=\"background-color:#000000 ; padding: 10px 0;\">\n",
    "    <center><h1 style=\"color: white; font-weight:bold\">INTRODUCTION</h1></center>\n",
    "</div> "
   ]
  },
  {
   "cell_type": "markdown",
   "id": "765e3478-d416-43ee-a6b5-d7f13fd08d86",
   "metadata": {},
   "source": [
    "<div style=\"background-color:#880808 ; padding: 10px 0;\">\n",
    "    <center><h2 style=\"color: white; font-weight:bold\">Background</h2></center>\n",
    "</div> "
   ]
  },
  {
   "cell_type": "markdown",
   "id": "40544ca4-46a8-4b8f-af0f-6f8df86f9663",
   "metadata": {},
   "source": [
    "In an era where data-driven decisions are pivotal to success, political campaigns are no exception. Recognizing the power of big data analytics to shape political strategies, this project leverages the Global Database of Events, Language, and Tone (GDELT) to extract actionable insights for future political leaders in the Philippines. By harnessing GDELT's extensive repository of media events and sentiment analyses, the project aims to distill the most pressing issues and public sentiments across the country. This approach ensures that campaign platforms are not only relevant but also resonant with the electorate’s current concerns and needs."
   ]
  },
  {
   "cell_type": "markdown",
   "id": "924d6346-5b2c-4e5d-97aa-c175b2a5ca5c",
   "metadata": {},
   "source": [
    "<div style=\"background-color:#880808 ; padding: 10px 0;\">\n",
    "    <center><h2 style=\"color: white; font-weight:bold\">Problem Statement</h2></center>\n",
    "</div> "
   ]
  },
  {
   "cell_type": "markdown",
   "id": "250cf2e6-f0ac-4b1f-9b8a-099e5ed850a9",
   "metadata": {},
   "source": [
    "In the digital age, the proliferation of disinformation, particularly through orchestrated campaigns via \"troll farms\", has emerged as a critical challenge in political campaigning across the Philippines and Southeast Asia. These deceptive practices not only distort public perceptions but also undermine the integrity of democratic processes by swaying voter opinions with false narratives. The difficulty lies in the ability of political campaigns to both identify and counteract these disinformation efforts effectively while also promoting genuine and fact-based discourse.\n",
    "\n",
    "This project seeks to address the urgent need for sophisticated data-driven strategies that can discern and mitigate the impact of digital disinformation. Utilizing the extensive monitoring capabilities of GDELT to track media events and sentiment, the study aims to equip political leaders with the tools to identify trends and anomalies in public discourse that may indicate the presence of disinformation. By establishing more transparent and factually accurate communication strategies, aspiring political leaders can enhance their campaign platforms, foster a more informed electorate, and strengthen democratic resilience against the corrosive effects of misinformation."
   ]
  },
  {
   "cell_type": "markdown",
   "id": "fe0b3f35-17f8-4f0b-a8b1-c41fb7df825e",
   "metadata": {},
   "source": [
    "<div style=\"background-color:#880808 ; padding: 10px 0;\">\n",
    "    <center><h2 style=\"color: white; font-weight:bold\">Objectives</h2></center>\n",
    "</div> "
   ]
  },
  {
   "cell_type": "markdown",
   "id": "73329576-b954-4b6c-93b3-37425aa84175",
   "metadata": {},
   "source": [
    "The goal of this study is to delve deeper into the information provided generously through the GDELT Project and help assist leaders in pivoting their goals and strategies accordingly. \n",
    "The objectives of this is study are as follows: \n",
    "1. asdasd\n",
    "2. asdasd\n",
    "3. asdasd"
   ]
  },
  {
   "cell_type": "markdown",
   "id": "9fd2bf64-5e82-46d2-82ed-9c56382a0b35",
   "metadata": {},
   "source": [
    "<div id=\"data-sources-description\" style=\"background-color:#000000 ; padding: 10px 0;\">\n",
    "    <center><h1 style=\"color: white; font-weight:bold\">DATA SOURCES AND DESCRIPTION</h1></center>\n",
    "</div>"
   ]
  },
  {
   "attachments": {},
   "cell_type": "markdown",
   "id": "ee3ebdfb-b5e2-4c71-ac71-7a96b8abc439",
   "metadata": {
    "execution": {
     "iopub.execute_input": "2024-05-05T14:04:37.306458Z",
     "iopub.status.busy": "2024-05-05T14:04:37.305179Z",
     "iopub.status.idle": "2024-05-05T14:04:37.324726Z",
     "shell.execute_reply": "2024-05-05T14:04:37.323385Z",
     "shell.execute_reply.started": "2024-05-05T14:04:37.306393Z"
    }
   },
   "source": [
    "The **GDELT (Global Data of Events, Language, and Tone) Project** is a comprehensive global monitoring system that tracks news content from broadcasters, print media, and websites in numerous languages across almost every country in the world. It employs advanced techniques to identify and extract key elements driving global discourse and events, such as people, locations, organizations, topics, sources, sentiments, numerical data, quotations, images, and events. By continuously processing this immense stream of information on a second-by-second basis, GDELT generates a freely accessible open data platform that enables computational analysis of the world's events, narratives, and societal forces in real-time.\n",
    "\n",
    "GDELT has several [datasets](https://www.gdeltproject.org/data.html). This study specifically uses the **Global Knowledge Graph** (GKG) dataset. GKG enables the representation of the underlying dimensions, geographic patterns, and network structures inherent in global news coverage. It uses sophisticated natural language processing algorithms to compute and encode a  range of codified metadata that captures the latent and contextual aspects of each document. In essence, the GKG interconnects every person, organization, location, numerical data, theme, news source, and event across the globe into a massive unified network. This network captures what is happening worldwide, the associated contexts and involved entities, as well as the sentiments surrounding these events, providing a daily comprehensive view of our global society.\n",
    "\n",
    "The dataset has the following fields:"
   ]
  },
  {
   "cell_type": "markdown",
   "id": "855ce575-9657-4ca2-b7d3-dd16729f49f7",
   "metadata": {
    "jp-MarkdownHeadingCollapsed": true
   },
   "source": [
    "| Field Name                    | Description |\n",
    "|-------------------------------|-------------|\n",
    "| GKGRECORDID                   | Each GKG record is assigned a globally unique identifier in a date-oriented serial number format. |\n",
    "| V2.1DATE                      | The publication date of the news media used to construct the GKG file, in YYYYMMDDHHMMSS format. |\n",
    "| V2SOURCECOLLECTIONIDENTIFIER  | A numeric identifier specifying the source collection the document came from. |\n",
    "| V2SOURCECOMMONNAME            | A human-friendly identifier of the source of the document. |\n",
    "| V2DOCUMENTIDENTIFIER          | The unique external identifier for the source document. |\n",
    "| V1COUNTS                      | A semicolon-delimited list of counts found in the document, each separated by the pound symbol. |\n",
    "| V2.1COUNTS                    | Similar to V1COUNTS but includes character offsets for each count. |\n",
    "| V1THEMES                      | A semicolon-delimited list of all themes found in the document. |\n",
    "| V2ENHANCEDTHEMES              | Includes all GKG themes referenced in the document along with character offsets. |\n",
    "| V1LOCATIONS                   | A semicolon-delimited list of all locations found in the text, extracted using the Leetaru algorithm. |\n",
    "| V2ENHANCEDLOCATIONS           | Similar to V1LOCATIONS but includes an extra field for character offsets and additional details. |\n",
    "| V1PERSONS                     | A semicolon-delimited list of all person names found in the text. |\n",
    "| V2ENHANCEDPERSONS             | Includes all person names referenced in the document along with character offsets. |\n",
    "| V1ORGANIZATIONS               | A semicolon-delimited list of all company and organization names found in the text. |\n",
    "| V2ENHANCEDORGANIZATIONS       | Includes all organizations/companies referenced in the document along with character offsets. |\n",
    "| V1.5TONE                      | A list of six core emotional dimensions, each recorded as a single precision floating point number. |\n",
    "| V2.1ENHANCEDDATES             | Contains a list of all date references in the document, along with character offsets. |\n",
    "| V2GCAM                        | The Global Content Analysis Measures field, runs an array of content analysis systems over each document. |\n",
    "| V2.1SHARINGIMAGE              | Specifies a \"sharing image\" for each article as specified by news websites. |\n",
    "| V2.1RELATEDIMAGES             | A list of URLs of images deemed most relevant to the core story of the article. |\n",
    "| V2.1SOCIALIMAGEEMBEDS         | A list of URLs of image-based social media posts embedded in articles. |\n",
    "| V2.1SOCIALVIDEOEMBEDS         | A list of URLs of videos embedded in articles from various platforms like YouTube, Vimeo, etc. |\n",
    "| V2.1QUOTATIONS                | Extracts and segments all quoted statements from each article. |\n",
    "| V2.1ALLNAMES                  | Contains a list of all proper names referenced in the document, along with character offsets. |\n",
    "| V2.1AMOUNTS                   | Contains a list of all precise numeric amounts referenced in the document, along with character offsets. |\n",
    "| V2.1TRANSLATIONINFO           | Records provenance information for machine translated documents. |\n",
    "| V2EXTRASXML                   | Reserved to hold special non-standard data applicable to special subsets of the GDELT collection. |\n"
   ]
  },
  {
   "cell_type": "markdown",
   "id": "5d024897-67af-4d51-afd5-c3454afa7026",
   "metadata": {},
   "source": [
    "The study extracted insights using these columns mainly: `V1COUNTS`, `V1THEMES`, `V1LOCATIONS`. Further information on `V1COUNTS` and `V1THEMES` are elaborated below:\n",
    "\n",
    "**`V1COUNTS`**\n",
    "- Sample: `[\"ARREST#400#political#4#Rossiya, Orenburgskaya Oblast', Russia#RS#RS55#52.4#54.9833#-2993111;\"]`\n",
    "- This is the value of the NAME field from the Category List spreadsheet indicating which category this count is of. At the time of this writing, this is most often` AFFECT`, `ARREST`, `KIDNAP`, `KILL`, `PROTEST`, `SEIZE`, or `WOUND`, though other categories may appear here as well in certain circumstances when they appear in context with one of these categories, or as other Count categories are added over time. A value of “PROTEST” in this field would indicate that this is a count of the number of protesters at a protest.\n",
    "- Short description of the count types:\n",
    "| Count Type | Description |\n",
    "|------------|-------------|\n",
    "| `AFFECT`     | This broad category captures everything from being sickened to refugees, evacuations, displaced persons, stranded, etc |\n",
    "| `ARREST`     | Discussion of someone being arrested, detained, jailed, imprisoned, etc |\n",
    "| `DISPLACED`  | This category counts mentions of people being displaced - see REFUGEES for counts of refugees, forced migration, and related |\n",
    "| `EVACUATION` | Mentions of evacuations |\n",
    "| `KIDNAP`     | Someone being kidnapped, abducted, hostages, etc |\n",
    "| `KILL`       | Any mention of something dying |\n",
    "| `PROTEST`   | Discussion of protesting, demonstrating, rioting, striking, activists, agitators, etc |\n",
    "| `REFUGEES`   | Refugees, displaced persons, forced migration, asylum seekers |\n",
    "| `SEIZE`      | Something being seized (often drugs, illegal materials, etc) |\n",
    "| `SICKENED`   | This category counts anything being sickened |\n",
    "| `WOUND`      | Any mention of something being wounded or injured |"
   ]
  },
  {
   "cell_type": "markdown",
   "id": "248240d6-0462-44cb-859c-3ef18b74c2ee",
   "metadata": {},
   "source": [
    "**`V1THEMES`**\n",
    "- Sample: `SELF_IDENTIFIED_HUMAN_RIGHTS;FREESPEECH;POLITICAL_PRISONER;PROTEST;MOVEMENT_GENERAL;`\n",
    "- This is a [link](https://view.officeapps.live.com/op/view.aspx?src=http%3A%2F%2Fdata.gdeltproject.org%2Fdocumentation%2FGDELT-Global_Knowledge_Graph_CategoryList.xlsx&wdOrigin=BROWSELINK) to the description of the 284 themes in the dataset including the count types mentioned previously. However, this list is not exhaustive; some themes found in the dataset have no corresponding descriptions in the linked file and should be sourced externally. [This](https://blog.gdeltproject.org/crisislex-taxonomies-now-available-in-gkg/) is one example of such.\n",
    "- Sample descriptions\n",
    "| Theme                | Description |\n",
    "|----------------------|-------------|\n",
    "| `CORRUPTION`           | Corruption, kickbacks, embezzling, profiteering, etc |\n",
    "| `CRIME_CARTELS`        | Primarily focused around mentions of drug cartels, drug corridors, etc. Does not currently have a list of cartels, just captures general discussion of them |\n",
    "| `CRIME_COMMON_ROBBERY` | Discussion of general crime like pickpocketing, robbery, street criminals, etc |\n",
    "| `CRIME_ILLEGAL_DRUGS`  | Mentions of illegal drugs |\n",
    "| `CYBER_ATTACK`         | Any discussion of cyberwarfare, cyberattacks, phishing, hacking, hacktivists, viruses, etc |\n"
   ]
  },
  {
   "cell_type": "markdown",
   "id": "8f7885a3-d2af-4e24-b403-640e6c5379ae",
   "metadata": {
    "execution": {
     "iopub.execute_input": "2024-05-05T14:04:45.318289Z",
     "iopub.status.busy": "2024-05-05T14:04:45.316912Z",
     "iopub.status.idle": "2024-05-05T14:04:45.325862Z",
     "shell.execute_reply": "2024-05-05T14:04:45.324225Z",
     "shell.execute_reply.started": "2024-05-05T14:04:45.318223Z"
    }
   },
   "source": [
    "<div style=\"background-color:#000000 ; padding: 10px 0;\">\n",
    "    <center><h1 style=\"color: white; font-weight:bold\">METHODOLOGY</h1></center>\n",
    "</div> "
   ]
  },
  {
   "cell_type": "markdown",
   "id": "09730a54-3a68-4fe3-b59e-2253a789ec2d",
   "metadata": {
    "execution": {
     "iopub.execute_input": "2024-05-07T14:21:37.554552Z",
     "iopub.status.busy": "2024-05-07T14:21:37.553816Z",
     "iopub.status.idle": "2024-05-07T14:21:37.565550Z",
     "shell.execute_reply": "2024-05-07T14:21:37.563619Z",
     "shell.execute_reply.started": "2024-05-07T14:21:37.554489Z"
    }
   },
   "source": [
    "<b style='color:red'>Add date range and why—can be said that this is a prototype</b>"
   ]
  },
  {
   "cell_type": "code",
   "execution_count": 39,
   "id": "baf30bed-69d3-4332-afa3-7d3b4265fff4",
   "metadata": {
    "execution": {
     "iopub.execute_input": "2024-05-07T14:10:29.169267Z",
     "iopub.status.busy": "2024-05-07T14:10:29.168505Z",
     "iopub.status.idle": "2024-05-07T14:10:29.216475Z",
     "shell.execute_reply": "2024-05-07T14:10:29.213610Z",
     "shell.execute_reply.started": "2024-05-07T14:10:29.169207Z"
    }
   },
   "outputs": [],
   "source": [
    "spark = (SparkSession\n",
    "     .builder\n",
    "     .master('local[*]') # Master URL;\n",
    "     .getOrCreate())"
   ]
  },
  {
   "cell_type": "code",
   "execution_count": 42,
   "id": "37158408-42d1-44c3-907a-1d64c6baf6df",
   "metadata": {
    "execution": {
     "iopub.execute_input": "2024-05-07T14:50:14.001939Z",
     "iopub.status.busy": "2024-05-07T14:50:14.000434Z",
     "iopub.status.idle": "2024-05-07T14:50:16.734581Z",
     "shell.execute_reply": "2024-05-07T14:50:16.733160Z",
     "shell.execute_reply.started": "2024-05-07T14:50:14.001857Z"
    }
   },
   "outputs": [],
   "source": [
    "df = spark.read.parquet(\"/home/msds2024/pmartinez/cpt1_shared/slt1a/bdcc\"\\\n",
    "                            \"/201610/parquets\")"
   ]
  },
  {
   "cell_type": "markdown",
   "id": "1552f7d9-fe38-4c1e-acb2-7dea244e68a5",
   "metadata": {},
   "source": [
    "The GKG (Global Knowledge Graph) dataset has a total of  2,087,088 rows, and looks like the following:\n",
    "\n",
    "*Note: Due to the voluminous nature of big data, the sample dataframes will be displayed in their transposed form for the reader to clearly see the columns being referenced*."
   ]
  },
  {
   "cell_type": "code",
   "execution_count": 57,
   "id": "89333aa4-fa72-4dea-ad3f-1b776574d8f1",
   "metadata": {
    "execution": {
     "iopub.execute_input": "2024-05-07T16:11:02.877772Z",
     "iopub.status.busy": "2024-05-07T16:11:02.876557Z",
     "iopub.status.idle": "2024-05-07T16:11:08.056595Z",
     "shell.execute_reply": "2024-05-07T16:11:08.055575Z",
     "shell.execute_reply.started": "2024-05-07T16:11:02.877715Z"
    }
   },
   "outputs": [
    {
     "name": "stdout",
     "output_type": "stream",
     "text": [
      "The dataset has 2087088 rows.\n"
     ]
    },
    {
     "data": {
      "text/html": [
       "<div>\n",
       "<style scoped>\n",
       "    .dataframe tbody tr th:only-of-type {\n",
       "        vertical-align: middle;\n",
       "    }\n",
       "\n",
       "    .dataframe tbody tr th {\n",
       "        vertical-align: top;\n",
       "    }\n",
       "\n",
       "    .dataframe thead th {\n",
       "        text-align: right;\n",
       "    }\n",
       "</style>\n",
       "<table border=\"1\" class=\"dataframe\">\n",
       "  <thead>\n",
       "    <tr style=\"text-align: right;\">\n",
       "      <th></th>\n",
       "      <th>0</th>\n",
       "    </tr>\n",
       "  </thead>\n",
       "  <tbody>\n",
       "    <tr>\n",
       "      <th>GKGRECORDID</th>\n",
       "      <td>20161006153000-0</td>\n",
       "    </tr>\n",
       "    <tr>\n",
       "      <th>V2.1DATE</th>\n",
       "      <td>20161006153000</td>\n",
       "    </tr>\n",
       "    <tr>\n",
       "      <th>V2SOURCECOLLECTIONIDENTIFIER</th>\n",
       "      <td>2</td>\n",
       "    </tr>\n",
       "    <tr>\n",
       "      <th>V2SOURCECOMMONNAME</th>\n",
       "      <td>BBC Monitoring</td>\n",
       "    </tr>\n",
       "    <tr>\n",
       "      <th>V2DOCUMENTIDENTIFIER</th>\n",
       "      <td>Islamic Republic News Agency, Tehran/BBC Monit...</td>\n",
       "    </tr>\n",
       "    <tr>\n",
       "      <th>V1COUNTS</th>\n",
       "      <td>None</td>\n",
       "    </tr>\n",
       "    <tr>\n",
       "      <th>V2.1COUNTS</th>\n",
       "      <td>None</td>\n",
       "    </tr>\n",
       "    <tr>\n",
       "      <th>V1THEMES</th>\n",
       "      <td>WB_2433_CONFLICT_AND_VIOLENCE;WB_2449_PARAMILI...</td>\n",
       "    </tr>\n",
       "    <tr>\n",
       "      <th>V2ENHANCEDTHEMES</th>\n",
       "      <td>WB_2433_CONFLICT_AND_VIOLENCE,44;WB_2449_PARAM...</td>\n",
       "    </tr>\n",
       "    <tr>\n",
       "      <th>V1LOCATIONS</th>\n",
       "      <td>None</td>\n",
       "    </tr>\n",
       "    <tr>\n",
       "      <th>V2ENHANCEDLOCATIONS</th>\n",
       "      <td>None</td>\n",
       "    </tr>\n",
       "    <tr>\n",
       "      <th>V1PERSONS</th>\n",
       "      <td>abdolhossein imani</td>\n",
       "    </tr>\n",
       "    <tr>\n",
       "      <th>V2ENHANCEDPERSONS</th>\n",
       "      <td>Abdolhossein Imani,260</td>\n",
       "    </tr>\n",
       "    <tr>\n",
       "      <th>V1ORGANIZATIONS</th>\n",
       "      <td>iran basij paramilitary;islamic republic news ...</td>\n",
       "    </tr>\n",
       "    <tr>\n",
       "      <th>V2ENHANCEDORGANIZATIONS</th>\n",
       "      <td>Iran Basij Paramilitary,44;Islamic Republic Ne...</td>\n",
       "    </tr>\n",
       "    <tr>\n",
       "      <th>V1.5TONE</th>\n",
       "      <td>-3.27868852459016,0.819672131147541,4.09836065...</td>\n",
       "    </tr>\n",
       "    <tr>\n",
       "      <th>V2.1ENHANCEDDATES</th>\n",
       "      <td>None</td>\n",
       "    </tr>\n",
       "    <tr>\n",
       "      <th>V2GCAM</th>\n",
       "      <td>wc:110,c12.1:4,c12.10:8,c12.12:4,c12.13:1,c12....</td>\n",
       "    </tr>\n",
       "    <tr>\n",
       "      <th>V2.1SHARINGIMAGE</th>\n",
       "      <td>None</td>\n",
       "    </tr>\n",
       "    <tr>\n",
       "      <th>V2.1RELATEDIMAGES</th>\n",
       "      <td>None</td>\n",
       "    </tr>\n",
       "    <tr>\n",
       "      <th>V2.1SOCIALIMAGEEMBEDS</th>\n",
       "      <td>None</td>\n",
       "    </tr>\n",
       "    <tr>\n",
       "      <th>V2.1SOCIALVIDEOEMBEDS</th>\n",
       "      <td>None</td>\n",
       "    </tr>\n",
       "    <tr>\n",
       "      <th>V2.1QUOTATIONS</th>\n",
       "      <td>None</td>\n",
       "    </tr>\n",
       "    <tr>\n",
       "      <th>V2.1ALLNAMES</th>\n",
       "      <td>Basij Paramilitary Force,52;Ila Bayt,85;Toward...</td>\n",
       "    </tr>\n",
       "    <tr>\n",
       "      <th>V2.1AMOUNTS</th>\n",
       "      <td>None</td>\n",
       "    </tr>\n",
       "    <tr>\n",
       "      <th>V2.1TRANSLATIONINFO</th>\n",
       "      <td>None</td>\n",
       "    </tr>\n",
       "    <tr>\n",
       "      <th>V2EXTRASXML</th>\n",
       "      <td>None</td>\n",
       "    </tr>\n",
       "  </tbody>\n",
       "</table>\n",
       "</div>"
      ],
      "text/plain": [
       "                                                                              0\n",
       "GKGRECORDID                                                    20161006153000-0\n",
       "V2.1DATE                                                         20161006153000\n",
       "V2SOURCECOLLECTIONIDENTIFIER                                                  2\n",
       "V2SOURCECOMMONNAME                                               BBC Monitoring\n",
       "V2DOCUMENTIDENTIFIER          Islamic Republic News Agency, Tehran/BBC Monit...\n",
       "V1COUNTS                                                                   None\n",
       "V2.1COUNTS                                                                 None\n",
       "V1THEMES                      WB_2433_CONFLICT_AND_VIOLENCE;WB_2449_PARAMILI...\n",
       "V2ENHANCEDTHEMES              WB_2433_CONFLICT_AND_VIOLENCE,44;WB_2449_PARAM...\n",
       "V1LOCATIONS                                                                None\n",
       "V2ENHANCEDLOCATIONS                                                        None\n",
       "V1PERSONS                                                    abdolhossein imani\n",
       "V2ENHANCEDPERSONS                                        Abdolhossein Imani,260\n",
       "V1ORGANIZATIONS               iran basij paramilitary;islamic republic news ...\n",
       "V2ENHANCEDORGANIZATIONS       Iran Basij Paramilitary,44;Islamic Republic Ne...\n",
       "V1.5TONE                      -3.27868852459016,0.819672131147541,4.09836065...\n",
       "V2.1ENHANCEDDATES                                                          None\n",
       "V2GCAM                        wc:110,c12.1:4,c12.10:8,c12.12:4,c12.13:1,c12....\n",
       "V2.1SHARINGIMAGE                                                           None\n",
       "V2.1RELATEDIMAGES                                                          None\n",
       "V2.1SOCIALIMAGEEMBEDS                                                      None\n",
       "V2.1SOCIALVIDEOEMBEDS                                                      None\n",
       "V2.1QUOTATIONS                                                             None\n",
       "V2.1ALLNAMES                  Basij Paramilitary Force,52;Ila Bayt,85;Toward...\n",
       "V2.1AMOUNTS                                                                None\n",
       "V2.1TRANSLATIONINFO                                                        None\n",
       "V2EXTRASXML                                                                None"
      ]
     },
     "metadata": {},
     "output_type": "display_data"
    }
   ],
   "source": [
    "print(f\"The dataset has {df.count()} rows.\")\n",
    "display(df.limit(1).toPandas().transpose())"
   ]
  },
  {
   "cell_type": "markdown",
   "id": "f13797b6-4943-478d-9ecb-7b0c9619a2c1",
   "metadata": {
    "jp-MarkdownHeadingCollapsed": true
   },
   "source": [
    "Based on the [Data Sources and Description](#data-sources-description) section, we know that the GKG dataset has a nested or hierarchical structure where some columns contain multiple pieces of information separated by delimiters. This necessitates the need to denormalize or unnest these nested information elements to capture more comprehensive and granular insights.\n",
    "\n",
    "In particular, we explode the following columns:\n",
    "- `V1COUNTS`: To extract the count types (`KILL`, `ARREST`, `PROTEST`, etc.)\n",
    "- `V1LOCATIONS`: To extract the region, country, longitude, and latitude\n",
    "- `V1THEMES`: To extract all the themes of every discussion\n",
    "\n",
    "The resulting dataframe after the explosion and removal of unneeded columns is as such:"
   ]
  },
  {
   "cell_type": "code",
   "execution_count": 48,
   "id": "ec05a87f-c8af-40fd-9c73-828eb5b7538d",
   "metadata": {
    "execution": {
     "iopub.execute_input": "2024-05-07T15:48:03.293966Z",
     "iopub.status.busy": "2024-05-07T15:48:03.293205Z",
     "iopub.status.idle": "2024-05-07T15:48:03.437060Z",
     "shell.execute_reply": "2024-05-07T15:48:03.435376Z",
     "shell.execute_reply.started": "2024-05-07T15:48:03.293907Z"
    }
   },
   "outputs": [],
   "source": [
    "df_final = (df\n",
    "            .withColumn('CountType', F.regexp_extract('V1COUNTS',\n",
    "                                                      r'^([^#]+)', 1))\n",
    "            .withColumn('ExpandedLocation',\n",
    "                        F.explode(F.split(F.regexp_extract('V1LOCATIONS',\n",
    "                                                   r'(^|;)([^#]+#[^#]+#[^#]+)',\n",
    "                                                   0), \";\")))\n",
    "            .withColumn('ExtractedLocation',\n",
    "                        F.regexp_extract('ExpandedLocation',\n",
    "                                         r'#([^#]+)#', 1))\n",
    "            .withColumn('Region',\n",
    "                        F.element_at(F.split(F.col('ExtractedLocation'),\n",
    "                                             ', '), 1))\n",
    "            .withColumn('Country',\n",
    "                        F.element_at(F.split(F.col('ExtractedLocation'), ', '),\n",
    "                             -1))  # Last element as Country\n",
    "            .withColumn('Region',\n",
    "                        F.when(F.col('Region') == F.col('Country'),\n",
    "                               None).otherwise(F.col('Region')))\n",
    "            .withColumn('Themes_Single',\n",
    "                        F.explode(F.split(F.regexp_extract('V1THEMES',\n",
    "                                                           r'([^;]+)',\n",
    "                                                           0), \";\")))\n",
    "            .drop('ExpandedLocation', 'ExtractedLocation', 'GKGRECORDID',\n",
    "                  'V2.1DATE', 'V2.1COUNTS', 'V2ENHANCEDTHEMES', 'V1PERSONS',\n",
    "                  'V2ENHANCEDPERSONS', 'V1ORGANIZATIONS',\n",
    "                  'V2ENHANCEDORGANIZATIONS', 'V2.1ENHANCEDDATES', 'V2GCAM',\n",
    "                  'V2.1SHARINGIMAGE', 'V2.1RELATEDIMAGES',\n",
    "                  'V2.1SOCIALIMAGEEMBEDS', 'V2.1SOCIALVIDEOEMBEDS',\n",
    "                  'V2.1QUOTATIONS', 'V2.1ALLNAMES', 'V2.1AMOUNTS',\n",
    "                  'V2.1TRANSLATIONINFO', 'V2EXTRASXML'\n",
    "                 )\n",
    "           )"
   ]
  },
  {
   "cell_type": "code",
   "execution_count": 58,
   "id": "be14e532-dcec-4614-afff-7f1870af8b45",
   "metadata": {
    "execution": {
     "iopub.execute_input": "2024-05-07T16:11:15.978361Z",
     "iopub.status.busy": "2024-05-07T16:11:15.977412Z",
     "iopub.status.idle": "2024-05-07T16:11:16.220205Z",
     "shell.execute_reply": "2024-05-07T16:11:16.218741Z",
     "shell.execute_reply.started": "2024-05-07T16:11:15.978303Z"
    }
   },
   "outputs": [
    {
     "data": {
      "text/html": [
       "<div>\n",
       "<style scoped>\n",
       "    .dataframe tbody tr th:only-of-type {\n",
       "        vertical-align: middle;\n",
       "    }\n",
       "\n",
       "    .dataframe tbody tr th {\n",
       "        vertical-align: top;\n",
       "    }\n",
       "\n",
       "    .dataframe thead th {\n",
       "        text-align: right;\n",
       "    }\n",
       "</style>\n",
       "<table border=\"1\" class=\"dataframe\">\n",
       "  <thead>\n",
       "    <tr style=\"text-align: right;\">\n",
       "      <th></th>\n",
       "      <th>0</th>\n",
       "    </tr>\n",
       "  </thead>\n",
       "  <tbody>\n",
       "    <tr>\n",
       "      <th>V2SOURCECOLLECTIONIDENTIFIER</th>\n",
       "      <td>2</td>\n",
       "    </tr>\n",
       "    <tr>\n",
       "      <th>V2SOURCECOMMONNAME</th>\n",
       "      <td>BBC Monitoring</td>\n",
       "    </tr>\n",
       "    <tr>\n",
       "      <th>V2DOCUMENTIDENTIFIER</th>\n",
       "      <td>News/BBC Monitoring/(c) BBC</td>\n",
       "    </tr>\n",
       "    <tr>\n",
       "      <th>V1COUNTS</th>\n",
       "      <td>None</td>\n",
       "    </tr>\n",
       "    <tr>\n",
       "      <th>V1THEMES</th>\n",
       "      <td>LEADER;TAX_FNCACT;TAX_FNCACT_PRESIDENT;USPEC_P...</td>\n",
       "    </tr>\n",
       "    <tr>\n",
       "      <th>V1LOCATIONS</th>\n",
       "      <td>4#Pretoria, Gauteng, South Africa#SF#SF06#-25....</td>\n",
       "    </tr>\n",
       "    <tr>\n",
       "      <th>V2ENHANCEDLOCATIONS</th>\n",
       "      <td>1#South Africans#SF#SF##-29#24#SF#592;4#Pretor...</td>\n",
       "    </tr>\n",
       "    <tr>\n",
       "      <th>V1.5TONE</th>\n",
       "      <td>1.73160173160173,4.76190476190476,3.0303030303...</td>\n",
       "    </tr>\n",
       "    <tr>\n",
       "      <th>CountType</th>\n",
       "      <td>None</td>\n",
       "    </tr>\n",
       "    <tr>\n",
       "      <th>Region</th>\n",
       "      <td>Pretoria</td>\n",
       "    </tr>\n",
       "    <tr>\n",
       "      <th>Country</th>\n",
       "      <td>South Africa</td>\n",
       "    </tr>\n",
       "    <tr>\n",
       "      <th>Themes_Single</th>\n",
       "      <td>LEADER</td>\n",
       "    </tr>\n",
       "  </tbody>\n",
       "</table>\n",
       "</div>"
      ],
      "text/plain": [
       "                                                                              0\n",
       "V2SOURCECOLLECTIONIDENTIFIER                                                  2\n",
       "V2SOURCECOMMONNAME                                               BBC Monitoring\n",
       "V2DOCUMENTIDENTIFIER                                News/BBC Monitoring/(c) BBC\n",
       "V1COUNTS                                                                   None\n",
       "V1THEMES                      LEADER;TAX_FNCACT;TAX_FNCACT_PRESIDENT;USPEC_P...\n",
       "V1LOCATIONS                   4#Pretoria, Gauteng, South Africa#SF#SF06#-25....\n",
       "V2ENHANCEDLOCATIONS           1#South Africans#SF#SF##-29#24#SF#592;4#Pretor...\n",
       "V1.5TONE                      1.73160173160173,4.76190476190476,3.0303030303...\n",
       "CountType                                                                  None\n",
       "Region                                                                 Pretoria\n",
       "Country                                                            South Africa\n",
       "Themes_Single                                                            LEADER"
      ]
     },
     "metadata": {},
     "output_type": "display_data"
    }
   ],
   "source": [
    "display(df_final.limit(1).toPandas().transpose())"
   ]
  },
  {
   "cell_type": "markdown",
   "id": "255245dc-436f-404c-9527-753cde06589e",
   "metadata": {},
   "source": [
    "Additionally, since our analysis focuses on the legacy of the Duterte Administration, we created separate dataframes: one consisting of discussions that occurred only in the Philippines, and another for its neighboring countries in Southeast Asia (SEA). This allows us to provide greater context and substance to any insights specific to the Philippines during this period by considering the regional dynamics and discussions in nearby countries.\n",
    "\n",
    "These two dataframes are as follows:"
   ]
  },
  {
   "cell_type": "code",
   "execution_count": 59,
   "id": "811568db-08ed-4b46-9143-bdf51a0a29cf",
   "metadata": {
    "execution": {
     "iopub.execute_input": "2024-05-07T16:11:22.199268Z",
     "iopub.status.busy": "2024-05-07T16:11:22.198557Z",
     "iopub.status.idle": "2024-05-07T16:11:22.697439Z",
     "shell.execute_reply": "2024-05-07T16:11:22.696397Z",
     "shell.execute_reply.started": "2024-05-07T16:11:22.199210Z"
    }
   },
   "outputs": [
    {
     "name": "stdout",
     "output_type": "stream",
     "text": [
      "Dataframe of the Philippines:\n"
     ]
    },
    {
     "data": {
      "text/html": [
       "<div>\n",
       "<style scoped>\n",
       "    .dataframe tbody tr th:only-of-type {\n",
       "        vertical-align: middle;\n",
       "    }\n",
       "\n",
       "    .dataframe tbody tr th {\n",
       "        vertical-align: top;\n",
       "    }\n",
       "\n",
       "    .dataframe thead th {\n",
       "        text-align: right;\n",
       "    }\n",
       "</style>\n",
       "<table border=\"1\" class=\"dataframe\">\n",
       "  <thead>\n",
       "    <tr style=\"text-align: right;\">\n",
       "      <th></th>\n",
       "      <th>0</th>\n",
       "    </tr>\n",
       "  </thead>\n",
       "  <tbody>\n",
       "    <tr>\n",
       "      <th>V2SOURCECOLLECTIONIDENTIFIER</th>\n",
       "      <td>1</td>\n",
       "    </tr>\n",
       "    <tr>\n",
       "      <th>V2SOURCECOMMONNAME</th>\n",
       "      <td>philstar.com</td>\n",
       "    </tr>\n",
       "    <tr>\n",
       "      <th>V2DOCUMENTIDENTIFIER</th>\n",
       "      <td>http://www.philstar.com/banking/2016/10/06/163...</td>\n",
       "    </tr>\n",
       "    <tr>\n",
       "      <th>V1COUNTS</th>\n",
       "      <td>None</td>\n",
       "    </tr>\n",
       "    <tr>\n",
       "      <th>V1THEMES</th>\n",
       "      <td>TAX_FNCACT;TAX_FNCACT_AUTHOR;ECON_STOCKMARKET;...</td>\n",
       "    </tr>\n",
       "    <tr>\n",
       "      <th>V1LOCATIONS</th>\n",
       "      <td>4#Manila, Manila, Philippines#RP#RPD9#14.6042#...</td>\n",
       "    </tr>\n",
       "    <tr>\n",
       "      <th>V2ENHANCEDLOCATIONS</th>\n",
       "      <td>4#Manila, Manila, Philippines#RP#RPD9#24210#14...</td>\n",
       "    </tr>\n",
       "    <tr>\n",
       "      <th>V1.5TONE</th>\n",
       "      <td>3.93700787401575,4.7244094488189,0.78740157480...</td>\n",
       "    </tr>\n",
       "    <tr>\n",
       "      <th>CountType</th>\n",
       "      <td>None</td>\n",
       "    </tr>\n",
       "    <tr>\n",
       "      <th>Region</th>\n",
       "      <td>Manila</td>\n",
       "    </tr>\n",
       "    <tr>\n",
       "      <th>Country</th>\n",
       "      <td>Philippines</td>\n",
       "    </tr>\n",
       "    <tr>\n",
       "      <th>Themes_Single</th>\n",
       "      <td>TAX_FNCACT</td>\n",
       "    </tr>\n",
       "  </tbody>\n",
       "</table>\n",
       "</div>"
      ],
      "text/plain": [
       "                                                                              0\n",
       "V2SOURCECOLLECTIONIDENTIFIER                                                  1\n",
       "V2SOURCECOMMONNAME                                                 philstar.com\n",
       "V2DOCUMENTIDENTIFIER          http://www.philstar.com/banking/2016/10/06/163...\n",
       "V1COUNTS                                                                   None\n",
       "V1THEMES                      TAX_FNCACT;TAX_FNCACT_AUTHOR;ECON_STOCKMARKET;...\n",
       "V1LOCATIONS                   4#Manila, Manila, Philippines#RP#RPD9#14.6042#...\n",
       "V2ENHANCEDLOCATIONS           4#Manila, Manila, Philippines#RP#RPD9#24210#14...\n",
       "V1.5TONE                      3.93700787401575,4.7244094488189,0.78740157480...\n",
       "CountType                                                                  None\n",
       "Region                                                                   Manila\n",
       "Country                                                             Philippines\n",
       "Themes_Single                                                        TAX_FNCACT"
      ]
     },
     "metadata": {},
     "output_type": "display_data"
    },
    {
     "name": "stdout",
     "output_type": "stream",
     "text": [
      "\n",
      "Dataframe of the neighboring countries in SEA:\n"
     ]
    },
    {
     "data": {
      "text/html": [
       "<div>\n",
       "<style scoped>\n",
       "    .dataframe tbody tr th:only-of-type {\n",
       "        vertical-align: middle;\n",
       "    }\n",
       "\n",
       "    .dataframe tbody tr th {\n",
       "        vertical-align: top;\n",
       "    }\n",
       "\n",
       "    .dataframe thead th {\n",
       "        text-align: right;\n",
       "    }\n",
       "</style>\n",
       "<table border=\"1\" class=\"dataframe\">\n",
       "  <thead>\n",
       "    <tr style=\"text-align: right;\">\n",
       "      <th></th>\n",
       "      <th>0</th>\n",
       "    </tr>\n",
       "  </thead>\n",
       "  <tbody>\n",
       "    <tr>\n",
       "      <th>V2SOURCECOLLECTIONIDENTIFIER</th>\n",
       "      <td>1</td>\n",
       "    </tr>\n",
       "    <tr>\n",
       "      <th>V2SOURCECOMMONNAME</th>\n",
       "      <td>asiaone.com</td>\n",
       "    </tr>\n",
       "    <tr>\n",
       "      <th>V2DOCUMENTIDENTIFIER</th>\n",
       "      <td>http://forums.asiaone.com/showthread.php?s=8e5...</td>\n",
       "    </tr>\n",
       "    <tr>\n",
       "      <th>V1COUNTS</th>\n",
       "      <td>None</td>\n",
       "    </tr>\n",
       "    <tr>\n",
       "      <th>V1THEMES</th>\n",
       "      <td>CRISISLEX_CRISISLEXREC;DEATH_PENALTY;TRIAL;EPU...</td>\n",
       "    </tr>\n",
       "    <tr>\n",
       "      <th>V1LOCATIONS</th>\n",
       "      <td>1#Singapore#SN#SN#1.3667#103.8#SN</td>\n",
       "    </tr>\n",
       "    <tr>\n",
       "      <th>V2ENHANCEDLOCATIONS</th>\n",
       "      <td>1#Singapore#SN#SN##1.3667#103.8#SN#404</td>\n",
       "    </tr>\n",
       "    <tr>\n",
       "      <th>V1.5TONE</th>\n",
       "      <td>-1.23456790123457,4.93827160493827,6.172839506...</td>\n",
       "    </tr>\n",
       "    <tr>\n",
       "      <th>CountType</th>\n",
       "      <td>None</td>\n",
       "    </tr>\n",
       "    <tr>\n",
       "      <th>Region</th>\n",
       "      <td>None</td>\n",
       "    </tr>\n",
       "    <tr>\n",
       "      <th>Country</th>\n",
       "      <td>Singapore</td>\n",
       "    </tr>\n",
       "    <tr>\n",
       "      <th>Themes_Single</th>\n",
       "      <td>CRISISLEX_CRISISLEXREC</td>\n",
       "    </tr>\n",
       "  </tbody>\n",
       "</table>\n",
       "</div>"
      ],
      "text/plain": [
       "                                                                              0\n",
       "V2SOURCECOLLECTIONIDENTIFIER                                                  1\n",
       "V2SOURCECOMMONNAME                                                  asiaone.com\n",
       "V2DOCUMENTIDENTIFIER          http://forums.asiaone.com/showthread.php?s=8e5...\n",
       "V1COUNTS                                                                   None\n",
       "V1THEMES                      CRISISLEX_CRISISLEXREC;DEATH_PENALTY;TRIAL;EPU...\n",
       "V1LOCATIONS                                   1#Singapore#SN#SN#1.3667#103.8#SN\n",
       "V2ENHANCEDLOCATIONS                      1#Singapore#SN#SN##1.3667#103.8#SN#404\n",
       "V1.5TONE                      -1.23456790123457,4.93827160493827,6.172839506...\n",
       "CountType                                                                  None\n",
       "Region                                                                     None\n",
       "Country                                                               Singapore\n",
       "Themes_Single                                            CRISISLEX_CRISISLEXREC"
      ]
     },
     "metadata": {},
     "output_type": "display_data"
    }
   ],
   "source": [
    "df_ph = (df_final\n",
    "         .filter(F.col('Country')\n",
    "                 .rlike('Philippines')\n",
    "                )\n",
    "        )\n",
    "\n",
    "# Filtering the DataFrame for SEA countries\n",
    "sea_countries = [\"Brunei\", \"Cambodia\", \"Indonesia\", \"Laos\", \"Malaysia\",\n",
    "                 \"Myanmar\", \"Singapore\", \"Thailand\", \"Vietnam\",\n",
    "                 \"East Timor\"]\n",
    "df_sea = (df_final\n",
    "          .filter(F.col('Country')\n",
    "                  .isin(sea_countries))\n",
    "         )\n",
    "\n",
    "print(\"Dataframe of the Philippines:\")\n",
    "display(df_ph.limit(1).toPandas().transpose())\n",
    "print(\"\\nDataframe of the neighboring countries in SEA:\")\n",
    "display(df_sea.limit(1).toPandas().transpose())"
   ]
  },
  {
   "cell_type": "markdown",
   "id": "c1d0c634-adf2-4af2-a515-45b40ccb0d24",
   "metadata": {},
   "source": [
    "<div style=\"background-color:#000000 ; padding: 10px 0;\">\n",
    "    <center><h1 style=\"color: white; font-weight:bold\">EXPLORATORY DATA ANALYSIS</h1></center>\n",
    "</div> "
   ]
  },
  {
   "cell_type": "markdown",
   "id": "495261eb-9cb1-4dd6-84b9-629112f3114b",
   "metadata": {},
   "source": [
    "<div style=\"background-color:#880808 ; padding: 10px 0;\">\n",
    "    <center><h5 style=\"color: white; font-weight:bold\">How many distinct counts were made for each type, such as kill, arrest, protest, etc.?</h3></center>\n",
    "</div> "
   ]
  },
  {
   "cell_type": "markdown",
   "id": "769e336b-30b9-4cc7-adf1-951e2d708e04",
   "metadata": {},
   "source": [
    "The data paints a *potentially* concerning picture of the documents in the Philippines during the first week of October 2016, shortly after the new Duterte Administration took office in the Philippines. \n",
    "\n",
    "The most striking observation from the data is the extraordinarily high number of reports related to \"KILL\" events, which stands at 1,426. This suggests that there was a significant amount of coverage on killings or deaths during that particular week.\n",
    "\n",
    "Other notable events reported include \"ARREST\" (438 reports), \"KIDNAP\" (207 reports), and \"AFFECT\" (200 reports), indicating a considerable emphasis on law enforcement actions, abductions, and incidents with broader impacts.\n",
    "    \n",
    "The plot also highlights reports of \"WOUND\" (73), \"SEIZE\" (49), \"PROTEST\" (31), and \"EVACUATION\" (4) events, suggesting instances of injuries, confiscations or raids, demonstrations, and displacements of people.\n",
    "\n",
    "Additionally, there are isolated reports related to \"SOC_POINTSOFINTEREST_JAIL\" (2), \"CRISISLEX_T03_DEAD\" (1), and \"POVERTY\" (1), which could indicate discussions or mentions of incarceration facilities, crisis-related deaths, and issues of poverty, respectively."
   ]
  },
  {
   "cell_type": "code",
   "execution_count": 65,
   "id": "09a598c2-eda9-449d-8012-d36297c819c3",
   "metadata": {
    "execution": {
     "iopub.execute_input": "2024-05-07T16:23:20.338937Z",
     "iopub.status.busy": "2024-05-07T16:23:20.337988Z",
     "iopub.status.idle": "2024-05-07T16:23:29.175035Z",
     "shell.execute_reply": "2024-05-07T16:23:29.173460Z",
     "shell.execute_reply.started": "2024-05-07T16:23:20.338897Z"
    }
   },
   "outputs": [],
   "source": [
    "result = (\n",
    "    df_ph.filter(F.col(\"CountType\").isNotNull())\n",
    "    .groupBy(\"CountType\")\n",
    "    .count()\n",
    "    .orderBy(\"count\", ascending=False)\n",
    "    .toPandas()\n",
    ")"
   ]
  },
  {
   "cell_type": "code",
   "execution_count": 80,
   "id": "833db8f1-ca18-4718-a34f-50ce6c8debd5",
   "metadata": {
    "execution": {
     "iopub.execute_input": "2024-05-07T16:46:56.003847Z",
     "iopub.status.busy": "2024-05-07T16:46:56.002437Z",
     "iopub.status.idle": "2024-05-07T16:46:56.047196Z",
     "shell.execute_reply": "2024-05-07T16:46:56.046370Z",
     "shell.execute_reply.started": "2024-05-07T16:46:56.003762Z"
    }
   },
   "outputs": [
    {
     "data": {
      "application/vnd.plotly.v1+json": {
       "config": {
        "plotlyServerURL": "https://plot.ly"
       },
       "data": [
        {
         "marker": {
          "color": [
           "#ECECEC",
           "#ECECEC",
           "#ECECEC",
           "#ECECEC",
           "#ECECEC",
           "#ECECEC",
           "#ECECEC",
           "#ECECEC",
           "#ECECEC",
           "#ECECEC",
           "#880808"
          ]
         },
         "orientation": "h",
         "text": [
          1,
          1,
          2,
          4,
          31,
          49,
          73,
          200,
          207,
          438,
          1426
         ],
         "type": "bar",
         "x": [
          1,
          1,
          2,
          4,
          31,
          49,
          73,
          200,
          207,
          438,
          1426
         ],
         "y": [
          "POVERTY",
          "CRISISLEX_T03_DEAD",
          "SOC_POINTSOFINTEREST_JAIL",
          "EVACUATION",
          "PROTEST",
          "SEIZE",
          "WOUND",
          "AFFECT",
          "KIDNAP",
          "ARREST",
          "KILL"
         ]
        }
       ],
       "layout": {
        "height": 600,
        "template": {
         "data": {
          "bar": [
           {
            "error_x": {
             "color": "#2a3f5f"
            },
            "error_y": {
             "color": "#2a3f5f"
            },
            "marker": {
             "line": {
              "color": "white",
              "width": 0.5
             },
             "pattern": {
              "fillmode": "overlay",
              "size": 10,
              "solidity": 0.2
             }
            },
            "type": "bar"
           }
          ],
          "barpolar": [
           {
            "marker": {
             "line": {
              "color": "white",
              "width": 0.5
             },
             "pattern": {
              "fillmode": "overlay",
              "size": 10,
              "solidity": 0.2
             }
            },
            "type": "barpolar"
           }
          ],
          "carpet": [
           {
            "aaxis": {
             "endlinecolor": "#2a3f5f",
             "gridcolor": "#C8D4E3",
             "linecolor": "#C8D4E3",
             "minorgridcolor": "#C8D4E3",
             "startlinecolor": "#2a3f5f"
            },
            "baxis": {
             "endlinecolor": "#2a3f5f",
             "gridcolor": "#C8D4E3",
             "linecolor": "#C8D4E3",
             "minorgridcolor": "#C8D4E3",
             "startlinecolor": "#2a3f5f"
            },
            "type": "carpet"
           }
          ],
          "choropleth": [
           {
            "colorbar": {
             "outlinewidth": 0,
             "ticks": ""
            },
            "type": "choropleth"
           }
          ],
          "contour": [
           {
            "colorbar": {
             "outlinewidth": 0,
             "ticks": ""
            },
            "colorscale": [
             [
              0,
              "#0d0887"
             ],
             [
              0.1111111111111111,
              "#46039f"
             ],
             [
              0.2222222222222222,
              "#7201a8"
             ],
             [
              0.3333333333333333,
              "#9c179e"
             ],
             [
              0.4444444444444444,
              "#bd3786"
             ],
             [
              0.5555555555555556,
              "#d8576b"
             ],
             [
              0.6666666666666666,
              "#ed7953"
             ],
             [
              0.7777777777777778,
              "#fb9f3a"
             ],
             [
              0.8888888888888888,
              "#fdca26"
             ],
             [
              1,
              "#f0f921"
             ]
            ],
            "type": "contour"
           }
          ],
          "contourcarpet": [
           {
            "colorbar": {
             "outlinewidth": 0,
             "ticks": ""
            },
            "type": "contourcarpet"
           }
          ],
          "heatmap": [
           {
            "colorbar": {
             "outlinewidth": 0,
             "ticks": ""
            },
            "colorscale": [
             [
              0,
              "#0d0887"
             ],
             [
              0.1111111111111111,
              "#46039f"
             ],
             [
              0.2222222222222222,
              "#7201a8"
             ],
             [
              0.3333333333333333,
              "#9c179e"
             ],
             [
              0.4444444444444444,
              "#bd3786"
             ],
             [
              0.5555555555555556,
              "#d8576b"
             ],
             [
              0.6666666666666666,
              "#ed7953"
             ],
             [
              0.7777777777777778,
              "#fb9f3a"
             ],
             [
              0.8888888888888888,
              "#fdca26"
             ],
             [
              1,
              "#f0f921"
             ]
            ],
            "type": "heatmap"
           }
          ],
          "heatmapgl": [
           {
            "colorbar": {
             "outlinewidth": 0,
             "ticks": ""
            },
            "colorscale": [
             [
              0,
              "#0d0887"
             ],
             [
              0.1111111111111111,
              "#46039f"
             ],
             [
              0.2222222222222222,
              "#7201a8"
             ],
             [
              0.3333333333333333,
              "#9c179e"
             ],
             [
              0.4444444444444444,
              "#bd3786"
             ],
             [
              0.5555555555555556,
              "#d8576b"
             ],
             [
              0.6666666666666666,
              "#ed7953"
             ],
             [
              0.7777777777777778,
              "#fb9f3a"
             ],
             [
              0.8888888888888888,
              "#fdca26"
             ],
             [
              1,
              "#f0f921"
             ]
            ],
            "type": "heatmapgl"
           }
          ],
          "histogram": [
           {
            "marker": {
             "pattern": {
              "fillmode": "overlay",
              "size": 10,
              "solidity": 0.2
             }
            },
            "type": "histogram"
           }
          ],
          "histogram2d": [
           {
            "colorbar": {
             "outlinewidth": 0,
             "ticks": ""
            },
            "colorscale": [
             [
              0,
              "#0d0887"
             ],
             [
              0.1111111111111111,
              "#46039f"
             ],
             [
              0.2222222222222222,
              "#7201a8"
             ],
             [
              0.3333333333333333,
              "#9c179e"
             ],
             [
              0.4444444444444444,
              "#bd3786"
             ],
             [
              0.5555555555555556,
              "#d8576b"
             ],
             [
              0.6666666666666666,
              "#ed7953"
             ],
             [
              0.7777777777777778,
              "#fb9f3a"
             ],
             [
              0.8888888888888888,
              "#fdca26"
             ],
             [
              1,
              "#f0f921"
             ]
            ],
            "type": "histogram2d"
           }
          ],
          "histogram2dcontour": [
           {
            "colorbar": {
             "outlinewidth": 0,
             "ticks": ""
            },
            "colorscale": [
             [
              0,
              "#0d0887"
             ],
             [
              0.1111111111111111,
              "#46039f"
             ],
             [
              0.2222222222222222,
              "#7201a8"
             ],
             [
              0.3333333333333333,
              "#9c179e"
             ],
             [
              0.4444444444444444,
              "#bd3786"
             ],
             [
              0.5555555555555556,
              "#d8576b"
             ],
             [
              0.6666666666666666,
              "#ed7953"
             ],
             [
              0.7777777777777778,
              "#fb9f3a"
             ],
             [
              0.8888888888888888,
              "#fdca26"
             ],
             [
              1,
              "#f0f921"
             ]
            ],
            "type": "histogram2dcontour"
           }
          ],
          "mesh3d": [
           {
            "colorbar": {
             "outlinewidth": 0,
             "ticks": ""
            },
            "type": "mesh3d"
           }
          ],
          "parcoords": [
           {
            "line": {
             "colorbar": {
              "outlinewidth": 0,
              "ticks": ""
             }
            },
            "type": "parcoords"
           }
          ],
          "pie": [
           {
            "automargin": true,
            "type": "pie"
           }
          ],
          "scatter": [
           {
            "fillpattern": {
             "fillmode": "overlay",
             "size": 10,
             "solidity": 0.2
            },
            "type": "scatter"
           }
          ],
          "scatter3d": [
           {
            "line": {
             "colorbar": {
              "outlinewidth": 0,
              "ticks": ""
             }
            },
            "marker": {
             "colorbar": {
              "outlinewidth": 0,
              "ticks": ""
             }
            },
            "type": "scatter3d"
           }
          ],
          "scattercarpet": [
           {
            "marker": {
             "colorbar": {
              "outlinewidth": 0,
              "ticks": ""
             }
            },
            "type": "scattercarpet"
           }
          ],
          "scattergeo": [
           {
            "marker": {
             "colorbar": {
              "outlinewidth": 0,
              "ticks": ""
             }
            },
            "type": "scattergeo"
           }
          ],
          "scattergl": [
           {
            "marker": {
             "colorbar": {
              "outlinewidth": 0,
              "ticks": ""
             }
            },
            "type": "scattergl"
           }
          ],
          "scattermapbox": [
           {
            "marker": {
             "colorbar": {
              "outlinewidth": 0,
              "ticks": ""
             }
            },
            "type": "scattermapbox"
           }
          ],
          "scatterpolar": [
           {
            "marker": {
             "colorbar": {
              "outlinewidth": 0,
              "ticks": ""
             }
            },
            "type": "scatterpolar"
           }
          ],
          "scatterpolargl": [
           {
            "marker": {
             "colorbar": {
              "outlinewidth": 0,
              "ticks": ""
             }
            },
            "type": "scatterpolargl"
           }
          ],
          "scatterternary": [
           {
            "marker": {
             "colorbar": {
              "outlinewidth": 0,
              "ticks": ""
             }
            },
            "type": "scatterternary"
           }
          ],
          "surface": [
           {
            "colorbar": {
             "outlinewidth": 0,
             "ticks": ""
            },
            "colorscale": [
             [
              0,
              "#0d0887"
             ],
             [
              0.1111111111111111,
              "#46039f"
             ],
             [
              0.2222222222222222,
              "#7201a8"
             ],
             [
              0.3333333333333333,
              "#9c179e"
             ],
             [
              0.4444444444444444,
              "#bd3786"
             ],
             [
              0.5555555555555556,
              "#d8576b"
             ],
             [
              0.6666666666666666,
              "#ed7953"
             ],
             [
              0.7777777777777778,
              "#fb9f3a"
             ],
             [
              0.8888888888888888,
              "#fdca26"
             ],
             [
              1,
              "#f0f921"
             ]
            ],
            "type": "surface"
           }
          ],
          "table": [
           {
            "cells": {
             "fill": {
              "color": "#EBF0F8"
             },
             "line": {
              "color": "white"
             }
            },
            "header": {
             "fill": {
              "color": "#C8D4E3"
             },
             "line": {
              "color": "white"
             }
            },
            "type": "table"
           }
          ]
         },
         "layout": {
          "annotationdefaults": {
           "arrowcolor": "#2a3f5f",
           "arrowhead": 0,
           "arrowwidth": 1
          },
          "autotypenumbers": "strict",
          "coloraxis": {
           "colorbar": {
            "outlinewidth": 0,
            "ticks": ""
           }
          },
          "colorscale": {
           "diverging": [
            [
             0,
             "#8e0152"
            ],
            [
             0.1,
             "#c51b7d"
            ],
            [
             0.2,
             "#de77ae"
            ],
            [
             0.3,
             "#f1b6da"
            ],
            [
             0.4,
             "#fde0ef"
            ],
            [
             0.5,
             "#f7f7f7"
            ],
            [
             0.6,
             "#e6f5d0"
            ],
            [
             0.7,
             "#b8e186"
            ],
            [
             0.8,
             "#7fbc41"
            ],
            [
             0.9,
             "#4d9221"
            ],
            [
             1,
             "#276419"
            ]
           ],
           "sequential": [
            [
             0,
             "#0d0887"
            ],
            [
             0.1111111111111111,
             "#46039f"
            ],
            [
             0.2222222222222222,
             "#7201a8"
            ],
            [
             0.3333333333333333,
             "#9c179e"
            ],
            [
             0.4444444444444444,
             "#bd3786"
            ],
            [
             0.5555555555555556,
             "#d8576b"
            ],
            [
             0.6666666666666666,
             "#ed7953"
            ],
            [
             0.7777777777777778,
             "#fb9f3a"
            ],
            [
             0.8888888888888888,
             "#fdca26"
            ],
            [
             1,
             "#f0f921"
            ]
           ],
           "sequentialminus": [
            [
             0,
             "#0d0887"
            ],
            [
             0.1111111111111111,
             "#46039f"
            ],
            [
             0.2222222222222222,
             "#7201a8"
            ],
            [
             0.3333333333333333,
             "#9c179e"
            ],
            [
             0.4444444444444444,
             "#bd3786"
            ],
            [
             0.5555555555555556,
             "#d8576b"
            ],
            [
             0.6666666666666666,
             "#ed7953"
            ],
            [
             0.7777777777777778,
             "#fb9f3a"
            ],
            [
             0.8888888888888888,
             "#fdca26"
            ],
            [
             1,
             "#f0f921"
            ]
           ]
          },
          "colorway": [
           "#636efa",
           "#EF553B",
           "#00cc96",
           "#ab63fa",
           "#FFA15A",
           "#19d3f3",
           "#FF6692",
           "#B6E880",
           "#FF97FF",
           "#FECB52"
          ],
          "font": {
           "color": "#2a3f5f"
          },
          "geo": {
           "bgcolor": "white",
           "lakecolor": "white",
           "landcolor": "white",
           "showlakes": true,
           "showland": true,
           "subunitcolor": "#C8D4E3"
          },
          "hoverlabel": {
           "align": "left"
          },
          "hovermode": "closest",
          "mapbox": {
           "style": "light"
          },
          "paper_bgcolor": "white",
          "plot_bgcolor": "white",
          "polar": {
           "angularaxis": {
            "gridcolor": "#EBF0F8",
            "linecolor": "#EBF0F8",
            "ticks": ""
           },
           "bgcolor": "white",
           "radialaxis": {
            "gridcolor": "#EBF0F8",
            "linecolor": "#EBF0F8",
            "ticks": ""
           }
          },
          "scene": {
           "xaxis": {
            "backgroundcolor": "white",
            "gridcolor": "#DFE8F3",
            "gridwidth": 2,
            "linecolor": "#EBF0F8",
            "showbackground": true,
            "ticks": "",
            "zerolinecolor": "#EBF0F8"
           },
           "yaxis": {
            "backgroundcolor": "white",
            "gridcolor": "#DFE8F3",
            "gridwidth": 2,
            "linecolor": "#EBF0F8",
            "showbackground": true,
            "ticks": "",
            "zerolinecolor": "#EBF0F8"
           },
           "zaxis": {
            "backgroundcolor": "white",
            "gridcolor": "#DFE8F3",
            "gridwidth": 2,
            "linecolor": "#EBF0F8",
            "showbackground": true,
            "ticks": "",
            "zerolinecolor": "#EBF0F8"
           }
          },
          "shapedefaults": {
           "line": {
            "color": "#2a3f5f"
           }
          },
          "ternary": {
           "aaxis": {
            "gridcolor": "#DFE8F3",
            "linecolor": "#A2B1C6",
            "ticks": ""
           },
           "baxis": {
            "gridcolor": "#DFE8F3",
            "linecolor": "#A2B1C6",
            "ticks": ""
           },
           "bgcolor": "white",
           "caxis": {
            "gridcolor": "#DFE8F3",
            "linecolor": "#A2B1C6",
            "ticks": ""
           }
          },
          "title": {
           "x": 0.05
          },
          "xaxis": {
           "automargin": true,
           "gridcolor": "#EBF0F8",
           "linecolor": "#EBF0F8",
           "ticks": "",
           "title": {
            "standoff": 15
           },
           "zerolinecolor": "#EBF0F8",
           "zerolinewidth": 2
          },
          "yaxis": {
           "automargin": true,
           "gridcolor": "#EBF0F8",
           "linecolor": "#EBF0F8",
           "ticks": "",
           "title": {
            "standoff": 15
           },
           "zerolinecolor": "#EBF0F8",
           "zerolinewidth": 2
          }
         }
        },
        "title": {
         "font": {
          "size": 16
         },
         "text": "A Week in Review: What Happened in Early October 2016?<br><sub>The first week of October, shortly after the new Duterte Administration took office, saw many reports of killings, casting a spotlight on a potential pressing issue.</sub>"
        },
        "width": 1000,
        "xaxis": {
         "autorange": true,
         "range": [
          0,
          1501.0526315789473
         ],
         "title": {
          "text": "Count"
         },
         "type": "linear"
        },
        "yaxis": {
         "autorange": true,
         "range": [
          -0.5,
          10.5
         ],
         "title": {
          "text": "Count Type"
         },
         "type": "category"
        }
       }
      },
      "image/png": "[encoded data removed]",
      "text/html": [
       "<div>                            <div id=\"f6b5e33f-5f22-4e6e-80e1-8b40fc7edec7\" class=\"plotly-graph-div\" style=\"height:600px; width:1000px;\"></div>            <script type=\"text/javascript\">                require([\"plotly\"], function(Plotly) {                    window.PLOTLYENV=window.PLOTLYENV || {};                                    if (document.getElementById(\"f6b5e33f-5f22-4e6e-80e1-8b40fc7edec7\")) {                    Plotly.newPlot(                        \"f6b5e33f-5f22-4e6e-80e1-8b40fc7edec7\",                        [{\"marker\":{\"color\":[\"#ECECEC\",\"#ECECEC\",\"#ECECEC\",\"#ECECEC\",\"#ECECEC\",\"#ECECEC\",\"#ECECEC\",\"#ECECEC\",\"#ECECEC\",\"#ECECEC\",\"#880808\"]},\"orientation\":\"h\",\"text\":[1.0,1.0,2.0,4.0,31.0,49.0,73.0,200.0,207.0,438.0,1426.0],\"x\":[1,1,2,4,31,49,73,200,207,438,1426],\"y\":[\"POVERTY\",\"CRISISLEX_T03_DEAD\",\"SOC_POINTSOFINTEREST_JAIL\",\"EVACUATION\",\"PROTEST\",\"SEIZE\",\"WOUND\",\"AFFECT\",\"KIDNAP\",\"ARREST\",\"KILL\"],\"type\":\"bar\"}],                        {\"template\":{\"data\":{\"barpolar\":[{\"marker\":{\"line\":{\"color\":\"white\",\"width\":0.5},\"pattern\":{\"fillmode\":\"overlay\",\"size\":10,\"solidity\":0.2}},\"type\":\"barpolar\"}],\"bar\":[{\"error_x\":{\"color\":\"#2a3f5f\"},\"error_y\":{\"color\":\"#2a3f5f\"},\"marker\":{\"line\":{\"color\":\"white\",\"width\":0.5},\"pattern\":{\"fillmode\":\"overlay\",\"size\":10,\"solidity\":0.2}},\"type\":\"bar\"}],\"carpet\":[{\"aaxis\":{\"endlinecolor\":\"#2a3f5f\",\"gridcolor\":\"#C8D4E3\",\"linecolor\":\"#C8D4E3\",\"minorgridcolor\":\"#C8D4E3\",\"startlinecolor\":\"#2a3f5f\"},\"baxis\":{\"endlinecolor\":\"#2a3f5f\",\"gridcolor\":\"#C8D4E3\",\"linecolor\":\"#C8D4E3\",\"minorgridcolor\":\"#C8D4E3\",\"startlinecolor\":\"#2a3f5f\"},\"type\":\"carpet\"}],\"choropleth\":[{\"colorbar\":{\"outlinewidth\":0,\"ticks\":\"\"},\"type\":\"choropleth\"}],\"contourcarpet\":[{\"colorbar\":{\"outlinewidth\":0,\"ticks\":\"\"},\"type\":\"contourcarpet\"}],\"contour\":[{\"colorbar\":{\"outlinewidth\":0,\"ticks\":\"\"},\"colorscale\":[[0.0,\"#0d0887\"],[0.1111111111111111,\"#46039f\"],[0.2222222222222222,\"#7201a8\"],[0.3333333333333333,\"#9c179e\"],[0.4444444444444444,\"#bd3786\"],[0.5555555555555556,\"#d8576b\"],[0.6666666666666666,\"#ed7953\"],[0.7777777777777778,\"#fb9f3a\"],[0.8888888888888888,\"#fdca26\"],[1.0,\"#f0f921\"]],\"type\":\"contour\"}],\"heatmapgl\":[{\"colorbar\":{\"outlinewidth\":0,\"ticks\":\"\"},\"colorscale\":[[0.0,\"#0d0887\"],[0.1111111111111111,\"#46039f\"],[0.2222222222222222,\"#7201a8\"],[0.3333333333333333,\"#9c179e\"],[0.4444444444444444,\"#bd3786\"],[0.5555555555555556,\"#d8576b\"],[0.6666666666666666,\"#ed7953\"],[0.7777777777777778,\"#fb9f3a\"],[0.8888888888888888,\"#fdca26\"],[1.0,\"#f0f921\"]],\"type\":\"heatmapgl\"}],\"heatmap\":[{\"colorbar\":{\"outlinewidth\":0,\"ticks\":\"\"},\"colorscale\":[[0.0,\"#0d0887\"],[0.1111111111111111,\"#46039f\"],[0.2222222222222222,\"#7201a8\"],[0.3333333333333333,\"#9c179e\"],[0.4444444444444444,\"#bd3786\"],[0.5555555555555556,\"#d8576b\"],[0.6666666666666666,\"#ed7953\"],[0.7777777777777778,\"#fb9f3a\"],[0.8888888888888888,\"#fdca26\"],[1.0,\"#f0f921\"]],\"type\":\"heatmap\"}],\"histogram2dcontour\":[{\"colorbar\":{\"outlinewidth\":0,\"ticks\":\"\"},\"colorscale\":[[0.0,\"#0d0887\"],[0.1111111111111111,\"#46039f\"],[0.2222222222222222,\"#7201a8\"],[0.3333333333333333,\"#9c179e\"],[0.4444444444444444,\"#bd3786\"],[0.5555555555555556,\"#d8576b\"],[0.6666666666666666,\"#ed7953\"],[0.7777777777777778,\"#fb9f3a\"],[0.8888888888888888,\"#fdca26\"],[1.0,\"#f0f921\"]],\"type\":\"histogram2dcontour\"}],\"histogram2d\":[{\"colorbar\":{\"outlinewidth\":0,\"ticks\":\"\"},\"colorscale\":[[0.0,\"#0d0887\"],[0.1111111111111111,\"#46039f\"],[0.2222222222222222,\"#7201a8\"],[0.3333333333333333,\"#9c179e\"],[0.4444444444444444,\"#bd3786\"],[0.5555555555555556,\"#d8576b\"],[0.6666666666666666,\"#ed7953\"],[0.7777777777777778,\"#fb9f3a\"],[0.8888888888888888,\"#fdca26\"],[1.0,\"#f0f921\"]],\"type\":\"histogram2d\"}],\"histogram\":[{\"marker\":{\"pattern\":{\"fillmode\":\"overlay\",\"size\":10,\"solidity\":0.2}},\"type\":\"histogram\"}],\"mesh3d\":[{\"colorbar\":{\"outlinewidth\":0,\"ticks\":\"\"},\"type\":\"mesh3d\"}],\"parcoords\":[{\"line\":{\"colorbar\":{\"outlinewidth\":0,\"ticks\":\"\"}},\"type\":\"parcoords\"}],\"pie\":[{\"automargin\":true,\"type\":\"pie\"}],\"scatter3d\":[{\"line\":{\"colorbar\":{\"outlinewidth\":0,\"ticks\":\"\"}},\"marker\":{\"colorbar\":{\"outlinewidth\":0,\"ticks\":\"\"}},\"type\":\"scatter3d\"}],\"scattercarpet\":[{\"marker\":{\"colorbar\":{\"outlinewidth\":0,\"ticks\":\"\"}},\"type\":\"scattercarpet\"}],\"scattergeo\":[{\"marker\":{\"colorbar\":{\"outlinewidth\":0,\"ticks\":\"\"}},\"type\":\"scattergeo\"}],\"scattergl\":[{\"marker\":{\"colorbar\":{\"outlinewidth\":0,\"ticks\":\"\"}},\"type\":\"scattergl\"}],\"scattermapbox\":[{\"marker\":{\"colorbar\":{\"outlinewidth\":0,\"ticks\":\"\"}},\"type\":\"scattermapbox\"}],\"scatterpolargl\":[{\"marker\":{\"colorbar\":{\"outlinewidth\":0,\"ticks\":\"\"}},\"type\":\"scatterpolargl\"}],\"scatterpolar\":[{\"marker\":{\"colorbar\":{\"outlinewidth\":0,\"ticks\":\"\"}},\"type\":\"scatterpolar\"}],\"scatter\":[{\"fillpattern\":{\"fillmode\":\"overlay\",\"size\":10,\"solidity\":0.2},\"type\":\"scatter\"}],\"scatterternary\":[{\"marker\":{\"colorbar\":{\"outlinewidth\":0,\"ticks\":\"\"}},\"type\":\"scatterternary\"}],\"surface\":[{\"colorbar\":{\"outlinewidth\":0,\"ticks\":\"\"},\"colorscale\":[[0.0,\"#0d0887\"],[0.1111111111111111,\"#46039f\"],[0.2222222222222222,\"#7201a8\"],[0.3333333333333333,\"#9c179e\"],[0.4444444444444444,\"#bd3786\"],[0.5555555555555556,\"#d8576b\"],[0.6666666666666666,\"#ed7953\"],[0.7777777777777778,\"#fb9f3a\"],[0.8888888888888888,\"#fdca26\"],[1.0,\"#f0f921\"]],\"type\":\"surface\"}],\"table\":[{\"cells\":{\"fill\":{\"color\":\"#EBF0F8\"},\"line\":{\"color\":\"white\"}},\"header\":{\"fill\":{\"color\":\"#C8D4E3\"},\"line\":{\"color\":\"white\"}},\"type\":\"table\"}]},\"layout\":{\"annotationdefaults\":{\"arrowcolor\":\"#2a3f5f\",\"arrowhead\":0,\"arrowwidth\":1},\"autotypenumbers\":\"strict\",\"coloraxis\":{\"colorbar\":{\"outlinewidth\":0,\"ticks\":\"\"}},\"colorscale\":{\"diverging\":[[0,\"#8e0152\"],[0.1,\"#c51b7d\"],[0.2,\"#de77ae\"],[0.3,\"#f1b6da\"],[0.4,\"#fde0ef\"],[0.5,\"#f7f7f7\"],[0.6,\"#e6f5d0\"],[0.7,\"#b8e186\"],[0.8,\"#7fbc41\"],[0.9,\"#4d9221\"],[1,\"#276419\"]],\"sequential\":[[0.0,\"#0d0887\"],[0.1111111111111111,\"#46039f\"],[0.2222222222222222,\"#7201a8\"],[0.3333333333333333,\"#9c179e\"],[0.4444444444444444,\"#bd3786\"],[0.5555555555555556,\"#d8576b\"],[0.6666666666666666,\"#ed7953\"],[0.7777777777777778,\"#fb9f3a\"],[0.8888888888888888,\"#fdca26\"],[1.0,\"#f0f921\"]],\"sequentialminus\":[[0.0,\"#0d0887\"],[0.1111111111111111,\"#46039f\"],[0.2222222222222222,\"#7201a8\"],[0.3333333333333333,\"#9c179e\"],[0.4444444444444444,\"#bd3786\"],[0.5555555555555556,\"#d8576b\"],[0.6666666666666666,\"#ed7953\"],[0.7777777777777778,\"#fb9f3a\"],[0.8888888888888888,\"#fdca26\"],[1.0,\"#f0f921\"]]},\"colorway\":[\"#636efa\",\"#EF553B\",\"#00cc96\",\"#ab63fa\",\"#FFA15A\",\"#19d3f3\",\"#FF6692\",\"#B6E880\",\"#FF97FF\",\"#FECB52\"],\"font\":{\"color\":\"#2a3f5f\"},\"geo\":{\"bgcolor\":\"white\",\"lakecolor\":\"white\",\"landcolor\":\"white\",\"showlakes\":true,\"showland\":true,\"subunitcolor\":\"#C8D4E3\"},\"hoverlabel\":{\"align\":\"left\"},\"hovermode\":\"closest\",\"mapbox\":{\"style\":\"light\"},\"paper_bgcolor\":\"white\",\"plot_bgcolor\":\"white\",\"polar\":{\"angularaxis\":{\"gridcolor\":\"#EBF0F8\",\"linecolor\":\"#EBF0F8\",\"ticks\":\"\"},\"bgcolor\":\"white\",\"radialaxis\":{\"gridcolor\":\"#EBF0F8\",\"linecolor\":\"#EBF0F8\",\"ticks\":\"\"}},\"scene\":{\"xaxis\":{\"backgroundcolor\":\"white\",\"gridcolor\":\"#DFE8F3\",\"gridwidth\":2,\"linecolor\":\"#EBF0F8\",\"showbackground\":true,\"ticks\":\"\",\"zerolinecolor\":\"#EBF0F8\"},\"yaxis\":{\"backgroundcolor\":\"white\",\"gridcolor\":\"#DFE8F3\",\"gridwidth\":2,\"linecolor\":\"#EBF0F8\",\"showbackground\":true,\"ticks\":\"\",\"zerolinecolor\":\"#EBF0F8\"},\"zaxis\":{\"backgroundcolor\":\"white\",\"gridcolor\":\"#DFE8F3\",\"gridwidth\":2,\"linecolor\":\"#EBF0F8\",\"showbackground\":true,\"ticks\":\"\",\"zerolinecolor\":\"#EBF0F8\"}},\"shapedefaults\":{\"line\":{\"color\":\"#2a3f5f\"}},\"ternary\":{\"aaxis\":{\"gridcolor\":\"#DFE8F3\",\"linecolor\":\"#A2B1C6\",\"ticks\":\"\"},\"baxis\":{\"gridcolor\":\"#DFE8F3\",\"linecolor\":\"#A2B1C6\",\"ticks\":\"\"},\"bgcolor\":\"white\",\"caxis\":{\"gridcolor\":\"#DFE8F3\",\"linecolor\":\"#A2B1C6\",\"ticks\":\"\"}},\"title\":{\"x\":0.05},\"xaxis\":{\"automargin\":true,\"gridcolor\":\"#EBF0F8\",\"linecolor\":\"#EBF0F8\",\"ticks\":\"\",\"title\":{\"standoff\":15},\"zerolinecolor\":\"#EBF0F8\",\"zerolinewidth\":2},\"yaxis\":{\"automargin\":true,\"gridcolor\":\"#EBF0F8\",\"linecolor\":\"#EBF0F8\",\"ticks\":\"\",\"title\":{\"standoff\":15},\"zerolinecolor\":\"#EBF0F8\",\"zerolinewidth\":2}}},\"title\":{\"text\":\"A Week in Review: What Happened in Early October 2016?\\u003cbr\\u003e\\u003csub\\u003eThe first week of October, shortly after the new Duterte Administration took office, saw many reports of killings, casting a spotlight on a potential pressing issue.\\u003c\\u002fsub\\u003e\",\"font\":{\"size\":16}},\"xaxis\":{\"title\":{\"text\":\"Count\"}},\"yaxis\":{\"title\":{\"text\":\"Count Type\"}},\"width\":1000,\"height\":600},                        {\"responsive\": true}                    ).then(function(){\n",
       "                            \n",
       "var gd = document.getElementById('f6b5e33f-5f22-4e6e-80e1-8b40fc7edec7');\n",
       "var x = new MutationObserver(function (mutations, observer) {{\n",
       "        var display = window.getComputedStyle(gd).display;\n",
       "        if (!display || display === 'none') {{\n",
       "            console.log([gd, 'removed!']);\n",
       "            Plotly.purge(gd);\n",
       "            observer.disconnect();\n",
       "        }}\n",
       "}});\n",
       "\n",
       "// Listen for the removal of the full notebook cells\n",
       "var notebookContainer = gd.closest('#notebook-container');\n",
       "if (notebookContainer) {{\n",
       "    x.observe(notebookContainer, {childList: true});\n",
       "}}\n",
       "\n",
       "// Listen for the clearing of the current output cell\n",
       "var outputEl = gd.closest('.output');\n",
       "if (outputEl) {{\n",
       "    x.observe(outputEl, {childList: true});\n",
       "}}\n",
       "\n",
       "                        })                };                });            </script>        </div>"
      ]
     },
     "metadata": {},
     "output_type": "display_data"
    }
   ],
   "source": [
    "# Visualizing\n",
    "# Extract the max count to highlight the corresponding bar\n",
    "result_asc = result.sort_values(by=\"count\", ascending=True)\n",
    "\n",
    "# Extract the max count to highlight the corresponding bar\n",
    "max_count = result_asc[\"count\"].max()\n",
    "\n",
    "# Define colors for each bar, highlighting the highest one\n",
    "colors = [\"#ECECEC\" if count != max_count else '#880808'\n",
    "          for count in result_asc[\"count\"]]\n",
    "\n",
    "# Initialize the figure\n",
    "fig = go.Figure()\n",
    "\n",
    "# Add a horizontal bar trace with dynamic colors\n",
    "fig.add_trace(\n",
    "    go.Bar(\n",
    "        y=result_asc[\"CountType\"],\n",
    "        x=result_asc[\"count\"],\n",
    "        marker=dict(color=colors),\n",
    "        text=result_asc[\"count\"],\n",
    "        orientation='h'\n",
    "    )\n",
    ")\n",
    "\n",
    "# Set titles and labels\n",
    "fig.update_layout(\n",
    "    title=(\n",
    "        \"A Week in Review: What Happened in Early October 2016?<br>\"\n",
    "        \"<sub>The first week of October, shortly after the new Duterte \"\n",
    "        \"Administration took office, saw many reports of killings, casting a \"\n",
    "        \"spotlight on a potential pressing issue.</sub>\"\n",
    "    ),\n",
    "    title_font_size=16,\n",
    "    xaxis_title=\"Count\",\n",
    "    yaxis_title=\"Count Type\",\n",
    "    width=1000,\n",
    "    height=600,\n",
    "    template=\"plotly_white\",\n",
    ")\n",
    "\n",
    "# Show the plot\n",
    "fig.show()"
   ]
  },
  {
   "cell_type": "markdown",
   "id": "68167d0f-ffbb-4289-b63b-c6a35e2c6058",
   "metadata": {},
   "source": [
    "<b style='color:red'>PUT COMPARISON WITH AND TRANSITION TO 2015 SAME RANGE</b>"
   ]
  },
  {
   "cell_type": "markdown",
   "id": "9e40322d-53ae-4820-b545-daabac657942",
   "metadata": {},
   "source": [
    "<div style=\"background-color:#000000 ; padding: 10px 0;\">\n",
    "    <center><h1 style=\"color: white; font-weight:bold\">INSIGHTS</h1></center>\n",
    "</div> "
   ]
  },
  {
   "cell_type": "markdown",
   "id": "5c20f139-e108-4304-8985-bf91573f922c",
   "metadata": {},
   "source": [
    "<div style=\"background-color:#000000 ; padding: 10px 0;\">\n",
    "    <center><h1 style=\"color: white; font-weight:bold\">RESULTS and DISCUSSIONS</h1></center>\n",
    "</div> "
   ]
  },
  {
   "cell_type": "markdown",
   "id": "6e9bccd6-f6a3-4ba3-95da-e74dcb493a36",
   "metadata": {},
   "source": [
    "<div style=\"background-color:#000000 ; padding: 10px 0;\">\n",
    "    <center><h1 style=\"color: white; font-weight:bold\">RECOMMENDATIONS</h1></center>\n",
    "</div> "
   ]
  },
  {
   "cell_type": "markdown",
   "id": "367dd6e2-9d9c-44b2-a2e4-43e02e350aa3",
   "metadata": {},
   "source": [
    "<div style=\"background-color:#000000 ; padding: 10px 0;\">\n",
    "    <center><h1 style=\"color: white; font-weight:bold\">SCOPE & LIMITATIONS</h1></center>\n",
    "</div> "
   ]
  },
  {
   "cell_type": "markdown",
   "id": "a5d0e999-2106-4d83-ac82-a8f41a048c33",
   "metadata": {},
   "source": [
    "<div style=\"background-color:#000000 ; padding: 10px 0;\">\n",
    "    <center><h1 style=\"color: white; font-weight:bold\">CONCLUSION</h1></center>\n",
    "</div>"
   ]
  },
  {
   "cell_type": "markdown",
   "id": "ec742009-3f51-47f8-ba1e-17f9934a8ce2",
   "metadata": {},
   "source": [
    "<div style=\"background-color:#000000 ; padding: 10px 0;\">\n",
    "    <center><h1 style=\"color: white; font-weight:bold\">REFERENCES</h1></center>\n",
    "</div> "
   ]
  },
  {
   "cell_type": "markdown",
   "id": "c8a6b679-2f5b-400e-bf8f-e027c7fd5b57",
   "metadata": {},
   "source": [
    "The GDELT Project. (n.d.). [Web page]. Retrieved from https://www.gdeltproject.org/\n",
    "\n",
    "Channel News Asia. (2022). Paid troll army for hire: Philippines' social media elections influencers. [Web page]. Channel News Asia. Retrieved from https://www.channelnewsasia.com/cna-insider/paid-troll-army-hire-philippines-social-media-elections-influencers-2917556\n",
    "\n",
    "Rappler. (n.d.). Investigating troll farms: What to look out for. [Web page]. Retrieved from https://www.rappler.com/newsbreak/iq/investigating-troll-farms-what-to-look-out-for\n"
   ]
  },
  {
   "cell_type": "markdown",
   "id": "9f550349-8f3b-497b-8c92-707430b0e296",
   "metadata": {
    "jp-MarkdownHeadingCollapsed": true
   },
   "source": [
    "<div style=\"background-color:BLUE ; padding: 10px 0;\">\n",
    "    <center><h1 style=\"color: white; font-weight:bold\">SCRATCH</h1></center>\n",
    "</div> "
   ]
  },
  {
   "cell_type": "code",
   "execution_count": 1,
   "id": "855fd407-a7ad-46e8-af14-bf96de48736e",
   "metadata": {
    "execution": {
     "iopub.execute_input": "2024-05-05T15:25:36.227408Z",
     "iopub.status.busy": "2024-05-05T15:25:36.226306Z",
     "iopub.status.idle": "2024-05-05T15:25:36.600425Z",
     "shell.execute_reply": "2024-05-05T15:25:36.599380Z",
     "shell.execute_reply.started": "2024-05-05T15:25:36.227350Z"
    }
   },
   "outputs": [],
   "source": [
    "import os\n",
    "from pyspark.sql import SparkSession\n",
    "from pyspark.sql import functions as F"
   ]
  },
  {
   "cell_type": "code",
   "execution_count": 2,
   "id": "ed70a5ad-221a-4463-9529-80332ccbad63",
   "metadata": {
    "execution": {
     "iopub.execute_input": "2024-05-05T15:25:38.867531Z",
     "iopub.status.busy": "2024-05-05T15:25:38.866750Z",
     "iopub.status.idle": "2024-05-05T15:25:42.525436Z",
     "shell.execute_reply": "2024-05-05T15:25:42.523324Z",
     "shell.execute_reply.started": "2024-05-05T15:25:38.867475Z"
    }
   },
   "outputs": [],
   "source": [
    "spark = (SparkSession\n",
    "     .builder\n",
    "     .master('local[*]') # Master URL;\n",
    "     .getOrCreate())"
   ]
  },
  {
   "cell_type": "code",
   "execution_count": 3,
   "id": "46858d22-6984-4841-8522-4e616cc92ff9",
   "metadata": {
    "execution": {
     "iopub.execute_input": "2024-05-05T15:25:44.840015Z",
     "iopub.status.busy": "2024-05-05T15:25:44.839258Z",
     "iopub.status.idle": "2024-05-05T15:25:54.625545Z",
     "shell.execute_reply": "2024-05-05T15:25:54.623730Z",
     "shell.execute_reply.started": "2024-05-05T15:25:44.839939Z"
    }
   },
   "outputs": [],
   "source": [
    "from pyspark.sql.types import (StructType, StructField, StringType,\n",
    "IntegerType, FloatType, TimestampType, LongType)\n",
    "import glob\n",
    "# Define the schema—NOT FINAL; SHOULD REVISIT\n",
    "schema = StructType([\n",
    "    StructField(\"GKGRECORDID\", StringType(), True),\n",
    "    StructField(\"V2.1DATE\", LongType(), True),\n",
    "    StructField(\"V2SOURCECOLLECTIONIDENTIFIER\", IntegerType(), True),\n",
    "    StructField(\"V2SOURCECOMMONNAME\", StringType(), True),\n",
    "    StructField(\"V2DOCUMENTIDENTIFIER\", StringType(), True),\n",
    "    StructField(\"V1COUNTS\", StringType(), True),\n",
    "    StructField(\"V2.1COUNTS\", StringType(), True),\n",
    "    StructField(\"V1THEMES\", StringType(), True),\n",
    "    StructField(\"V2ENHANCEDTHEMES\", StringType(), True),\n",
    "    StructField(\"V1LOCATIONS\", StringType(), True),\n",
    "    StructField(\"V2ENHANCEDLOCATIONS\", StringType(), True),\n",
    "    StructField(\"V1PERSONS\", StringType(), True),\n",
    "    StructField(\"V2ENHANCEDPERSONS\", StringType(), True),\n",
    "    StructField(\"V1ORGANIZATIONS\", StringType(), True),\n",
    "    StructField(\"V2ENHANCEDORGANIZATIONS\", StringType(), True),\n",
    "    StructField(\"V1.5TONE\", FloatType(), True),\n",
    "    StructField(\"V2.1ENHANCEDDATES\", StringType(), True),\n",
    "    StructField(\"V2GCAM\", StringType(), True),\n",
    "    StructField(\"V2.1SHARINGIMAGE\", StringType(), True),\n",
    "    StructField(\"V2.1RELATEDIMAGES\", StringType(), True),\n",
    "    StructField(\"V2.1SOCIALIMAGEEMBEDS\", StringType(), True),\n",
    "    StructField(\"V2.1SOCIALVIDEOEMBEDS\", StringType(), True),\n",
    "    StructField(\"V2.1QUOTATIONS\", StringType(), True),\n",
    "    StructField(\"V2.1ALLNAMES\", StringType(), True),\n",
    "    StructField(\"V2.1AMOUNTS\", StringType(), True),\n",
    "    StructField(\"V2.1TRANSLATIONINFO\", StringType(), True),\n",
    "    StructField(\"V2EXTRASXML\", StringType(), True)\n",
    "])\n",
    "\n",
    "# Define the path and file patterns for the first 8 days of August 2019\n",
    "path = '/mnt/data/public/gdeltv2/gkg/'\n",
    "file_pattern = '2019080[1-8]*.gkg.csv'  # Matches days 01 to 08\n",
    "\n",
    "# Use glob to list files matching the pattern\n",
    "files = glob.glob(path + file_pattern)\n",
    "\n",
    "# Read the files into a DataFrame with the specified schema\n",
    "df_gkg = spark.read.csv(files, sep='\\t', schema=schema)"
   ]
  },
  {
   "cell_type": "code",
   "execution_count": 4,
   "id": "8d9c7d38-c34f-4394-9bad-88937a91c529",
   "metadata": {
    "execution": {
     "iopub.execute_input": "2024-05-05T15:25:56.506143Z",
     "iopub.status.busy": "2024-05-05T15:25:56.504820Z",
     "iopub.status.idle": "2024-05-05T15:26:17.986355Z",
     "shell.execute_reply": "2024-05-05T15:26:17.984885Z",
     "shell.execute_reply.started": "2024-05-05T15:25:56.506081Z"
    }
   },
   "outputs": [],
   "source": [
    "row_count = df_gkg.count()"
   ]
  },
  {
   "cell_type": "code",
   "execution_count": 5,
   "id": "78632369-053e-47d9-b25d-f9f132e4bda1",
   "metadata": {
    "execution": {
     "iopub.execute_input": "2024-05-05T15:26:17.989379Z",
     "iopub.status.busy": "2024-05-05T15:26:17.988880Z",
     "iopub.status.idle": "2024-05-05T15:26:17.997185Z",
     "shell.execute_reply": "2024-05-05T15:26:17.995909Z",
     "shell.execute_reply.started": "2024-05-05T15:26:17.989336Z"
    }
   },
   "outputs": [
    {
     "name": "stdout",
     "output_type": "stream",
     "text": [
      "The dataset has 1436716 rows.\n"
     ]
    }
   ],
   "source": [
    "print(f\"The dataset has {row_count} rows.\")"
   ]
  },
  {
   "cell_type": "markdown",
   "id": "d273ab0c-f570-46b9-b91d-f2d21545a822",
   "metadata": {},
   "source": [
    "This is a sample of the dataset:"
   ]
  },
  {
   "cell_type": "code",
   "execution_count": 6,
   "id": "d2cef1e4-622f-476f-82df-20f7fdac2209",
   "metadata": {
    "execution": {
     "iopub.execute_input": "2024-05-05T15:26:26.182159Z",
     "iopub.status.busy": "2024-05-05T15:26:26.181464Z",
     "iopub.status.idle": "2024-05-05T15:26:27.051502Z",
     "shell.execute_reply": "2024-05-05T15:26:27.050585Z",
     "shell.execute_reply.started": "2024-05-05T15:26:26.182099Z"
    }
   },
   "outputs": [
    {
     "data": {
      "text/html": [
       "<div>\n",
       "<style scoped>\n",
       "    .dataframe tbody tr th:only-of-type {\n",
       "        vertical-align: middle;\n",
       "    }\n",
       "\n",
       "    .dataframe tbody tr th {\n",
       "        vertical-align: top;\n",
       "    }\n",
       "\n",
       "    .dataframe thead th {\n",
       "        text-align: right;\n",
       "    }\n",
       "</style>\n",
       "<table border=\"1\" class=\"dataframe\">\n",
       "  <thead>\n",
       "    <tr style=\"text-align: right;\">\n",
       "      <th></th>\n",
       "      <th>GKGRECORDID</th>\n",
       "      <th>V2.1DATE</th>\n",
       "      <th>V2SOURCECOLLECTIONIDENTIFIER</th>\n",
       "      <th>V2SOURCECOMMONNAME</th>\n",
       "      <th>V2DOCUMENTIDENTIFIER</th>\n",
       "      <th>V1COUNTS</th>\n",
       "      <th>V2.1COUNTS</th>\n",
       "      <th>V1THEMES</th>\n",
       "      <th>V2ENHANCEDTHEMES</th>\n",
       "      <th>V1LOCATIONS</th>\n",
       "      <th>...</th>\n",
       "      <th>V2GCAM</th>\n",
       "      <th>V2.1SHARINGIMAGE</th>\n",
       "      <th>V2.1RELATEDIMAGES</th>\n",
       "      <th>V2.1SOCIALIMAGEEMBEDS</th>\n",
       "      <th>V2.1SOCIALVIDEOEMBEDS</th>\n",
       "      <th>V2.1QUOTATIONS</th>\n",
       "      <th>V2.1ALLNAMES</th>\n",
       "      <th>V2.1AMOUNTS</th>\n",
       "      <th>V2.1TRANSLATIONINFO</th>\n",
       "      <th>V2EXTRASXML</th>\n",
       "    </tr>\n",
       "  </thead>\n",
       "  <tbody>\n",
       "    <tr>\n",
       "      <th>0</th>\n",
       "      <td>20190801173000-0</td>\n",
       "      <td>20190801173000</td>\n",
       "      <td>1</td>\n",
       "      <td>newstoday.com.bd</td>\n",
       "      <td>http://www.newstoday.com.bd/?option=details&amp;ne...</td>\n",
       "      <td>None</td>\n",
       "      <td>None</td>\n",
       "      <td>TAX_WORLDLANGUAGES;TAX_WORLDLANGUAGES_ARABIC;T...</td>\n",
       "      <td>TAX_FNCACT_JUDGES,1022;MEDIA_MSM,296;SOC_SLAVE...</td>\n",
       "      <td>1#Germany#GM#GM#51.5#10.5#GM;1#Chile#CI#CI#-30...</td>\n",
       "      <td>...</td>\n",
       "      <td>wc:345,c1.1:2,c1.4:1,c12.1:29,c12.10:24,c12.12...</td>\n",
       "      <td>None</td>\n",
       "      <td>None</td>\n",
       "      <td>None</td>\n",
       "      <td>None</td>\n",
       "      <td>1188|112||a richly imagined , engaging and poe...</td>\n",
       "      <td>Man Booker International,95;Edinburgh Universi...</td>\n",
       "      <td>2,previous collections of short,323;3,novels,3...</td>\n",
       "      <td>None</td>\n",
       "      <td>None</td>\n",
       "    </tr>\n",
       "    <tr>\n",
       "      <th>1</th>\n",
       "      <td>20190801173000-1</td>\n",
       "      <td>20190801173000</td>\n",
       "      <td>1</td>\n",
       "      <td>idrw.org</td>\n",
       "      <td>http://idrw.org/ms-velpari-takes-over-from-sun...</td>\n",
       "      <td>None</td>\n",
       "      <td>None</td>\n",
       "      <td>TAX_FNCACT;TAX_FNCACT_DIRECTOR;TAX_FNCACT_CHIE...</td>\n",
       "      <td>TAX_FNCACT_CHIEF,275;EDUCATION,430;SOC_POINTSO...</td>\n",
       "      <td>4#Hindustan, India (General), India#IN#IN00#28...</td>\n",
       "      <td>...</td>\n",
       "      <td>wc:168,c12.1:6,c12.10:14,c12.12:5,c12.13:4,c12...</td>\n",
       "      <td>None</td>\n",
       "      <td>None</td>\n",
       "      <td>None</td>\n",
       "      <td>https://youtube.com/channel/UChCONU0XnVC2671b7...</td>\n",
       "      <td>None</td>\n",
       "      <td>Sunil Kumar,143;Tejas Division,322;Aircraft Pr...</td>\n",
       "      <td>None</td>\n",
       "      <td>None</td>\n",
       "      <td>&lt;PAGE_AUTHORS&gt;By&lt;/PAGE_AUTHORS&gt;</td>\n",
       "    </tr>\n",
       "    <tr>\n",
       "      <th>2</th>\n",
       "      <td>20190801173000-2</td>\n",
       "      <td>20190801173000</td>\n",
       "      <td>1</td>\n",
       "      <td>willistonherald.com</td>\n",
       "      <td>https://www.willistonherald.com/news/oil_and_e...</td>\n",
       "      <td>KILL#4000000##2#Colorado, United States#US#USC...</td>\n",
       "      <td>KILL#4000000##2#Colorado, United States#US#USC...</td>\n",
       "      <td>WB_507_ENERGY_AND_EXTRACTIVES;WB_1702_OILFIELD...</td>\n",
       "      <td>WB_507_ENERGY_AND_EXTRACTIVES,25;WB_1702_OILFI...</td>\n",
       "      <td>2#Colorado, United States#US#USCO#39.0646#-105...</td>\n",
       "      <td>...</td>\n",
       "      <td>wc:715,c1.2:6,c1.3:1,c12.1:47,c12.10:88,c12.11...</td>\n",
       "      <td>https://bloximages.chicago2.vip.townnews.com/w...</td>\n",
       "      <td>None</td>\n",
       "      <td>None</td>\n",
       "      <td>https://youtube.com/channel/UCHR2WhAPYJ6magx0g...</td>\n",
       "      <td>None</td>\n",
       "      <td>Liberty Oilfield Services,26;Tier Four,2357</td>\n",
       "      <td>5,hydraulic fracturing fleets operating,30;23,...</td>\n",
       "      <td>None</td>\n",
       "      <td>&lt;PAGE_AUTHORS&gt;Ren&amp;eacute;e Jean rjean@willisto...</td>\n",
       "    </tr>\n",
       "  </tbody>\n",
       "</table>\n",
       "<p>3 rows × 27 columns</p>\n",
       "</div>"
      ],
      "text/plain": [
       "        GKGRECORDID        V2.1DATE  V2SOURCECOLLECTIONIDENTIFIER  \\\n",
       "0  20190801173000-0  20190801173000                             1   \n",
       "1  20190801173000-1  20190801173000                             1   \n",
       "2  20190801173000-2  20190801173000                             1   \n",
       "\n",
       "    V2SOURCECOMMONNAME                               V2DOCUMENTIDENTIFIER  \\\n",
       "0     newstoday.com.bd  http://www.newstoday.com.bd/?option=details&ne...   \n",
       "1             idrw.org  http://idrw.org/ms-velpari-takes-over-from-sun...   \n",
       "2  willistonherald.com  https://www.willistonherald.com/news/oil_and_e...   \n",
       "\n",
       "                                            V1COUNTS  \\\n",
       "0                                               None   \n",
       "1                                               None   \n",
       "2  KILL#4000000##2#Colorado, United States#US#USC...   \n",
       "\n",
       "                                          V2.1COUNTS  \\\n",
       "0                                               None   \n",
       "1                                               None   \n",
       "2  KILL#4000000##2#Colorado, United States#US#USC...   \n",
       "\n",
       "                                            V1THEMES  \\\n",
       "0  TAX_WORLDLANGUAGES;TAX_WORLDLANGUAGES_ARABIC;T...   \n",
       "1  TAX_FNCACT;TAX_FNCACT_DIRECTOR;TAX_FNCACT_CHIE...   \n",
       "2  WB_507_ENERGY_AND_EXTRACTIVES;WB_1702_OILFIELD...   \n",
       "\n",
       "                                    V2ENHANCEDTHEMES  \\\n",
       "0  TAX_FNCACT_JUDGES,1022;MEDIA_MSM,296;SOC_SLAVE...   \n",
       "1  TAX_FNCACT_CHIEF,275;EDUCATION,430;SOC_POINTSO...   \n",
       "2  WB_507_ENERGY_AND_EXTRACTIVES,25;WB_1702_OILFI...   \n",
       "\n",
       "                                         V1LOCATIONS  ...  \\\n",
       "0  1#Germany#GM#GM#51.5#10.5#GM;1#Chile#CI#CI#-30...  ...   \n",
       "1  4#Hindustan, India (General), India#IN#IN00#28...  ...   \n",
       "2  2#Colorado, United States#US#USCO#39.0646#-105...  ...   \n",
       "\n",
       "                                              V2GCAM  \\\n",
       "0  wc:345,c1.1:2,c1.4:1,c12.1:29,c12.10:24,c12.12...   \n",
       "1  wc:168,c12.1:6,c12.10:14,c12.12:5,c12.13:4,c12...   \n",
       "2  wc:715,c1.2:6,c1.3:1,c12.1:47,c12.10:88,c12.11...   \n",
       "\n",
       "                                    V2.1SHARINGIMAGE V2.1RELATEDIMAGES  \\\n",
       "0                                               None              None   \n",
       "1                                               None              None   \n",
       "2  https://bloximages.chicago2.vip.townnews.com/w...              None   \n",
       "\n",
       "  V2.1SOCIALIMAGEEMBEDS                              V2.1SOCIALVIDEOEMBEDS  \\\n",
       "0                  None                                               None   \n",
       "1                  None  https://youtube.com/channel/UChCONU0XnVC2671b7...   \n",
       "2                  None  https://youtube.com/channel/UCHR2WhAPYJ6magx0g...   \n",
       "\n",
       "                                      V2.1QUOTATIONS  \\\n",
       "0  1188|112||a richly imagined , engaging and poe...   \n",
       "1                                               None   \n",
       "2                                               None   \n",
       "\n",
       "                                        V2.1ALLNAMES  \\\n",
       "0  Man Booker International,95;Edinburgh Universi...   \n",
       "1  Sunil Kumar,143;Tejas Division,322;Aircraft Pr...   \n",
       "2        Liberty Oilfield Services,26;Tier Four,2357   \n",
       "\n",
       "                                         V2.1AMOUNTS V2.1TRANSLATIONINFO  \\\n",
       "0  2,previous collections of short,323;3,novels,3...                None   \n",
       "1                                               None                None   \n",
       "2  5,hydraulic fracturing fleets operating,30;23,...                None   \n",
       "\n",
       "                                         V2EXTRASXML  \n",
       "0                                               None  \n",
       "1                    <PAGE_AUTHORS>By</PAGE_AUTHORS>  \n",
       "2  <PAGE_AUTHORS>Ren&eacute;e Jean rjean@willisto...  \n",
       "\n",
       "[3 rows x 27 columns]"
      ]
     },
     "execution_count": 6,
     "metadata": {},
     "output_type": "execute_result"
    }
   ],
   "source": [
    "df_gkg.limit(3).toPandas()"
   ]
  },
  {
   "cell_type": "markdown",
   "id": "8d997c52-7a1b-44ab-b538-c7580439d1ef",
   "metadata": {},
   "source": [
    "## **How many different types of counts were made (e.g., how many arrests, protest)**?"
   ]
  },
  {
   "cell_type": "code",
   "execution_count": 33,
   "id": "b09e03c6-2244-4b57-b227-93b0fdb07579",
   "metadata": {
    "execution": {
     "iopub.execute_input": "2024-05-05T16:25:59.570872Z",
     "iopub.status.busy": "2024-05-05T16:25:59.570221Z",
     "iopub.status.idle": "2024-05-05T16:25:59.628633Z",
     "shell.execute_reply": "2024-05-05T16:25:59.626581Z",
     "shell.execute_reply.started": "2024-05-05T16:25:59.570814Z"
    }
   },
   "outputs": [],
   "source": [
    "# Create separate dataframes for PH and SEA countries\n",
    "df_ph = (df_final\n",
    "         .filter(F.col('Country').rlike('Philippines'))\n",
    "        )\n",
    "\n",
    "sea_countries = [\"Brunei\", \"Cambodia\", \"Indonesia\", \"Laos\", \"Malaysia\",\n",
    "                 \"Myanmar\", \"Singapore\", \"Thailand\", \"Vietnam\",\n",
    "                 \"East Timor\"]\n",
    "\n",
    "# Filtering the DataFrame for SEA countries\n",
    "df_sea = (df_final\n",
    "          .filter(F.col('Country').isin(sea_countries))\n",
    "         )"
   ]
  },
  {
   "cell_type": "code",
   "execution_count": 13,
   "id": "5769ac21-d6a9-4f5e-a7c3-eb88aa86b33a",
   "metadata": {
    "execution": {
     "iopub.execute_input": "2024-05-05T16:20:56.371027Z",
     "iopub.status.busy": "2024-05-05T16:20:56.370337Z",
     "iopub.status.idle": "2024-05-05T16:20:56.761066Z",
     "shell.execute_reply": "2024-05-05T16:20:56.760328Z",
     "shell.execute_reply.started": "2024-05-05T16:20:56.370968Z"
    }
   },
   "outputs": [
    {
     "data": {
      "text/html": [
       "<div>\n",
       "<style scoped>\n",
       "    .dataframe tbody tr th:only-of-type {\n",
       "        vertical-align: middle;\n",
       "    }\n",
       "\n",
       "    .dataframe tbody tr th {\n",
       "        vertical-align: top;\n",
       "    }\n",
       "\n",
       "    .dataframe thead th {\n",
       "        text-align: right;\n",
       "    }\n",
       "</style>\n",
       "<table border=\"1\" class=\"dataframe\">\n",
       "  <thead>\n",
       "    <tr style=\"text-align: right;\">\n",
       "      <th></th>\n",
       "      <th>GKGRECORDID</th>\n",
       "      <th>V2.1DATE</th>\n",
       "      <th>V2SOURCECOLLECTIONIDENTIFIER</th>\n",
       "      <th>V2SOURCECOMMONNAME</th>\n",
       "      <th>V2DOCUMENTIDENTIFIER</th>\n",
       "      <th>V1COUNTS</th>\n",
       "      <th>V2.1COUNTS</th>\n",
       "      <th>V1THEMES</th>\n",
       "      <th>V2ENHANCEDTHEMES</th>\n",
       "      <th>V1LOCATIONS</th>\n",
       "      <th>...</th>\n",
       "      <th>V2.1SOCIALVIDEOEMBEDS</th>\n",
       "      <th>V2.1QUOTATIONS</th>\n",
       "      <th>V2.1ALLNAMES</th>\n",
       "      <th>V2.1AMOUNTS</th>\n",
       "      <th>V2.1TRANSLATIONINFO</th>\n",
       "      <th>V2EXTRASXML</th>\n",
       "      <th>CountType</th>\n",
       "      <th>Region</th>\n",
       "      <th>Country</th>\n",
       "      <th>THEMES_SINGLE</th>\n",
       "    </tr>\n",
       "  </thead>\n",
       "  <tbody>\n",
       "    <tr>\n",
       "      <th>0</th>\n",
       "      <td>20190801173000-0</td>\n",
       "      <td>20190801173000</td>\n",
       "      <td>1</td>\n",
       "      <td>newstoday.com.bd</td>\n",
       "      <td>http://www.newstoday.com.bd/?option=details&amp;ne...</td>\n",
       "      <td>None</td>\n",
       "      <td>None</td>\n",
       "      <td>TAX_WORLDLANGUAGES;TAX_WORLDLANGUAGES_ARABIC;T...</td>\n",
       "      <td>TAX_FNCACT_JUDGES,1022;MEDIA_MSM,296;SOC_SLAVE...</td>\n",
       "      <td>1#Germany#GM#GM#51.5#10.5#GM;1#Chile#CI#CI#-30...</td>\n",
       "      <td>...</td>\n",
       "      <td>None</td>\n",
       "      <td>1188|112||a richly imagined , engaging and poe...</td>\n",
       "      <td>Man Booker International,95;Edinburgh Universi...</td>\n",
       "      <td>2,previous collections of short,323;3,novels,3...</td>\n",
       "      <td>None</td>\n",
       "      <td>None</td>\n",
       "      <td>None</td>\n",
       "      <td>None</td>\n",
       "      <td>Germany</td>\n",
       "      <td>TAX_WORLDLANGUAGES</td>\n",
       "    </tr>\n",
       "    <tr>\n",
       "      <th>1</th>\n",
       "      <td>20190801173000-1</td>\n",
       "      <td>20190801173000</td>\n",
       "      <td>1</td>\n",
       "      <td>idrw.org</td>\n",
       "      <td>http://idrw.org/ms-velpari-takes-over-from-sun...</td>\n",
       "      <td>None</td>\n",
       "      <td>None</td>\n",
       "      <td>TAX_FNCACT;TAX_FNCACT_DIRECTOR;TAX_FNCACT_CHIE...</td>\n",
       "      <td>TAX_FNCACT_CHIEF,275;EDUCATION,430;SOC_POINTSO...</td>\n",
       "      <td>4#Hindustan, India (General), India#IN#IN00#28...</td>\n",
       "      <td>...</td>\n",
       "      <td>https://youtube.com/channel/UChCONU0XnVC2671b7...</td>\n",
       "      <td>None</td>\n",
       "      <td>Sunil Kumar,143;Tejas Division,322;Aircraft Pr...</td>\n",
       "      <td>None</td>\n",
       "      <td>None</td>\n",
       "      <td>&lt;PAGE_AUTHORS&gt;By&lt;/PAGE_AUTHORS&gt;</td>\n",
       "      <td>None</td>\n",
       "      <td>Hindustan</td>\n",
       "      <td>India</td>\n",
       "      <td>TAX_FNCACT</td>\n",
       "    </tr>\n",
       "    <tr>\n",
       "      <th>2</th>\n",
       "      <td>20190801173000-2</td>\n",
       "      <td>20190801173000</td>\n",
       "      <td>1</td>\n",
       "      <td>willistonherald.com</td>\n",
       "      <td>https://www.willistonherald.com/news/oil_and_e...</td>\n",
       "      <td>KILL#4000000##2#Colorado, United States#US#USC...</td>\n",
       "      <td>KILL#4000000##2#Colorado, United States#US#USC...</td>\n",
       "      <td>WB_507_ENERGY_AND_EXTRACTIVES;WB_1702_OILFIELD...</td>\n",
       "      <td>WB_507_ENERGY_AND_EXTRACTIVES,25;WB_1702_OILFI...</td>\n",
       "      <td>2#Colorado, United States#US#USCO#39.0646#-105...</td>\n",
       "      <td>...</td>\n",
       "      <td>https://youtube.com/channel/UCHR2WhAPYJ6magx0g...</td>\n",
       "      <td>None</td>\n",
       "      <td>Liberty Oilfield Services,26;Tier Four,2357</td>\n",
       "      <td>5,hydraulic fracturing fleets operating,30;23,...</td>\n",
       "      <td>None</td>\n",
       "      <td>&lt;PAGE_AUTHORS&gt;Ren&amp;eacute;e Jean rjean@willisto...</td>\n",
       "      <td>KILL</td>\n",
       "      <td>Colorado</td>\n",
       "      <td>United States</td>\n",
       "      <td>WB_507_ENERGY_AND_EXTRACTIVES</td>\n",
       "    </tr>\n",
       "    <tr>\n",
       "      <th>3</th>\n",
       "      <td>20190801173000-3</td>\n",
       "      <td>20190801173000</td>\n",
       "      <td>1</td>\n",
       "      <td>9news.com</td>\n",
       "      <td>https://www.9news.com/article/life/style/color...</td>\n",
       "      <td>None</td>\n",
       "      <td>None</td>\n",
       "      <td>LEADER;TAX_FNCACT;TAX_FNCACT_PRESIDENT;USPEC_P...</td>\n",
       "      <td>WB_137_WATER,339;LEADER,177;TAX_FNCACT_PRESIDE...</td>\n",
       "      <td>1#United States#US#US#39.828175#-98.5795#US;3#...</td>\n",
       "      <td>...</td>\n",
       "      <td>https://youtube.com/iframe_api?noext;https://y...</td>\n",
       "      <td>None</td>\n",
       "      <td>United States,21;Centennial State,83;President...</td>\n",
       "      <td>20,attractions #x2014,395;41,parks,952;</td>\n",
       "      <td>None</td>\n",
       "      <td>&lt;PAGE_LINKS&gt;http://cpw.state.co.us/aboutus/Pag...</td>\n",
       "      <td>None</td>\n",
       "      <td>None</td>\n",
       "      <td>United States</td>\n",
       "      <td>LEADER</td>\n",
       "    </tr>\n",
       "    <tr>\n",
       "      <th>4</th>\n",
       "      <td>20190801173000-4</td>\n",
       "      <td>20190801173000</td>\n",
       "      <td>1</td>\n",
       "      <td>aninews.in</td>\n",
       "      <td>https://www.aninews.in/news/national/general-n...</td>\n",
       "      <td>None</td>\n",
       "      <td>None</td>\n",
       "      <td>GENERAL_GOVERNMENT;EPU_POLICY;EPU_POLICY_GOVER...</td>\n",
       "      <td>GENERAL_HEALTH,232;GENERAL_HEALTH,285;GENERAL_...</td>\n",
       "      <td>4#Delhi, Delhi, India#IN#IN07#28.6667#77.2167#...</td>\n",
       "      <td>...</td>\n",
       "      <td>https://youtube.com/channel/UCtFQDgA8J8_iiwc5-...</td>\n",
       "      <td>None</td>\n",
       "      <td>New Delhi,10;Lieutenant Governor Anil Baijal,1...</td>\n",
       "      <td>5,lakh Delhi government employees,47;</td>\n",
       "      <td>None</td>\n",
       "      <td>&lt;PAGE_LINKS&gt;https://www.aninews.in/search&lt;/PAG...</td>\n",
       "      <td>None</td>\n",
       "      <td>Delhi</td>\n",
       "      <td>India</td>\n",
       "      <td>GENERAL_GOVERNMENT</td>\n",
       "    </tr>\n",
       "  </tbody>\n",
       "</table>\n",
       "<p>5 rows × 31 columns</p>\n",
       "</div>"
      ],
      "text/plain": [
       "        GKGRECORDID        V2.1DATE  V2SOURCECOLLECTIONIDENTIFIER  \\\n",
       "0  20190801173000-0  20190801173000                             1   \n",
       "1  20190801173000-1  20190801173000                             1   \n",
       "2  20190801173000-2  20190801173000                             1   \n",
       "3  20190801173000-3  20190801173000                             1   \n",
       "4  20190801173000-4  20190801173000                             1   \n",
       "\n",
       "    V2SOURCECOMMONNAME                               V2DOCUMENTIDENTIFIER  \\\n",
       "0     newstoday.com.bd  http://www.newstoday.com.bd/?option=details&ne...   \n",
       "1             idrw.org  http://idrw.org/ms-velpari-takes-over-from-sun...   \n",
       "2  willistonherald.com  https://www.willistonherald.com/news/oil_and_e...   \n",
       "3            9news.com  https://www.9news.com/article/life/style/color...   \n",
       "4           aninews.in  https://www.aninews.in/news/national/general-n...   \n",
       "\n",
       "                                            V1COUNTS  \\\n",
       "0                                               None   \n",
       "1                                               None   \n",
       "2  KILL#4000000##2#Colorado, United States#US#USC...   \n",
       "3                                               None   \n",
       "4                                               None   \n",
       "\n",
       "                                          V2.1COUNTS  \\\n",
       "0                                               None   \n",
       "1                                               None   \n",
       "2  KILL#4000000##2#Colorado, United States#US#USC...   \n",
       "3                                               None   \n",
       "4                                               None   \n",
       "\n",
       "                                            V1THEMES  \\\n",
       "0  TAX_WORLDLANGUAGES;TAX_WORLDLANGUAGES_ARABIC;T...   \n",
       "1  TAX_FNCACT;TAX_FNCACT_DIRECTOR;TAX_FNCACT_CHIE...   \n",
       "2  WB_507_ENERGY_AND_EXTRACTIVES;WB_1702_OILFIELD...   \n",
       "3  LEADER;TAX_FNCACT;TAX_FNCACT_PRESIDENT;USPEC_P...   \n",
       "4  GENERAL_GOVERNMENT;EPU_POLICY;EPU_POLICY_GOVER...   \n",
       "\n",
       "                                    V2ENHANCEDTHEMES  \\\n",
       "0  TAX_FNCACT_JUDGES,1022;MEDIA_MSM,296;SOC_SLAVE...   \n",
       "1  TAX_FNCACT_CHIEF,275;EDUCATION,430;SOC_POINTSO...   \n",
       "2  WB_507_ENERGY_AND_EXTRACTIVES,25;WB_1702_OILFI...   \n",
       "3  WB_137_WATER,339;LEADER,177;TAX_FNCACT_PRESIDE...   \n",
       "4  GENERAL_HEALTH,232;GENERAL_HEALTH,285;GENERAL_...   \n",
       "\n",
       "                                         V1LOCATIONS  ...  \\\n",
       "0  1#Germany#GM#GM#51.5#10.5#GM;1#Chile#CI#CI#-30...  ...   \n",
       "1  4#Hindustan, India (General), India#IN#IN00#28...  ...   \n",
       "2  2#Colorado, United States#US#USCO#39.0646#-105...  ...   \n",
       "3  1#United States#US#US#39.828175#-98.5795#US;3#...  ...   \n",
       "4  4#Delhi, Delhi, India#IN#IN07#28.6667#77.2167#...  ...   \n",
       "\n",
       "                               V2.1SOCIALVIDEOEMBEDS  \\\n",
       "0                                               None   \n",
       "1  https://youtube.com/channel/UChCONU0XnVC2671b7...   \n",
       "2  https://youtube.com/channel/UCHR2WhAPYJ6magx0g...   \n",
       "3  https://youtube.com/iframe_api?noext;https://y...   \n",
       "4  https://youtube.com/channel/UCtFQDgA8J8_iiwc5-...   \n",
       "\n",
       "                                      V2.1QUOTATIONS  \\\n",
       "0  1188|112||a richly imagined , engaging and poe...   \n",
       "1                                               None   \n",
       "2                                               None   \n",
       "3                                               None   \n",
       "4                                               None   \n",
       "\n",
       "                                        V2.1ALLNAMES  \\\n",
       "0  Man Booker International,95;Edinburgh Universi...   \n",
       "1  Sunil Kumar,143;Tejas Division,322;Aircraft Pr...   \n",
       "2        Liberty Oilfield Services,26;Tier Four,2357   \n",
       "3  United States,21;Centennial State,83;President...   \n",
       "4  New Delhi,10;Lieutenant Governor Anil Baijal,1...   \n",
       "\n",
       "                                         V2.1AMOUNTS V2.1TRANSLATIONINFO  \\\n",
       "0  2,previous collections of short,323;3,novels,3...                None   \n",
       "1                                               None                None   \n",
       "2  5,hydraulic fracturing fleets operating,30;23,...                None   \n",
       "3            20,attractions #x2014,395;41,parks,952;                None   \n",
       "4              5,lakh Delhi government employees,47;                None   \n",
       "\n",
       "                                         V2EXTRASXML CountType     Region  \\\n",
       "0                                               None      None       None   \n",
       "1                    <PAGE_AUTHORS>By</PAGE_AUTHORS>      None  Hindustan   \n",
       "2  <PAGE_AUTHORS>Ren&eacute;e Jean rjean@willisto...      KILL   Colorado   \n",
       "3  <PAGE_LINKS>http://cpw.state.co.us/aboutus/Pag...      None       None   \n",
       "4  <PAGE_LINKS>https://www.aninews.in/search</PAG...      None      Delhi   \n",
       "\n",
       "         Country                  THEMES_SINGLE  \n",
       "0        Germany             TAX_WORLDLANGUAGES  \n",
       "1          India                     TAX_FNCACT  \n",
       "2  United States  WB_507_ENERGY_AND_EXTRACTIVES  \n",
       "3  United States                         LEADER  \n",
       "4          India             GENERAL_GOVERNMENT  \n",
       "\n",
       "[5 rows x 31 columns]"
      ]
     },
     "execution_count": 13,
     "metadata": {},
     "output_type": "execute_result"
    }
   ],
   "source": [
    "df_final.limit(5).toPandas()"
   ]
  },
  {
   "cell_type": "markdown",
   "id": "aaa06a46-2830-48c4-ae2c-2d06fbd896f3",
   "metadata": {},
   "source": [
    "The final dataset with exploded count types, locations, and themes:\n",
    "\n",
    "**Note:**\n",
    "- not sure if `persist` makes the succeeding codes slower/faster but iirc it's supposed to optimize how the initial code of `df_final` is executed --> di na niya dinadaanan ulit."
   ]
  },
  {
   "cell_type": "code",
   "execution_count": 12,
   "id": "0f34f7de-8213-4970-83e6-5aec28b4e0e8",
   "metadata": {
    "execution": {
     "iopub.execute_input": "2024-05-05T16:20:31.929058Z",
     "iopub.status.busy": "2024-05-05T16:20:31.928322Z",
     "iopub.status.idle": "2024-05-05T16:20:32.130123Z",
     "shell.execute_reply": "2024-05-05T16:20:32.128407Z",
     "shell.execute_reply.started": "2024-05-05T16:20:31.928960Z"
    }
   },
   "outputs": [],
   "source": [
    "df_final = (df_gkg\n",
    "            .withColumn('CountType', F.regexp_extract('V1COUNTS', r'^([^#]+)',\n",
    "                                                      1))\n",
    "            .withColumn('ExpandedLocation',\n",
    "                        F.explode(F.split(\n",
    "                            F.regexp_extract('V1LOCATIONS', \n",
    "                                             r'(^|;)([^#]+#[^#]+#[^#]+)',\n",
    "                                                   0), \";\")))\n",
    "            .withColumn('ExtractedLocation',\n",
    "                        F.regexp_extract('ExpandedLocation',\n",
    "                                         r'#([^#]+)#', 1))\n",
    "            .withColumn('Region',\n",
    "                        F.element_at(F.split(F.col('ExtractedLocation'),\n",
    "                                             ', '), 1)) #Region: first element\n",
    "            .withColumn('Country',\n",
    "                        F.element_at(F.split(F.col('ExtractedLocation'),\n",
    "                                             ', '), -1)) #Country: last element\n",
    "            .withColumn('Region', F.when(F.col('Region') == F.col('Country'),\n",
    "                                         None).otherwise(F.col('Region')))\n",
    "            .withColumn('THEMES_SINGLE',\n",
    "                        F.explode(F.split(F.regexp_extract('V1THEMES',\n",
    "                                                           r'([^;]+)', 0),\n",
    "                                          \";\")))\n",
    "            .drop('ExpandedLocation', 'ExtractedLocation') #Remove  columns\n",
    "            # .persist()\n",
    "           )\n"
   ]
  },
  {
   "cell_type": "code",
   "execution_count": 37,
   "id": "021ed3b8-2458-465f-8fa6-0cd170f68b2b",
   "metadata": {
    "collapsed": true,
    "execution": {
     "iopub.execute_input": "2024-05-05T16:26:09.402136Z",
     "iopub.status.busy": "2024-05-05T16:26:09.401439Z",
     "iopub.status.idle": "2024-05-05T16:26:13.955564Z",
     "shell.execute_reply": "2024-05-05T16:26:13.952935Z",
     "shell.execute_reply.started": "2024-05-05T16:26:09.402076Z"
    },
    "jupyter": {
     "outputs_hidden": true
    },
    "scrolled": true
   },
   "outputs": [
    {
     "ename": "Py4JJavaError",
     "evalue": "An error occurred while calling o330.collectToPython.\n: org.apache.spark.SparkException: Job aborted due to stage failure: Task 38 in stage 21.0 failed 1 times, most recent failure: Lost task 38.0 in stage 21.0 (TID 1575) (localhost executor driver): org.apache.spark.SparkFileNotFoundException: File file:/mnt/data/public/gdeltv2/gkg/20190802154500.gkg.csv does not exist\nIt is possible the underlying files have been updated. You can explicitly invalidate the cache in Spark by running 'REFRESH TABLE tableName' command in SQL or by recreating the Dataset/DataFrame involved.\n\tat org.apache.spark.sql.errors.QueryExecutionErrors$.readCurrentFileNotFoundError(QueryExecutionErrors.scala:780)\n\tat org.apache.spark.sql.execution.datasources.FileScanRDD$$anon$1.org$apache$spark$sql$execution$datasources$FileScanRDD$$anon$$readCurrentFile(FileScanRDD.scala:220)\n\tat org.apache.spark.sql.execution.datasources.FileScanRDD$$anon$1.nextIterator(FileScanRDD.scala:279)\n\tat org.apache.spark.sql.execution.datasources.FileScanRDD$$anon$1.hasNext(FileScanRDD.scala:129)\n\tat scala.collection.Iterator$$anon$10.hasNext(Iterator.scala:460)\n\tat org.apache.spark.sql.catalyst.expressions.GeneratedClass$GeneratedIteratorForCodegenStage1.hashAgg_doAggregateWithKeys_0$(Unknown Source)\n\tat org.apache.spark.sql.catalyst.expressions.GeneratedClass$GeneratedIteratorForCodegenStage1.processNext(Unknown Source)\n\tat org.apache.spark.sql.execution.BufferedRowIterator.hasNext(BufferedRowIterator.java:43)\n\tat org.apache.spark.sql.execution.WholeStageCodegenEvaluatorFactory$WholeStageCodegenPartitionEvaluator$$anon$1.hasNext(WholeStageCodegenEvaluatorFactory.scala:43)\n\tat scala.collection.Iterator$$anon$10.hasNext(Iterator.scala:460)\n\tat org.apache.spark.shuffle.sort.BypassMergeSortShuffleWriter.write(BypassMergeSortShuffleWriter.java:140)\n\tat org.apache.spark.shuffle.ShuffleWriteProcessor.write(ShuffleWriteProcessor.scala:59)\n\tat org.apache.spark.scheduler.ShuffleMapTask.runTask(ShuffleMapTask.scala:104)\n\tat org.apache.spark.scheduler.ShuffleMapTask.runTask(ShuffleMapTask.scala:54)\n\tat org.apache.spark.TaskContext.runTaskWithListeners(TaskContext.scala:166)\n\tat org.apache.spark.scheduler.Task.run(Task.scala:141)\n\tat org.apache.spark.executor.Executor$TaskRunner.$anonfun$run$4(Executor.scala:620)\n\tat org.apache.spark.util.SparkErrorUtils.tryWithSafeFinally(SparkErrorUtils.scala:64)\n\tat org.apache.spark.util.SparkErrorUtils.tryWithSafeFinally$(SparkErrorUtils.scala:61)\n\tat org.apache.spark.util.Utils$.tryWithSafeFinally(Utils.scala:94)\n\tat org.apache.spark.executor.Executor$TaskRunner.run(Executor.scala:623)\n\tat java.base/java.util.concurrent.ThreadPoolExecutor.runWorker(ThreadPoolExecutor.java:1136)\n\tat java.base/java.util.concurrent.ThreadPoolExecutor$Worker.run(ThreadPoolExecutor.java:635)\n\tat java.base/java.lang.Thread.run(Thread.java:840)\n\nDriver stacktrace:\n\tat org.apache.spark.scheduler.DAGScheduler.failJobAndIndependentStages(DAGScheduler.scala:2856)\n\tat org.apache.spark.scheduler.DAGScheduler.$anonfun$abortStage$2(DAGScheduler.scala:2792)\n\tat org.apache.spark.scheduler.DAGScheduler.$anonfun$abortStage$2$adapted(DAGScheduler.scala:2791)\n\tat scala.collection.mutable.ResizableArray.foreach(ResizableArray.scala:62)\n\tat scala.collection.mutable.ResizableArray.foreach$(ResizableArray.scala:55)\n\tat scala.collection.mutable.ArrayBuffer.foreach(ArrayBuffer.scala:49)\n\tat org.apache.spark.scheduler.DAGScheduler.abortStage(DAGScheduler.scala:2791)\n\tat org.apache.spark.scheduler.DAGScheduler.$anonfun$handleTaskSetFailed$1(DAGScheduler.scala:1247)\n\tat org.apache.spark.scheduler.DAGScheduler.$anonfun$handleTaskSetFailed$1$adapted(DAGScheduler.scala:1247)\n\tat scala.Option.foreach(Option.scala:407)\n\tat org.apache.spark.scheduler.DAGScheduler.handleTaskSetFailed(DAGScheduler.scala:1247)\n\tat org.apache.spark.scheduler.DAGSchedulerEventProcessLoop.doOnReceive(DAGScheduler.scala:3060)\n\tat org.apache.spark.scheduler.DAGSchedulerEventProcessLoop.onReceive(DAGScheduler.scala:2994)\n\tat org.apache.spark.scheduler.DAGSchedulerEventProcessLoop.onReceive(DAGScheduler.scala:2983)\n\tat org.apache.spark.util.EventLoop$$anon$1.run(EventLoop.scala:49)\nCaused by: org.apache.spark.SparkFileNotFoundException: File file:/mnt/data/public/gdeltv2/gkg/20190802154500.gkg.csv does not exist\nIt is possible the underlying files have been updated. You can explicitly invalidate the cache in Spark by running 'REFRESH TABLE tableName' command in SQL or by recreating the Dataset/DataFrame involved.\n\tat org.apache.spark.sql.errors.QueryExecutionErrors$.readCurrentFileNotFoundError(QueryExecutionErrors.scala:780)\n\tat org.apache.spark.sql.execution.datasources.FileScanRDD$$anon$1.org$apache$spark$sql$execution$datasources$FileScanRDD$$anon$$readCurrentFile(FileScanRDD.scala:220)\n\tat org.apache.spark.sql.execution.datasources.FileScanRDD$$anon$1.nextIterator(FileScanRDD.scala:279)\n\tat org.apache.spark.sql.execution.datasources.FileScanRDD$$anon$1.hasNext(FileScanRDD.scala:129)\n\tat scala.collection.Iterator$$anon$10.hasNext(Iterator.scala:460)\n\tat org.apache.spark.sql.catalyst.expressions.GeneratedClass$GeneratedIteratorForCodegenStage1.hashAgg_doAggregateWithKeys_0$(Unknown Source)\n\tat org.apache.spark.sql.catalyst.expressions.GeneratedClass$GeneratedIteratorForCodegenStage1.processNext(Unknown Source)\n\tat org.apache.spark.sql.execution.BufferedRowIterator.hasNext(BufferedRowIterator.java:43)\n\tat org.apache.spark.sql.execution.WholeStageCodegenEvaluatorFactory$WholeStageCodegenPartitionEvaluator$$anon$1.hasNext(WholeStageCodegenEvaluatorFactory.scala:43)\n\tat scala.collection.Iterator$$anon$10.hasNext(Iterator.scala:460)\n\tat org.apache.spark.shuffle.sort.BypassMergeSortShuffleWriter.write(BypassMergeSortShuffleWriter.java:140)\n\tat org.apache.spark.shuffle.ShuffleWriteProcessor.write(ShuffleWriteProcessor.scala:59)\n\tat org.apache.spark.scheduler.ShuffleMapTask.runTask(ShuffleMapTask.scala:104)\n\tat org.apache.spark.scheduler.ShuffleMapTask.runTask(ShuffleMapTask.scala:54)\n\tat org.apache.spark.TaskContext.runTaskWithListeners(TaskContext.scala:166)\n\tat org.apache.spark.scheduler.Task.run(Task.scala:141)\n\tat org.apache.spark.executor.Executor$TaskRunner.$anonfun$run$4(Executor.scala:620)\n\tat org.apache.spark.util.SparkErrorUtils.tryWithSafeFinally(SparkErrorUtils.scala:64)\n\tat org.apache.spark.util.SparkErrorUtils.tryWithSafeFinally$(SparkErrorUtils.scala:61)\n\tat org.apache.spark.util.Utils$.tryWithSafeFinally(Utils.scala:94)\n\tat org.apache.spark.executor.Executor$TaskRunner.run(Executor.scala:623)\n\tat java.base/java.util.concurrent.ThreadPoolExecutor.runWorker(ThreadPoolExecutor.java:1136)\n\tat java.base/java.util.concurrent.ThreadPoolExecutor$Worker.run(ThreadPoolExecutor.java:635)\n\tat java.base/java.lang.Thread.run(Thread.java:840)\n",
     "output_type": "error",
     "traceback": [
      "\u001b[0;31m---------------------------------------------------------------------------\u001b[0m",
      "\u001b[0;31mPy4JJavaError\u001b[0m                             Traceback (most recent call last)",
      "Cell \u001b[0;32mIn[37], line 5\u001b[0m\n\u001b[1;32m      1\u001b[0m \u001b[43m(\u001b[49m\u001b[43mdf_ph\u001b[49m\n\u001b[1;32m      2\u001b[0m \u001b[43m \u001b[49m\u001b[38;5;241;43m.\u001b[39;49m\u001b[43mgroupBy\u001b[49m\u001b[43m(\u001b[49m\u001b[38;5;124;43m'\u001b[39;49m\u001b[38;5;124;43mCountType\u001b[39;49m\u001b[38;5;124;43m'\u001b[39;49m\u001b[43m)\u001b[49m\n\u001b[1;32m      3\u001b[0m \u001b[43m \u001b[49m\u001b[38;5;241;43m.\u001b[39;49m\u001b[43mcount\u001b[49m\u001b[43m(\u001b[49m\u001b[43m)\u001b[49m\n\u001b[1;32m      4\u001b[0m \u001b[43m \u001b[49m\u001b[38;5;241;43m.\u001b[39;49m\u001b[43morderBy\u001b[49m\u001b[43m(\u001b[49m\u001b[38;5;124;43m'\u001b[39;49m\u001b[38;5;124;43mcount\u001b[39;49m\u001b[38;5;124;43m'\u001b[39;49m\u001b[43m,\u001b[49m\u001b[43m \u001b[49m\u001b[43mascending\u001b[49m\u001b[38;5;241;43m=\u001b[39;49m\u001b[38;5;28;43;01mFalse\u001b[39;49;00m\u001b[43m)\u001b[49m\n\u001b[0;32m----> 5\u001b[0m \u001b[43m)\u001b[49m\u001b[38;5;241;43m.\u001b[39;49m\u001b[43mtoPandas\u001b[49m\u001b[43m(\u001b[49m\u001b[43m)\u001b[49m\n",
      "File \u001b[0;32m/usr/local/spark/python/pyspark/sql/pandas/conversion.py:202\u001b[0m, in \u001b[0;36mPandasConversionMixin.toPandas\u001b[0;34m(self)\u001b[0m\n\u001b[1;32m    199\u001b[0m             \u001b[38;5;28;01mraise\u001b[39;00m\n\u001b[1;32m    201\u001b[0m \u001b[38;5;66;03m# Below is toPandas without Arrow optimization.\u001b[39;00m\n\u001b[0;32m--> 202\u001b[0m rows \u001b[38;5;241m=\u001b[39m \u001b[38;5;28;43mself\u001b[39;49m\u001b[38;5;241;43m.\u001b[39;49m\u001b[43mcollect\u001b[49m\u001b[43m(\u001b[49m\u001b[43m)\u001b[49m\n\u001b[1;32m    203\u001b[0m \u001b[38;5;28;01mif\u001b[39;00m \u001b[38;5;28mlen\u001b[39m(rows) \u001b[38;5;241m>\u001b[39m \u001b[38;5;241m0\u001b[39m:\n\u001b[1;32m    204\u001b[0m     pdf \u001b[38;5;241m=\u001b[39m pd\u001b[38;5;241m.\u001b[39mDataFrame\u001b[38;5;241m.\u001b[39mfrom_records(\n\u001b[1;32m    205\u001b[0m         rows, index\u001b[38;5;241m=\u001b[39m\u001b[38;5;28mrange\u001b[39m(\u001b[38;5;28mlen\u001b[39m(rows)), columns\u001b[38;5;241m=\u001b[39m\u001b[38;5;28mself\u001b[39m\u001b[38;5;241m.\u001b[39mcolumns  \u001b[38;5;66;03m# type: ignore[arg-type]\u001b[39;00m\n\u001b[1;32m    206\u001b[0m     )\n",
      "File \u001b[0;32m/usr/local/spark/python/pyspark/sql/dataframe.py:1261\u001b[0m, in \u001b[0;36mDataFrame.collect\u001b[0;34m(self)\u001b[0m\n\u001b[1;32m   1241\u001b[0m \u001b[38;5;250m\u001b[39m\u001b[38;5;124;03m\"\"\"Returns all the records as a list of :class:`Row`.\u001b[39;00m\n\u001b[1;32m   1242\u001b[0m \n\u001b[1;32m   1243\u001b[0m \u001b[38;5;124;03m.. versionadded:: 1.3.0\u001b[39;00m\n\u001b[0;32m   (...)\u001b[0m\n\u001b[1;32m   1258\u001b[0m \u001b[38;5;124;03m[Row(age=14, name='Tom'), Row(age=23, name='Alice'), Row(age=16, name='Bob')]\u001b[39;00m\n\u001b[1;32m   1259\u001b[0m \u001b[38;5;124;03m\"\"\"\u001b[39;00m\n\u001b[1;32m   1260\u001b[0m \u001b[38;5;28;01mwith\u001b[39;00m SCCallSiteSync(\u001b[38;5;28mself\u001b[39m\u001b[38;5;241m.\u001b[39m_sc):\n\u001b[0;32m-> 1261\u001b[0m     sock_info \u001b[38;5;241m=\u001b[39m \u001b[38;5;28;43mself\u001b[39;49m\u001b[38;5;241;43m.\u001b[39;49m\u001b[43m_jdf\u001b[49m\u001b[38;5;241;43m.\u001b[39;49m\u001b[43mcollectToPython\u001b[49m\u001b[43m(\u001b[49m\u001b[43m)\u001b[49m\n\u001b[1;32m   1262\u001b[0m \u001b[38;5;28;01mreturn\u001b[39;00m \u001b[38;5;28mlist\u001b[39m(_load_from_socket(sock_info, BatchedSerializer(CPickleSerializer())))\n",
      "File \u001b[0;32m/usr/local/spark/python/lib/py4j-0.10.9.7-src.zip/py4j/java_gateway.py:1322\u001b[0m, in \u001b[0;36mJavaMember.__call__\u001b[0;34m(self, *args)\u001b[0m\n\u001b[1;32m   1316\u001b[0m command \u001b[38;5;241m=\u001b[39m proto\u001b[38;5;241m.\u001b[39mCALL_COMMAND_NAME \u001b[38;5;241m+\u001b[39m\\\n\u001b[1;32m   1317\u001b[0m     \u001b[38;5;28mself\u001b[39m\u001b[38;5;241m.\u001b[39mcommand_header \u001b[38;5;241m+\u001b[39m\\\n\u001b[1;32m   1318\u001b[0m     args_command \u001b[38;5;241m+\u001b[39m\\\n\u001b[1;32m   1319\u001b[0m     proto\u001b[38;5;241m.\u001b[39mEND_COMMAND_PART\n\u001b[1;32m   1321\u001b[0m answer \u001b[38;5;241m=\u001b[39m \u001b[38;5;28mself\u001b[39m\u001b[38;5;241m.\u001b[39mgateway_client\u001b[38;5;241m.\u001b[39msend_command(command)\n\u001b[0;32m-> 1322\u001b[0m return_value \u001b[38;5;241m=\u001b[39m \u001b[43mget_return_value\u001b[49m\u001b[43m(\u001b[49m\n\u001b[1;32m   1323\u001b[0m \u001b[43m    \u001b[49m\u001b[43manswer\u001b[49m\u001b[43m,\u001b[49m\u001b[43m \u001b[49m\u001b[38;5;28;43mself\u001b[39;49m\u001b[38;5;241;43m.\u001b[39;49m\u001b[43mgateway_client\u001b[49m\u001b[43m,\u001b[49m\u001b[43m \u001b[49m\u001b[38;5;28;43mself\u001b[39;49m\u001b[38;5;241;43m.\u001b[39;49m\u001b[43mtarget_id\u001b[49m\u001b[43m,\u001b[49m\u001b[43m \u001b[49m\u001b[38;5;28;43mself\u001b[39;49m\u001b[38;5;241;43m.\u001b[39;49m\u001b[43mname\u001b[49m\u001b[43m)\u001b[49m\n\u001b[1;32m   1325\u001b[0m \u001b[38;5;28;01mfor\u001b[39;00m temp_arg \u001b[38;5;129;01min\u001b[39;00m temp_args:\n\u001b[1;32m   1326\u001b[0m     \u001b[38;5;28;01mif\u001b[39;00m \u001b[38;5;28mhasattr\u001b[39m(temp_arg, \u001b[38;5;124m\"\u001b[39m\u001b[38;5;124m_detach\u001b[39m\u001b[38;5;124m\"\u001b[39m):\n",
      "File \u001b[0;32m/usr/local/spark/python/pyspark/errors/exceptions/captured.py:179\u001b[0m, in \u001b[0;36mcapture_sql_exception.<locals>.deco\u001b[0;34m(*a, **kw)\u001b[0m\n\u001b[1;32m    177\u001b[0m \u001b[38;5;28;01mdef\u001b[39;00m \u001b[38;5;21mdeco\u001b[39m(\u001b[38;5;241m*\u001b[39ma: Any, \u001b[38;5;241m*\u001b[39m\u001b[38;5;241m*\u001b[39mkw: Any) \u001b[38;5;241m-\u001b[39m\u001b[38;5;241m>\u001b[39m Any:\n\u001b[1;32m    178\u001b[0m     \u001b[38;5;28;01mtry\u001b[39;00m:\n\u001b[0;32m--> 179\u001b[0m         \u001b[38;5;28;01mreturn\u001b[39;00m \u001b[43mf\u001b[49m\u001b[43m(\u001b[49m\u001b[38;5;241;43m*\u001b[39;49m\u001b[43ma\u001b[49m\u001b[43m,\u001b[49m\u001b[43m \u001b[49m\u001b[38;5;241;43m*\u001b[39;49m\u001b[38;5;241;43m*\u001b[39;49m\u001b[43mkw\u001b[49m\u001b[43m)\u001b[49m\n\u001b[1;32m    180\u001b[0m     \u001b[38;5;28;01mexcept\u001b[39;00m Py4JJavaError \u001b[38;5;28;01mas\u001b[39;00m e:\n\u001b[1;32m    181\u001b[0m         converted \u001b[38;5;241m=\u001b[39m convert_exception(e\u001b[38;5;241m.\u001b[39mjava_exception)\n",
      "File \u001b[0;32m/usr/local/spark/python/lib/py4j-0.10.9.7-src.zip/py4j/protocol.py:326\u001b[0m, in \u001b[0;36mget_return_value\u001b[0;34m(answer, gateway_client, target_id, name)\u001b[0m\n\u001b[1;32m    324\u001b[0m value \u001b[38;5;241m=\u001b[39m OUTPUT_CONVERTER[\u001b[38;5;28mtype\u001b[39m](answer[\u001b[38;5;241m2\u001b[39m:], gateway_client)\n\u001b[1;32m    325\u001b[0m \u001b[38;5;28;01mif\u001b[39;00m answer[\u001b[38;5;241m1\u001b[39m] \u001b[38;5;241m==\u001b[39m REFERENCE_TYPE:\n\u001b[0;32m--> 326\u001b[0m     \u001b[38;5;28;01mraise\u001b[39;00m Py4JJavaError(\n\u001b[1;32m    327\u001b[0m         \u001b[38;5;124m\"\u001b[39m\u001b[38;5;124mAn error occurred while calling \u001b[39m\u001b[38;5;132;01m{0}\u001b[39;00m\u001b[38;5;132;01m{1}\u001b[39;00m\u001b[38;5;132;01m{2}\u001b[39;00m\u001b[38;5;124m.\u001b[39m\u001b[38;5;130;01m\\n\u001b[39;00m\u001b[38;5;124m\"\u001b[39m\u001b[38;5;241m.\u001b[39m\n\u001b[1;32m    328\u001b[0m         \u001b[38;5;28mformat\u001b[39m(target_id, \u001b[38;5;124m\"\u001b[39m\u001b[38;5;124m.\u001b[39m\u001b[38;5;124m\"\u001b[39m, name), value)\n\u001b[1;32m    329\u001b[0m \u001b[38;5;28;01melse\u001b[39;00m:\n\u001b[1;32m    330\u001b[0m     \u001b[38;5;28;01mraise\u001b[39;00m Py4JError(\n\u001b[1;32m    331\u001b[0m         \u001b[38;5;124m\"\u001b[39m\u001b[38;5;124mAn error occurred while calling \u001b[39m\u001b[38;5;132;01m{0}\u001b[39;00m\u001b[38;5;132;01m{1}\u001b[39;00m\u001b[38;5;132;01m{2}\u001b[39;00m\u001b[38;5;124m. Trace:\u001b[39m\u001b[38;5;130;01m\\n\u001b[39;00m\u001b[38;5;132;01m{3}\u001b[39;00m\u001b[38;5;130;01m\\n\u001b[39;00m\u001b[38;5;124m\"\u001b[39m\u001b[38;5;241m.\u001b[39m\n\u001b[1;32m    332\u001b[0m         \u001b[38;5;28mformat\u001b[39m(target_id, \u001b[38;5;124m\"\u001b[39m\u001b[38;5;124m.\u001b[39m\u001b[38;5;124m\"\u001b[39m, name, value))\n",
      "\u001b[0;31mPy4JJavaError\u001b[0m: An error occurred while calling o330.collectToPython.\n: org.apache.spark.SparkException: Job aborted due to stage failure: Task 38 in stage 21.0 failed 1 times, most recent failure: Lost task 38.0 in stage 21.0 (TID 1575) (localhost executor driver): org.apache.spark.SparkFileNotFoundException: File file:/mnt/data/public/gdeltv2/gkg/20190802154500.gkg.csv does not exist\nIt is possible the underlying files have been updated. You can explicitly invalidate the cache in Spark by running 'REFRESH TABLE tableName' command in SQL or by recreating the Dataset/DataFrame involved.\n\tat org.apache.spark.sql.errors.QueryExecutionErrors$.readCurrentFileNotFoundError(QueryExecutionErrors.scala:780)\n\tat org.apache.spark.sql.execution.datasources.FileScanRDD$$anon$1.org$apache$spark$sql$execution$datasources$FileScanRDD$$anon$$readCurrentFile(FileScanRDD.scala:220)\n\tat org.apache.spark.sql.execution.datasources.FileScanRDD$$anon$1.nextIterator(FileScanRDD.scala:279)\n\tat org.apache.spark.sql.execution.datasources.FileScanRDD$$anon$1.hasNext(FileScanRDD.scala:129)\n\tat scala.collection.Iterator$$anon$10.hasNext(Iterator.scala:460)\n\tat org.apache.spark.sql.catalyst.expressions.GeneratedClass$GeneratedIteratorForCodegenStage1.hashAgg_doAggregateWithKeys_0$(Unknown Source)\n\tat org.apache.spark.sql.catalyst.expressions.GeneratedClass$GeneratedIteratorForCodegenStage1.processNext(Unknown Source)\n\tat org.apache.spark.sql.execution.BufferedRowIterator.hasNext(BufferedRowIterator.java:43)\n\tat org.apache.spark.sql.execution.WholeStageCodegenEvaluatorFactory$WholeStageCodegenPartitionEvaluator$$anon$1.hasNext(WholeStageCodegenEvaluatorFactory.scala:43)\n\tat scala.collection.Iterator$$anon$10.hasNext(Iterator.scala:460)\n\tat org.apache.spark.shuffle.sort.BypassMergeSortShuffleWriter.write(BypassMergeSortShuffleWriter.java:140)\n\tat org.apache.spark.shuffle.ShuffleWriteProcessor.write(ShuffleWriteProcessor.scala:59)\n\tat org.apache.spark.scheduler.ShuffleMapTask.runTask(ShuffleMapTask.scala:104)\n\tat org.apache.spark.scheduler.ShuffleMapTask.runTask(ShuffleMapTask.scala:54)\n\tat org.apache.spark.TaskContext.runTaskWithListeners(TaskContext.scala:166)\n\tat org.apache.spark.scheduler.Task.run(Task.scala:141)\n\tat org.apache.spark.executor.Executor$TaskRunner.$anonfun$run$4(Executor.scala:620)\n\tat org.apache.spark.util.SparkErrorUtils.tryWithSafeFinally(SparkErrorUtils.scala:64)\n\tat org.apache.spark.util.SparkErrorUtils.tryWithSafeFinally$(SparkErrorUtils.scala:61)\n\tat org.apache.spark.util.Utils$.tryWithSafeFinally(Utils.scala:94)\n\tat org.apache.spark.executor.Executor$TaskRunner.run(Executor.scala:623)\n\tat java.base/java.util.concurrent.ThreadPoolExecutor.runWorker(ThreadPoolExecutor.java:1136)\n\tat java.base/java.util.concurrent.ThreadPoolExecutor$Worker.run(ThreadPoolExecutor.java:635)\n\tat java.base/java.lang.Thread.run(Thread.java:840)\n\nDriver stacktrace:\n\tat org.apache.spark.scheduler.DAGScheduler.failJobAndIndependentStages(DAGScheduler.scala:2856)\n\tat org.apache.spark.scheduler.DAGScheduler.$anonfun$abortStage$2(DAGScheduler.scala:2792)\n\tat org.apache.spark.scheduler.DAGScheduler.$anonfun$abortStage$2$adapted(DAGScheduler.scala:2791)\n\tat scala.collection.mutable.ResizableArray.foreach(ResizableArray.scala:62)\n\tat scala.collection.mutable.ResizableArray.foreach$(ResizableArray.scala:55)\n\tat scala.collection.mutable.ArrayBuffer.foreach(ArrayBuffer.scala:49)\n\tat org.apache.spark.scheduler.DAGScheduler.abortStage(DAGScheduler.scala:2791)\n\tat org.apache.spark.scheduler.DAGScheduler.$anonfun$handleTaskSetFailed$1(DAGScheduler.scala:1247)\n\tat org.apache.spark.scheduler.DAGScheduler.$anonfun$handleTaskSetFailed$1$adapted(DAGScheduler.scala:1247)\n\tat scala.Option.foreach(Option.scala:407)\n\tat org.apache.spark.scheduler.DAGScheduler.handleTaskSetFailed(DAGScheduler.scala:1247)\n\tat org.apache.spark.scheduler.DAGSchedulerEventProcessLoop.doOnReceive(DAGScheduler.scala:3060)\n\tat org.apache.spark.scheduler.DAGSchedulerEventProcessLoop.onReceive(DAGScheduler.scala:2994)\n\tat org.apache.spark.scheduler.DAGSchedulerEventProcessLoop.onReceive(DAGScheduler.scala:2983)\n\tat org.apache.spark.util.EventLoop$$anon$1.run(EventLoop.scala:49)\nCaused by: org.apache.spark.SparkFileNotFoundException: File file:/mnt/data/public/gdeltv2/gkg/20190802154500.gkg.csv does not exist\nIt is possible the underlying files have been updated. You can explicitly invalidate the cache in Spark by running 'REFRESH TABLE tableName' command in SQL or by recreating the Dataset/DataFrame involved.\n\tat org.apache.spark.sql.errors.QueryExecutionErrors$.readCurrentFileNotFoundError(QueryExecutionErrors.scala:780)\n\tat org.apache.spark.sql.execution.datasources.FileScanRDD$$anon$1.org$apache$spark$sql$execution$datasources$FileScanRDD$$anon$$readCurrentFile(FileScanRDD.scala:220)\n\tat org.apache.spark.sql.execution.datasources.FileScanRDD$$anon$1.nextIterator(FileScanRDD.scala:279)\n\tat org.apache.spark.sql.execution.datasources.FileScanRDD$$anon$1.hasNext(FileScanRDD.scala:129)\n\tat scala.collection.Iterator$$anon$10.hasNext(Iterator.scala:460)\n\tat org.apache.spark.sql.catalyst.expressions.GeneratedClass$GeneratedIteratorForCodegenStage1.hashAgg_doAggregateWithKeys_0$(Unknown Source)\n\tat org.apache.spark.sql.catalyst.expressions.GeneratedClass$GeneratedIteratorForCodegenStage1.processNext(Unknown Source)\n\tat org.apache.spark.sql.execution.BufferedRowIterator.hasNext(BufferedRowIterator.java:43)\n\tat org.apache.spark.sql.execution.WholeStageCodegenEvaluatorFactory$WholeStageCodegenPartitionEvaluator$$anon$1.hasNext(WholeStageCodegenEvaluatorFactory.scala:43)\n\tat scala.collection.Iterator$$anon$10.hasNext(Iterator.scala:460)\n\tat org.apache.spark.shuffle.sort.BypassMergeSortShuffleWriter.write(BypassMergeSortShuffleWriter.java:140)\n\tat org.apache.spark.shuffle.ShuffleWriteProcessor.write(ShuffleWriteProcessor.scala:59)\n\tat org.apache.spark.scheduler.ShuffleMapTask.runTask(ShuffleMapTask.scala:104)\n\tat org.apache.spark.scheduler.ShuffleMapTask.runTask(ShuffleMapTask.scala:54)\n\tat org.apache.spark.TaskContext.runTaskWithListeners(TaskContext.scala:166)\n\tat org.apache.spark.scheduler.Task.run(Task.scala:141)\n\tat org.apache.spark.executor.Executor$TaskRunner.$anonfun$run$4(Executor.scala:620)\n\tat org.apache.spark.util.SparkErrorUtils.tryWithSafeFinally(SparkErrorUtils.scala:64)\n\tat org.apache.spark.util.SparkErrorUtils.tryWithSafeFinally$(SparkErrorUtils.scala:61)\n\tat org.apache.spark.util.Utils$.tryWithSafeFinally(Utils.scala:94)\n\tat org.apache.spark.executor.Executor$TaskRunner.run(Executor.scala:623)\n\tat java.base/java.util.concurrent.ThreadPoolExecutor.runWorker(ThreadPoolExecutor.java:1136)\n\tat java.base/java.util.concurrent.ThreadPoolExecutor$Worker.run(ThreadPoolExecutor.java:635)\n\tat java.base/java.lang.Thread.run(Thread.java:840)\n"
     ]
    }
   ],
   "source": [
    "# Getting an error here idk why\n",
    "(df_ph\n",
    " .groupBy('CountType')\n",
    " .count()\n",
    " .orderBy('count', ascending=False)\n",
    ").toPandas()"
   ]
  },
  {
   "cell_type": "code",
   "execution_count": null,
   "id": "b1c5ba25-df80-413b-afac-f345e8b36ed6",
   "metadata": {},
   "outputs": [],
   "source": []
  }
 ],
 "metadata": {
  "kernelspec": {
   "display_name": "Python 3 (ipykernel)",
   "language": "python",
   "name": "python3"
  },
  "language_info": {
   "codemirror_mode": {
    "name": "ipython",
    "version": 3
   },
   "file_extension": ".py",
   "mimetype": "text/x-python",
   "name": "python",
   "nbconvert_exporter": "python",
   "pygments_lexer": "ipython3",
   "version": "3.11.8"
  }
 },
 "nbformat": 4,
 "nbformat_minor": 5
}
