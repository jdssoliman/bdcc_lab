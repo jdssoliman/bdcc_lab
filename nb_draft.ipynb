{
 "cells": [
  {
   "cell_type": "markdown",
   "id": "ab918798-a580-4da8-9762-af6480bc0712",
   "metadata": {},
   "source": [
    "<div style=\"background-color:#019EDB ; padding: 10px 0;\">\n",
    "    <center><h1 style=\"color: white; font-weight:bold\">ABSTRACT</h1></center>\n",
    "</div> "
   ]
  },
  {
   "cell_type": "code",
   "execution_count": null,
   "id": "871bb8c4-9b91-4ed0-bfc6-36cec1af22d8",
   "metadata": {},
   "outputs": [],
   "source": []
  },
  {
   "cell_type": "code",
   "execution_count": null,
   "id": "2e916212-5074-4264-81b0-277a9df0fbe3",
   "metadata": {},
   "outputs": [],
   "source": [
    "asdasd"
   ]
  },
  {
   "cell_type": "code",
   "execution_count": null,
   "id": "71264221-d450-47e7-bbb6-d76b892520c6",
   "metadata": {},
   "outputs": [],
   "source": [
    "asdasd"
   ]
  },
  {
   "cell_type": "markdown",
   "id": "1c02c169-fc21-40d2-9c76-418c1d41e8aa",
   "metadata": {},
   "source": [
    "<div style=\"background-color:#019EDB ; padding: 10px 0;\">\n",
    "    <center><h1 style=\"color: white; font-weight:bold\">INTRODUCTION</h1></center>\n",
    "</div> "
   ]
  },
  {
   "cell_type": "markdown",
   "id": "765e3478-d416-43ee-a6b5-d7f13fd08d86",
   "metadata": {},
   "source": [
    "<div style=\"background-color:#019EDB ; padding: 10px 0;\">\n",
    "    <center><h2 style=\"color: white; font-weight:bold\">Background</h2></center>\n",
    "</div> "
   ]
  },
  {
   "cell_type": "markdown",
   "id": "40544ca4-46a8-4b8f-af0f-6f8df86f9663",
   "metadata": {},
   "source": [
    "In an era where data-driven decisions are pivotal to success, political campaigns are no exception. Recognizing the power of big data analytics to shape political strategies, this project leverages the Global Database of Events, Language, and Tone (GDELT) to extract actionable insights for future political leaders in the Philippines. By harnessing GDELT's extensive repository of media events and sentiment analyses, the project aims to distill the most pressing issues and public sentiments across the country. This approach ensures that campaign platforms are not only relevant but also resonant with the electorate’s current concerns and needs."
   ]
  },
  {
   "cell_type": "markdown",
   "id": "924d6346-5b2c-4e5d-97aa-c175b2a5ca5c",
   "metadata": {},
   "source": [
    "<div style=\"background-color:#019EDB ; padding: 10px 0;\">\n",
    "    <center><h2 style=\"color: white; font-weight:bold\">Problem Statement</h2></center>\n",
    "</div> "
   ]
  },
  {
   "cell_type": "markdown",
   "id": "250cf2e6-f0ac-4b1f-9b8a-099e5ed850a9",
   "metadata": {},
   "source": [
    "Hello Poj"
   ]
  },
  {
   "cell_type": "markdown",
   "id": "fe0b3f35-17f8-4f0b-a8b1-c41fb7df825e",
   "metadata": {},
   "source": [
    "<div style=\"background-color:#019EDB ; padding: 10px 0;\">\n",
    "    <center><h2 style=\"color: white; font-weight:bold\">Objective</h2></center>\n",
    "</div> "
   ]
  },
  {
   "cell_type": "markdown",
   "id": "73329576-b954-4b6c-93b3-37425aa84175",
   "metadata": {},
   "source": [
    "The goal of this study is to delve deeper into the information provided generously through the GDELT Project and help assist leaders in pivoting their goals and strategies accordingly. \n",
    "The objectives of this is study are as follows: \n",
    "1. asdasd\n",
    "2. asdasd\n",
    "3. asdasd"
   ]
  },
  {
   "cell_type": "markdown",
   "id": "9fd2bf64-5e82-46d2-82ed-9c56382a0b35",
   "metadata": {},
   "source": [
    "<div style=\"background-color:#019EDB ; padding: 10px 0;\">\n",
    "    <center><h1 style=\"color: white; font-weight:bold\">DATA SOURCES and DESCRIPTION</h1></center>\n",
    "</div> "
   ]
  },
  {
   "cell_type": "code",
   "execution_count": null,
   "id": "78d03120-e46a-49c0-adb5-ec734de859b7",
   "metadata": {},
   "outputs": [],
   "source": []
  },
  {
   "cell_type": "markdown",
   "id": "ea8d8747-1e5e-445e-bfad-8dbd8c3611b4",
   "metadata": {},
   "source": [
    "<div style=\"background-color:#019EDB ; padding: 10px 0;\">\n",
    "    <center><h1 style=\"color: white; font-weight:bold\">METHODOLOGY</h1></center>\n",
    "</div> "
   ]
  },
  {
   "cell_type": "code",
   "execution_count": null,
   "id": "f68b7f3c-2ee9-4179-a257-2994d8207437",
   "metadata": {},
   "outputs": [],
   "source": []
  },
  {
   "cell_type": "code",
   "execution_count": null,
   "id": "ea1c781b-02d0-452a-92ec-c52456bc7433",
   "metadata": {},
   "outputs": [],
   "source": []
  },
  {
   "cell_type": "code",
   "execution_count": null,
   "id": "dc05105f-d4bf-4e92-8a3c-6d788fe87b02",
   "metadata": {},
   "outputs": [],
   "source": []
  },
  {
   "cell_type": "code",
   "execution_count": null,
   "id": "bfe50786-13d3-4fbf-90c1-aaae0b0b861e",
   "metadata": {},
   "outputs": [],
   "source": []
  },
  {
   "cell_type": "markdown",
   "id": "ae8ae8d6-fb4a-48e2-a456-fea48e75c5e7",
   "metadata": {},
   "source": [
    "<div style=\"background-color:#019EDB ; padding: 10px 0;\">\n",
    "    <center><h1 style=\"color: white; font-weight:bold\">DATA PREPROCESSING</h1></center>\n",
    "</div> "
   ]
  },
  {
   "cell_type": "markdown",
   "id": "c1d0c634-adf2-4af2-a515-45b40ccb0d24",
   "metadata": {},
   "source": [
    "<div style=\"background-color:#019EDB ; padding: 10px 0;\">\n",
    "    <center><h1 style=\"color: white; font-weight:bold\">EXPLORATORY DATA ANALYSIS</h1></center>\n",
    "</div> "
   ]
  },
  {
   "cell_type": "markdown",
   "id": "9e40322d-53ae-4820-b545-daabac657942",
   "metadata": {},
   "source": [
    "<div style=\"background-color:#019EDB ; padding: 10px 0;\">\n",
    "    <center><h1 style=\"color: white; font-weight:bold\">INSIGHTS</h1></center>\n",
    "</div> "
   ]
  },
  {
   "cell_type": "markdown",
   "id": "5c20f139-e108-4304-8985-bf91573f922c",
   "metadata": {},
   "source": [
    "<div style=\"background-color:#019EDB ; padding: 10px 0;\">\n",
    "    <center><h1 style=\"color: white; font-weight:bold\">RESULTS and DISCUSSIONS</h1></center>\n",
    "</div> "
   ]
  },
  {
   "cell_type": "markdown",
   "id": "6e9bccd6-f6a3-4ba3-95da-e74dcb493a36",
   "metadata": {},
   "source": [
    "<div style=\"background-color:#019EDB ; padding: 10px 0;\">\n",
    "    <center><h1 style=\"color: white; font-weight:bold\">RECOMMENDATIONS</h1></center>\n",
    "</div> "
   ]
  },
  {
   "cell_type": "markdown",
   "id": "367dd6e2-9d9c-44b2-a2e4-43e02e350aa3",
   "metadata": {},
   "source": [
    "<div style=\"background-color:#019EDB ; padding: 10px 0;\">\n",
    "    <center><h1 style=\"color: white; font-weight:bold\">SCOPE & LIMITATIONS</h1></center>\n",
    "</div> "
   ]
  },
  {
   "cell_type": "markdown",
   "id": "a5d0e999-2106-4d83-ac82-a8f41a048c33",
   "metadata": {},
   "source": [
    "<div style=\"background-color:#019EDB ; padding: 10px 0;\">\n",
    "    <center><h1 style=\"color: white; font-weight:bold\">CONCLUSION</h1></center>\n",
    "</div>"
   ]
  },
  {
   "cell_type": "markdown",
   "id": "ec742009-3f51-47f8-ba1e-17f9934a8ce2",
   "metadata": {},
   "source": [
    "<div style=\"background-color:#019EDB ; padding: 10px 0;\">\n",
    "    <center><h1 style=\"color: white; font-weight:bold\">Paula Martinez - Senator</h1></center>\n",
    "</div> "
   ]
  }
 ],
 "metadata": {
  "kernelspec": {
   "display_name": "Python 3 (ipykernel)",
   "language": "python",
   "name": "python3"
  },
  "language_info": {
   "codemirror_mode": {
    "name": "ipython",
    "version": 3
   },
   "file_extension": ".py",
   "mimetype": "text/x-python",
   "name": "python",
   "nbconvert_exporter": "python",
   "pygments_lexer": "ipython3",
   "version": "3.11.8"
  }
 },
 "nbformat": 4,
 "nbformat_minor": 5
}
