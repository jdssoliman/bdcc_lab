{
 "cells": [
  {
   "cell_type": "code",
   "execution_count": 8,
   "id": "a51c8bbe-0c9f-4c28-80c5-677008dc46d5",
   "metadata": {
    "execution": {
     "iopub.execute_input": "2024-05-07T13:52:27.081498Z",
     "iopub.status.busy": "2024-05-07T13:52:27.080801Z",
     "iopub.status.idle": "2024-05-07T13:52:27.471177Z",
     "shell.execute_reply": "2024-05-07T13:52:27.469711Z",
     "shell.execute_reply.started": "2024-05-07T13:52:27.081434Z"
    }
   },
   "outputs": [],
   "source": [
    "import os\n",
    "import zipfile\n",
    "import glob\n",
    "from pyspark.sql.types import (StructType, StructField, StringType,\n",
    "IntegerType, FloatType, TimestampType, LongType)"
   ]
  },
  {
   "cell_type": "markdown",
   "id": "4cbaa30d-6fa2-4b71-bd50-942e0a3275c0",
   "metadata": {},
   "source": [
    "# **Check for missing files**\n",
    "---"
   ]
  },
  {
   "cell_type": "markdown",
   "id": "a77f2fb4-975f-4bfb-94f8-007eb6fcc47e",
   "metadata": {},
   "source": [
    "<b style='color:red'>Insert Jed's Code</b>\n",
    "- ideally the missing files are in a list"
   ]
  },
  {
   "cell_type": "code",
   "execution_count": 2,
   "id": "13d31109-c5e7-4cb9-88fd-d827ed8dad4c",
   "metadata": {
    "execution": {
     "iopub.execute_input": "2024-05-07T13:05:18.801950Z",
     "iopub.status.busy": "2024-05-07T13:05:18.800824Z",
     "iopub.status.idle": "2024-05-07T13:05:19.461311Z",
     "shell.execute_reply": "2024-05-07T13:05:19.460751Z",
     "shell.execute_reply.started": "2024-05-07T13:05:18.801888Z"
    }
   },
   "outputs": [],
   "source": [
    "# Define the target directory\n",
    "target_directory = '/mnt/data/public/gdeltv2/gkg'\n",
    "prefix = '201610'\n",
    "suffix = '.gkg.csv.zip'\n",
    "\n",
    "# List all files in the directory that match the pattern (start with the prefix and end with the suffix)\n",
    "filtered_files = [\n",
    "    file for file in os.listdir(target_directory)\n",
    "    if file.startswith(prefix) and file.endswith(suffix)\n",
    "]"
   ]
  },
  {
   "cell_type": "code",
   "execution_count": 3,
   "id": "6c5e9273-6ae4-4b8b-8127-d1448f7c8ae7",
   "metadata": {
    "execution": {
     "iopub.execute_input": "2024-05-07T13:07:59.502231Z",
     "iopub.status.busy": "2024-05-07T13:07:59.501536Z",
     "iopub.status.idle": "2024-05-07T13:07:59.513902Z",
     "shell.execute_reply": "2024-05-07T13:07:59.513202Z",
     "shell.execute_reply.started": "2024-05-07T13:07:59.502166Z"
    }
   },
   "outputs": [
    {
     "data": {
      "text/plain": [
       "False"
      ]
     },
     "execution_count": 3,
     "metadata": {},
     "output_type": "execute_result"
    }
   ],
   "source": [
    "# Confirm that the missing files identified are indeed not in the directory\n",
    "\n",
    "# Change this to include all\n",
    "'20161002174500.gkg.csv.zip' in filtered_files"
   ]
  },
  {
   "cell_type": "markdown",
   "id": "9c8e1508-8a57-424c-a02c-6ecdf38647dd",
   "metadata": {},
   "source": [
    "# **Unzip the files**\n",
    "---"
   ]
  },
  {
   "cell_type": "code",
   "execution_count": 6,
   "id": "8551db60-76ec-43d6-ab27-2909525988c2",
   "metadata": {
    "execution": {
     "iopub.execute_input": "2024-05-07T13:12:47.519367Z",
     "iopub.status.busy": "2024-05-07T13:12:47.518727Z",
     "iopub.status.idle": "2024-05-07T13:16:52.059701Z",
     "shell.execute_reply": "2024-05-07T13:16:52.057679Z",
     "shell.execute_reply.started": "2024-05-07T13:12:47.519310Z"
    }
   },
   "outputs": [
    {
     "name": "stdout",
     "output_type": "stream",
     "text": [
      "Extraction completed. Files were extracted to: /home/msds2024/pmartinez/cpt1_shared/slt1a/bdcc/201610\n"
     ]
    }
   ],
   "source": [
    "# Define the directory containing the zip files and the pattern to search for\n",
    "zip_directory = '/home/msds2024/pmartinez/cpt1_shared/data'\n",
    "pattern = \"*.gkg.csv.zip\"\n",
    "\n",
    "# Define the output directory where the files will be extracted\n",
    "output_directory = '/home/msds2024/pmartinez/cpt1_shared/slt1a/bdcc/201610'\n",
    "\n",
    "# Create the output directory if it doesn't exist\n",
    "os.makedirs(output_directory, exist_ok=True)\n",
    "\n",
    "# Get a list of all files matching the pattern\n",
    "zip_files = glob.glob(os.path.join(zip_directory, pattern))\n",
    "\n",
    "# Extract each zip file to the output directory\n",
    "for zip_filepath in zip_files:\n",
    "    with zipfile.ZipFile(zip_filepath, 'r') as zip_ref:\n",
    "        zip_ref.extractall(output_directory)\n",
    "\n",
    "print(f\"Extraction completed. Files were extracted to: {output_directory}\")"
   ]
  },
  {
   "cell_type": "markdown",
   "id": "3ebf8ca7-1d2d-444d-b549-4f2bb906817b",
   "metadata": {},
   "source": [
    "# **Check the total file size of the CSV files**\n",
    "---"
   ]
  },
  {
   "cell_type": "code",
   "execution_count": 7,
   "id": "820d458c-04d0-45d6-9c94-119d591069a3",
   "metadata": {
    "execution": {
     "iopub.execute_input": "2024-05-07T13:17:24.791664Z",
     "iopub.status.busy": "2024-05-07T13:17:24.790119Z",
     "iopub.status.idle": "2024-05-07T13:17:25.814755Z",
     "shell.execute_reply": "2024-05-07T13:17:25.813148Z",
     "shell.execute_reply.started": "2024-05-07T13:17:24.791603Z"
    }
   },
   "outputs": [
    {
     "name": "stdout",
     "output_type": "stream",
     "text": [
      "Total size of files in '/home/msds2024/pmartinez/cpt1_shared/slt1a/bdcc/201610': 23.99 GB\n"
     ]
    }
   ],
   "source": [
    "# Define the target directory\n",
    "target_directory = '/home/msds2024/pmartinez/cpt1_shared/slt1a/bdcc/201610'\n",
    "\n",
    "# Initialize a variable to store the total size\n",
    "total_size = 0\n",
    "\n",
    "# Walk through all files and subdirectories in the specified directory\n",
    "for dirpath, dirnames, filenames in os.walk(target_directory):\n",
    "    for file in filenames:\n",
    "        # Get the full path of the file\n",
    "        filepath = os.path.join(dirpath, file)\n",
    "        \n",
    "        # Only consider if it's a file (not a directory), then add its size\n",
    "        if os.path.isfile(filepath):\n",
    "            total_size += os.path.getsize(filepath)\n",
    "\n",
    "# Convert the size to gigabytes (GB)\n",
    "total_size_gb = total_size / (1024 * 1024 * 1024)\n",
    "\n",
    "# Print out the total size in GB\n",
    "print(f\"Total size of files in '{target_directory}': {total_size_gb:.2f} GB\")"
   ]
  },
  {
   "cell_type": "markdown",
   "id": "7f3276ac-fb9a-44c5-bc19-bf46bbf74e56",
   "metadata": {},
   "source": [
    "# **Convert the CSV files to parquet for faster execution**"
   ]
  },
  {
   "cell_type": "code",
   "execution_count": null,
   "id": "6bc4f8d2-0a5b-4f50-ba47-04f1da2b65bf",
   "metadata": {},
   "outputs": [],
   "source": [
    "schema = StructType([\n",
    "    StructField(\"GKGRECORDID\", StringType(), True),\n",
    "    StructField(\"V2.1DATE\", LongType(), True),\n",
    "    StructField(\"V2SOURCECOLLECTIONIDENTIFIER\", IntegerType(), True),\n",
    "    StructField(\"V2SOURCECOMMONNAME\", StringType(), True),\n",
    "    StructField(\"V2DOCUMENTIDENTIFIER\", StringType(), True),\n",
    "    StructField(\"V1COUNTS\", StringType(), True),\n",
    "    StructField(\"V2.1COUNTS\", StringType(), True),\n",
    "    StructField(\"V1THEMES\", StringType(), True),\n",
    "    StructField(\"V2ENHANCEDTHEMES\", StringType(), True),\n",
    "    StructField(\"V1LOCATIONS\", StringType(), True),\n",
    "    StructField(\"V2ENHANCEDLOCATIONS\", StringType(), True),\n",
    "    StructField(\"V1PERSONS\", StringType(), True),\n",
    "    StructField(\"V2ENHANCEDPERSONS\", StringType(), True),\n",
    "    StructField(\"V1ORGANIZATIONS\", StringType(), True),\n",
    "    StructField(\"V2ENHANCEDORGANIZATIONS\", StringType(), True),\n",
    "    StructField(\"V1.5TONE\", FloatType(), True),\n",
    "    StructField(\"V2.1ENHANCEDDATES\", StringType(), True),\n",
    "    StructField(\"V2GCAM\", StringType(), True),\n",
    "    StructField(\"V2.1SHARINGIMAGE\", StringType(), True),\n",
    "    StructField(\"V2.1RELATEDIMAGES\", StringType(), True),\n",
    "    StructField(\"V2.1SOCIALIMAGEEMBEDS\", StringType(), True),\n",
    "    StructField(\"V2.1SOCIALVIDEOEMBEDS\", StringType(), True),\n",
    "    StructField(\"V2.1QUOTATIONS\", StringType(), True),\n",
    "    StructField(\"V2.1ALLNAMES\", StringType(), True),\n",
    "    StructField(\"V2.1AMOUNTS\", StringType(), True),\n",
    "    StructField(\"V2.1TRANSLATIONINFO\", StringType(), True),\n",
    "    StructField(\"V2EXTRASXML\", StringType(), True)\n",
    "])\n",
    "\n",
    "# Define the directory and file pattern\n",
    "directory = '/home/msds2024/pmartinez/cpt1_shared/slt1a/bdcc/201610'\n",
    "file_pattern = '201610*.gkg.csv'\n",
    "search_path = os.path.join(directory, file_pattern)\n",
    "\n",
    "# List all files matching the pattern\n",
    "files = glob.glob(search_path)\n",
    "\n",
    "# Check if any files match the pattern\n",
    "if not files:\n",
    "    print(f\"No files found matching pattern '{file_pattern}' in '{directory}'\")\n",
    "else:\n",
    "    # Read the files into a Spark DataFrame with the specified schema\n",
    "    df_gkg = spark.read.csv(files, sep='\\t', schema=schema)"
   ]
  }
 ],
 "metadata": {
  "kernelspec": {
   "display_name": "Python 3 (ipykernel)",
   "language": "python",
   "name": "python3"
  },
  "language_info": {
   "codemirror_mode": {
    "name": "ipython",
    "version": 3
   },
   "file_extension": ".py",
   "mimetype": "text/x-python",
   "name": "python",
   "nbconvert_exporter": "python",
   "pygments_lexer": "ipython3",
   "version": "3.11.8"
  }
 },
 "nbformat": 4,
 "nbformat_minor": 5
}
