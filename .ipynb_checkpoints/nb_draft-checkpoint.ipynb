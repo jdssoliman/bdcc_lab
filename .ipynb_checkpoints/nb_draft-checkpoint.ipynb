{
 "cells": [
  {
   "cell_type": "markdown",
   "id": "ab918798-a580-4da8-9762-af6480bc0712",
   "metadata": {},
   "source": [
    "<div style=\"background-color:#019EDB ; padding: 10px 0;\">\n",
    "    <center><h1 style=\"color: white; font-weight:bold\">ABSTRACT</h1></center>\n",
    "</div> "
   ]
  },
  {
   "cell_type": "code",
   "execution_count": null,
   "id": "871bb8c4-9b91-4ed0-bfc6-36cec1af22d8",
   "metadata": {},
   "outputs": [],
   "source": []
  },
  {
   "cell_type": "markdown",
   "id": "1c02c169-fc21-40d2-9c76-418c1d41e8aa",
   "metadata": {},
   "source": [
    "<div style=\"background-color:#019EDB ; padding: 10px 0;\">\n",
    "    <center><h1 style=\"color: white; font-weight:bold\">INTRODUCTION</h1></center>\n",
    "</div> "
   ]
  },
  {
   "cell_type": "markdown",
   "id": "765e3478-d416-43ee-a6b5-d7f13fd08d86",
   "metadata": {},
   "source": [
    "<div style=\"background-color:#019EDB ; padding: 10px 0;\">\n",
    "    <center><h2 style=\"color: white; font-weight:bold\">Background</h2></center>\n",
    "</div> "
   ]
  },
  {
   "cell_type": "markdown",
   "id": "40544ca4-46a8-4b8f-af0f-6f8df86f9663",
   "metadata": {},
   "source": [
    "In an era where data-driven decisions are pivotal to success, political campaigns are no exception. Recognizing the power of big data analytics to shape political strategies, this project leverages the Global Database of Events, Language, and Tone (GDELT) to extract actionable insights for future political leaders in the Philippines. By harnessing GDELT's extensive repository of media events and sentiment analyses, the project aims to distill the most pressing issues and public sentiments across the country. This approach ensures that campaign platforms are not only relevant but also resonant with the electorate’s current concerns and needs."
   ]
  },
  {
   "cell_type": "markdown",
   "id": "924d6346-5b2c-4e5d-97aa-c175b2a5ca5c",
   "metadata": {},
   "source": [
    "<div style=\"background-color:#019EDB ; padding: 10px 0;\">\n",
    "    <center><h2 style=\"color: white; font-weight:bold\">Problem Statement</h2></center>\n",
    "</div> "
   ]
  },
  {
   "cell_type": "markdown",
   "id": "250cf2e6-f0ac-4b1f-9b8a-099e5ed850a9",
   "metadata": {},
   "source": [
    "In the digital age, the proliferation of disinformation, particularly through orchestrated campaigns via \"troll farms\", has emerged as a critical challenge in political campaigning across the Philippines and Southeast Asia. These deceptive practices not only distort public perceptions but also undermine the integrity of democratic processes by swaying voter opinions with false narratives. The difficulty lies in the ability of political campaigns to both identify and counteract these disinformation efforts effectively while also promoting genuine and fact-based discourse.\n",
    "\n",
    "This project seeks to address the urgent need for sophisticated data-driven strategies that can discern and mitigate the impact of digital disinformation. Utilizing the extensive monitoring capabilities of GDELT to track media events and sentiment, the study aims to equip political leaders with the tools to identify trends and anomalies in public discourse that may indicate the presence of disinformation. By establishing more transparent and factually accurate communication strategies, aspiring political leaders can enhance their campaign platforms, foster a more informed electorate, and strengthen democratic resilience against the corrosive effects of misinformation."
   ]
  },
  {
   "cell_type": "markdown",
   "id": "fe0b3f35-17f8-4f0b-a8b1-c41fb7df825e",
   "metadata": {},
   "source": [
    "<div style=\"background-color:#019EDB ; padding: 10px 0;\">\n",
    "    <center><h2 style=\"color: white; font-weight:bold\">Objective</h2></center>\n",
    "</div> "
   ]
  },
  {
   "cell_type": "markdown",
   "id": "73329576-b954-4b6c-93b3-37425aa84175",
   "metadata": {},
   "source": [
    "The goal of this study is to delve deeper into the information provided generously through the GDELT Project and help assist leaders in pivoting their goals and strategies accordingly. \n",
    "The objectives of this is study are as follows: \n",
    "1. asdasd\n",
    "2. asdasd\n",
    "3. asdasd"
   ]
  },
  {
   "cell_type": "markdown",
   "id": "9fd2bf64-5e82-46d2-82ed-9c56382a0b35",
   "metadata": {},
   "source": [
    "<div style=\"background-color:#019EDB ; padding: 10px 0;\">\n",
    "    <center><h1 style=\"color: white; font-weight:bold\">DATA SOURCES and DESCRIPTION</h1></center>\n",
    "</div> "
   ]
  },
  {
   "attachments": {},
   "cell_type": "markdown",
   "id": "ee3ebdfb-b5e2-4c71-ac71-7a96b8abc439",
   "metadata": {
    "execution": {
     "iopub.execute_input": "2024-05-05T14:04:37.306458Z",
     "iopub.status.busy": "2024-05-05T14:04:37.305179Z",
     "iopub.status.idle": "2024-05-05T14:04:37.324726Z",
     "shell.execute_reply": "2024-05-05T14:04:37.323385Z",
     "shell.execute_reply.started": "2024-05-05T14:04:37.306393Z"
    }
   },
   "source": [
    "The **GDELT (Global Data of Events, Language, and Tone) Project** is a comprehensive global monitoring system that tracks news content from broadcasters, print media, and websites in numerous languages across almost every country in the world. It employs advanced techniques to identify and extract key elements driving global discourse and events, such as people, locations, organizations, topics, sources, sentiments, numerical data, quotations, images, and events. By continuously processing this immense stream of information on a second-by-second basis, GDELT generates a freely accessible open data platform that enables computational analysis of the world's events, narratives, and societal forces in real-time.\n",
    "\n",
    "GDELT has several [datasets](https://www.gdeltproject.org/data.html). This study specifically uses the **Global Knowledge Graph** (GKG) dataset. GKG enables the representation of the underlying dimensions, geographic patterns, and network structures inherent in global news coverage. It uses sophisticated natural language processing algorithms to compute and encode a  range of codified metadata that captures the latent and contextual aspects of each document. In essence, the GKG interconnects every person, organization, location, numerical data, theme, news source, and event across the globe into a massive unified network. This network captures what is happening worldwide, the associated contexts and involved entities, as well as the sentiments surrounding these events, providing a daily comprehensive view of our global society."
   ]
  },
  {
   "cell_type": "markdown",
   "id": "8f7885a3-d2af-4e24-b403-640e6c5379ae",
   "metadata": {
    "execution": {
     "iopub.execute_input": "2024-05-05T14:04:45.318289Z",
     "iopub.status.busy": "2024-05-05T14:04:45.316912Z",
     "iopub.status.idle": "2024-05-05T14:04:45.325862Z",
     "shell.execute_reply": "2024-05-05T14:04:45.324225Z",
     "shell.execute_reply.started": "2024-05-05T14:04:45.318223Z"
    }
   },
   "source": [
    "<div style=\"background-color:#019EDB ; padding: 10px 0;\">\n",
    "    <center><h1 style=\"color: white; font-weight:bold\">METHODOLOGY</h1></center>\n",
    "</div> "
   ]
  },
  {
   "cell_type": "code",
   "execution_count": null,
   "id": "a31eaeaf-acf2-4782-91ac-364c1178d714",
   "metadata": {},
   "outputs": [],
   "source": []
  },
  {
   "cell_type": "markdown",
   "id": "ae8ae8d6-fb4a-48e2-a456-fea48e75c5e7",
   "metadata": {},
   "source": [
    "<div style=\"background-color:#019EDB ; padding: 10px 0;\">\n",
    "    <center><h1 style=\"color: white; font-weight:bold\">DATA PREPROCESSING</h1></center>\n",
    "</div> "
   ]
  },
  {
   "cell_type": "markdown",
   "id": "c1d0c634-adf2-4af2-a515-45b40ccb0d24",
   "metadata": {},
   "source": [
    "<div style=\"background-color:#019EDB ; padding: 10px 0;\">\n",
    "    <center><h1 style=\"color: white; font-weight:bold\">EXPLORATORY DATA ANALYSIS</h1></center>\n",
    "</div> "
   ]
  },
  {
   "cell_type": "markdown",
   "id": "9e40322d-53ae-4820-b545-daabac657942",
   "metadata": {},
   "source": [
    "<div style=\"background-color:#019EDB ; padding: 10px 0;\">\n",
    "    <center><h1 style=\"color: white; font-weight:bold\">INSIGHTS</h1></center>\n",
    "</div> "
   ]
  },
  {
   "cell_type": "markdown",
   "id": "5c20f139-e108-4304-8985-bf91573f922c",
   "metadata": {},
   "source": [
    "<div style=\"background-color:#019EDB ; padding: 10px 0;\">\n",
    "    <center><h1 style=\"color: white; font-weight:bold\">RESULTS and DISCUSSIONS</h1></center>\n",
    "</div> "
   ]
  },
  {
   "cell_type": "markdown",
   "id": "6e9bccd6-f6a3-4ba3-95da-e74dcb493a36",
   "metadata": {},
   "source": [
    "<div style=\"background-color:#019EDB ; padding: 10px 0;\">\n",
    "    <center><h1 style=\"color: white; font-weight:bold\">RECOMMENDATIONS</h1></center>\n",
    "</div> "
   ]
  },
  {
   "cell_type": "markdown",
   "id": "367dd6e2-9d9c-44b2-a2e4-43e02e350aa3",
   "metadata": {},
   "source": [
    "<div style=\"background-color:#019EDB ; padding: 10px 0;\">\n",
    "    <center><h1 style=\"color: white; font-weight:bold\">SCOPE & LIMITATIONS</h1></center>\n",
    "</div> "
   ]
  },
  {
   "cell_type": "markdown",
   "id": "a5d0e999-2106-4d83-ac82-a8f41a048c33",
   "metadata": {},
   "source": [
    "<div style=\"background-color:#019EDB ; padding: 10px 0;\">\n",
    "    <center><h1 style=\"color: white; font-weight:bold\">CONCLUSION</h1></center>\n",
    "</div>"
   ]
  },
  {
   "cell_type": "markdown",
   "id": "ec742009-3f51-47f8-ba1e-17f9934a8ce2",
   "metadata": {},
   "source": [
    "<div style=\"background-color:#019EDB ; padding: 10px 0;\">\n",
    "    <center><h1 style=\"color: white; font-weight:bold\">Paula Martinez - Senator</h1></center>\n",
    "</div> "
   ]
  },
  {
   "cell_type": "markdown",
   "id": "c8a6b679-2f5b-400e-bf8f-e027c7fd5b57",
   "metadata": {},
   "source": [
    "References:\n",
    "\n",
    "\n",
    "The GDELT Project. (n.d.). [Web page]. Retrieved from https://www.gdeltproject.org/\n",
    "\n",
    "Channel News Asia. (2022). Paid troll army for hire: Philippines' social media elections influencers. [Web page]. Channel News Asia. Retrieved from https://www.channelnewsasia.com/cna-insider/paid-troll-army-hire-philippines-social-media-elections-influencers-2917556\n",
    "\n",
    "Rappler. (n.d.). Investigating troll farms: What to look out for. [Web page]. Retrieved from https://www.rappler.com/newsbreak/iq/investigating-troll-farms-what-to-look-out-for\n"
   ]
  },
  {
   "cell_type": "code",
   "execution_count": null,
   "id": "855fd407-a7ad-46e8-af14-bf96de48736e",
   "metadata": {},
   "outputs": [],
   "source": []
  }
 ],
 "metadata": {
  "kernelspec": {
   "display_name": "Python 3 (ipykernel)",
   "language": "python",
   "name": "python3"
  },
  "language_info": {
   "codemirror_mode": {
    "name": "ipython",
    "version": 3
   },
   "file_extension": ".py",
   "mimetype": "text/x-python",
   "name": "python",
   "nbconvert_exporter": "python",
   "pygments_lexer": "ipython3",
   "version": "3.11.8"
  }
 },
 "nbformat": 4,
 "nbformat_minor": 5
}
